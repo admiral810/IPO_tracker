{
 "cells": [
  {
   "cell_type": "markdown",
   "metadata": {},
   "source": [
    "# Dependencies"
   ]
  },
  {
   "cell_type": "code",
   "execution_count": 1,
   "metadata": {
    "ExecuteTime": {
     "end_time": "2020-07-12T23:19:41.930597Z",
     "start_time": "2020-07-12T23:19:41.433817Z"
    }
   },
   "outputs": [],
   "source": [
    "# import libraries\n",
    "from splinter import Browser\n",
    "from splinter.exceptions import ElementDoesNotExist\n",
    "from bs4 import BeautifulSoup\n",
    "import time"
   ]
  },
  {
   "cell_type": "code",
   "execution_count": 2,
   "metadata": {
    "ExecuteTime": {
     "end_time": "2020-07-12T23:19:42.558308Z",
     "start_time": "2020-07-12T23:19:41.932557Z"
    }
   },
   "outputs": [],
   "source": [
    "# import pandas\n",
    "import pandas as pd "
   ]
  },
  {
   "cell_type": "markdown",
   "metadata": {},
   "source": [
    "# Extract"
   ]
  },
  {
   "cell_type": "markdown",
   "metadata": {},
   "source": [
    "## Scrape IPOs"
   ]
  },
  {
   "cell_type": "code",
   "execution_count": 3,
   "metadata": {
    "ExecuteTime": {
     "end_time": "2020-07-12T23:19:43.458243Z",
     "start_time": "2020-07-12T23:19:42.560259Z"
    }
   },
   "outputs": [
    {
     "data": {
      "text/html": [
       "<div>\n",
       "<style scoped>\n",
       "    .dataframe tbody tr th:only-of-type {\n",
       "        vertical-align: middle;\n",
       "    }\n",
       "\n",
       "    .dataframe tbody tr th {\n",
       "        vertical-align: top;\n",
       "    }\n",
       "\n",
       "    .dataframe thead th {\n",
       "        text-align: right;\n",
       "    }\n",
       "</style>\n",
       "<table border=\"1\" class=\"dataframe\">\n",
       "  <thead>\n",
       "    <tr style=\"text-align: right;\">\n",
       "      <th></th>\n",
       "      <th>Company</th>\n",
       "      <th>Symbol proposed</th>\n",
       "      <th>Lead Managers</th>\n",
       "      <th>Shares (Millions)</th>\n",
       "      <th>Price Low</th>\n",
       "      <th>Price High</th>\n",
       "      <th>Est. $ Volume</th>\n",
       "      <th>Expected to Trade</th>\n",
       "      <th>SCOOP Rating</th>\n",
       "      <th>Rating Change</th>\n",
       "    </tr>\n",
       "  </thead>\n",
       "  <tbody>\n",
       "    <tr>\n",
       "      <td>0</td>\n",
       "      <td>Pershing Square Tontine Holdings</td>\n",
       "      <td>PSTH.U</td>\n",
       "      <td>Citigroup/ Jefferies/ UBS Investment Bank</td>\n",
       "      <td>150.0</td>\n",
       "      <td>20.0</td>\n",
       "      <td>20.0</td>\n",
       "      <td>$ 3000.0 mil</td>\n",
       "      <td>7/13/2020 Week of</td>\n",
       "      <td>S/O</td>\n",
       "      <td>S/O</td>\n",
       "    </tr>\n",
       "    <tr>\n",
       "      <td>1</td>\n",
       "      <td>nCino</td>\n",
       "      <td>NCNO</td>\n",
       "      <td>BofA Securities/ Barclays Capital/ KeyBanc Cap...</td>\n",
       "      <td>7.6</td>\n",
       "      <td>28.0</td>\n",
       "      <td>29.0</td>\n",
       "      <td>$ 217.3 mil</td>\n",
       "      <td>7/14/2020 Tuesday</td>\n",
       "      <td>S/O</td>\n",
       "      <td>S/O</td>\n",
       "    </tr>\n",
       "    <tr>\n",
       "      <td>2</td>\n",
       "      <td>PTK Acquisition</td>\n",
       "      <td>PTK.U</td>\n",
       "      <td>Chardan</td>\n",
       "      <td>10.0</td>\n",
       "      <td>10.0</td>\n",
       "      <td>10.0</td>\n",
       "      <td>$ 100.0 mil</td>\n",
       "      <td>7/14/2020 Tuesday</td>\n",
       "      <td>S/O</td>\n",
       "      <td>S/O</td>\n",
       "    </tr>\n",
       "  </tbody>\n",
       "</table>\n",
       "</div>"
      ],
      "text/plain": [
       "                            Company Symbol proposed  \\\n",
       "0  Pershing Square Tontine Holdings          PSTH.U   \n",
       "1                             nCino            NCNO   \n",
       "2                   PTK Acquisition           PTK.U   \n",
       "\n",
       "                                       Lead Managers  Shares (Millions)  \\\n",
       "0          Citigroup/ Jefferies/ UBS Investment Bank              150.0   \n",
       "1  BofA Securities/ Barclays Capital/ KeyBanc Cap...                7.6   \n",
       "2                                            Chardan               10.0   \n",
       "\n",
       "   Price Low  Price High Est. $ Volume  Expected to Trade SCOOP Rating  \\\n",
       "0       20.0        20.0  $ 3000.0 mil  7/13/2020 Week of          S/O   \n",
       "1       28.0        29.0   $ 217.3 mil  7/14/2020 Tuesday          S/O   \n",
       "2       10.0        10.0   $ 100.0 mil  7/14/2020 Tuesday          S/O   \n",
       "\n",
       "  Rating Change  \n",
       "0           S/O  \n",
       "1           S/O  \n",
       "2           S/O  "
      ]
     },
     "execution_count": 3,
     "metadata": {},
     "output_type": "execute_result"
    }
   ],
   "source": [
    "# IPO Scoop Website\n",
    "ipo_scoop_url = 'https://www.iposcoop.com/'\n",
    "ipo_scoop_ipo = pd.read_html(ipo_scoop_url)\n",
    "ipo_scoop_ipo[0]"
   ]
  },
  {
   "cell_type": "markdown",
   "metadata": {
    "ExecuteTime": {
     "end_time": "2020-07-12T00:23:06.327580Z",
     "start_time": "2020-07-12T00:23:05.337304Z"
    }
   },
   "source": [
    "Need to investigate how to find IPO information and how to pull.  Initially had challenges using pandas to pull tables directly from Nasdaq and NYSE--can investigate other methods for scraping.  Here's some commentary how to find:  https://www.investopedia.com/articles/investing/050115/how-track-upcoming-ipos.asp\n",
    "\n",
    "May also be able to get from yahoo or google finance APIs."
   ]
  },
  {
   "cell_type": "code",
   "execution_count": 4,
   "metadata": {
    "ExecuteTime": {
     "end_time": "2020-07-12T23:19:43.464252Z",
     "start_time": "2020-07-12T23:19:43.460236Z"
    }
   },
   "outputs": [],
   "source": [
    "# Nasdaq Site (this is taking forever to run, maybe pandas won't work here)\n",
    "#ipo_nasdaq_url = \"https://www.nasdaq.com/market-activity/ipos?tab=upcoming\"\n",
    "#ipo_nasdaq_url = pd.read_html(ipo_nasdaq_url)\n",
    "#ipo_nasdaq_url\n"
   ]
  },
  {
   "cell_type": "markdown",
   "metadata": {},
   "source": [
    "## Additional Stock Info"
   ]
  },
  {
   "cell_type": "markdown",
   "metadata": {},
   "source": [
    "Using APIs, get stock info on IPOs.  Then may include thinks like:\n",
    "1. When an IPO is set to lauch\n",
    "2. Market cap (may choose to exclude smaller cap new stocks to limit to biggest and more interesting IPOs)\n",
    "3. Launch date open and close price\n",
    "4. Stock attribute information (tech vs consumer goods vs any summary statement available?)"
   ]
  },
  {
   "cell_type": "markdown",
   "metadata": {},
   "source": [
    "Two potential APIs to try:\n",
    "\n",
    "__Google__  \n",
    "https://pypi.org/project/googlefinance/\n",
    " \n",
    "__Yahoo__  \n",
    "https://github.com/ranaroussi/yfinance  \n",
    "https://towardsdatascience.com/free-stock-data-for-python-using-yahoo-finance-api-9dafd96cad2e  \n",
    "https://rapidapi.com/apidojo/api/yahoo-finance1  \n",
    "\n",
    "__Other__  \n",
    "https://medium.com/@patrick.collins_58673/stock-api-landscape-5c6e054ee631  \n",
    "\n",
    "__Quandl__ (what was used in school)  \n",
    "https://blog.quandl.com/api-for-stock-data"
   ]
  },
  {
   "cell_type": "code",
   "execution_count": 5,
   "metadata": {
    "ExecuteTime": {
     "end_time": "2020-07-12T23:19:45.289358Z",
     "start_time": "2020-07-12T23:19:43.466219Z"
    }
   },
   "outputs": [
    {
     "name": "stdout",
     "output_type": "stream",
     "text": [
      "{'zip': '94043', 'sector': 'Communication Services', 'fullTimeEmployees': 123048, 'longBusinessSummary': 'Alphabet Inc. provides online advertising services in the United States, Europe, the Middle East, Africa, the Asia-Pacific, Canada, and Latin America. It offers performance and brand advertising services. The company operates through Google and Other Bets segments. The Google segment offers products, such as Ads, Android, Chrome, Google Cloud, Google Maps, Google Play, Hardware, Search, and YouTube, as well as technical infrastructure. It also offers digital content, cloud services, hardware devices, and other miscellaneous products and services. The Other Bets segment includes businesses, including Access, Calico, CapitalG, GV, Verily, Waymo, and X, as well as Internet and television services. Alphabet Inc. was founded in 1998 and is headquartered in Mountain View, California.', 'city': 'Mountain View', 'phone': '650-253-0000', 'state': 'CA', 'country': 'United States', 'companyOfficers': [], 'website': 'http://www.abc.xyz', 'maxAge': 1, 'address1': '1600 Amphitheatre Parkway', 'industry': 'Internet Content & Information', 'previousClose': 1510.99, 'regularMarketOpen': 1506.15, 'twoHundredDayAverage': 1360.0924, 'trailingAnnualDividendYield': None, 'payoutRatio': 0, 'volume24Hr': None, 'regularMarketDayHigh': 1543.83, 'navPrice': None, 'averageDailyVolume10Day': 1568433, 'totalAssets': None, 'regularMarketPreviousClose': 1510.99, 'fiftyDayAverage': 1442.3003, 'trailingAnnualDividendRate': None, 'open': 1506.15, 'toCurrency': None, 'averageVolume10days': 1568433, 'expireDate': None, 'yield': None, 'algorithm': None, 'dividendRate': None, 'exDividendDate': None, 'beta': 1.064985, 'circulatingSupply': None, 'startDate': None, 'regularMarketDayLow': 1496.555, 'priceHint': 2, 'currency': 'USD', 'trailingPE': 31.101025, 'regularMarketVolume': 1856704, 'lastMarket': None, 'maxSupply': None, 'openInterest': None, 'marketCap': 1055134515200, 'volumeAllCurrencies': None, 'strikePrice': None, 'averageVolume': 1784184, 'priceToSalesTrailing12Months': 6.3304143, 'dayLow': 1496.555, 'ask': 1544.99, 'ytdReturn': None, 'askSize': 1400, 'volume': 1856704, 'fiftyTwoWeekHigh': 1543.83, 'forwardPE': 27.996006, 'fromCurrency': None, 'fiveYearAvgDividendYield': None, 'fiftyTwoWeekLow': 1013.536, 'bid': 1542.01, 'tradeable': False, 'dividendYield': None, 'bidSize': 2200, 'dayHigh': 1543.83, 'exchange': 'NMS', 'shortName': 'Alphabet Inc.', 'longName': 'Alphabet Inc.', 'exchangeTimezoneName': 'America/New_York', 'exchangeTimezoneShortName': 'EDT', 'isEsgPopulated': False, 'gmtOffSetMilliseconds': '-14400000', 'quoteType': 'EQUITY', 'symbol': 'GOOG', 'messageBoardId': 'finmb_29096', 'market': 'us_market', 'annualHoldingsTurnover': None, 'enterpriseToRevenue': 5.712, 'beta3Year': None, 'profitMargins': 0.20712, 'enterpriseToEbitda': 19.71, '52WeekChange': 0.34024727, 'morningStarRiskRating': None, 'forwardEps': 55.07, 'revenueQuarterlyGrowth': None, 'sharesOutstanding': 336161984, 'fundInceptionDate': None, 'annualReportExpenseRatio': None, 'bookValue': 297.759, 'sharesShort': 3371476, 'sharesPercentSharesOut': 0.0049, 'fundFamily': None, 'lastFiscalYearEnd': 1577750400, 'heldPercentInstitutions': 0.7062, 'netIncomeToCommon': 34522001408, 'trailingEps': 49.572, 'lastDividendValue': None, 'SandP52WeekChange': 0.056643367, 'priceToBook': 5.1778116, 'heldPercentInsiders': 0.05746, 'nextFiscalYearEnd': 1640908800, 'mostRecentQuarter': 1585612800, 'shortRatio': 1.9, 'sharesShortPreviousMonthDate': 1589500800, 'floatShares': 613279652, 'enterpriseValue': 951997890560, 'threeYearAverageReturn': None, 'lastSplitDate': 1430092800, 'lastSplitFactor': '10000000:10000000', 'legalType': None, 'morningStarOverallRating': None, 'earningsQuarterlyGrowth': 0.027, 'dateShortInterest': 1592179200, 'pegRatio': 4.69, 'lastCapGain': None, 'shortPercentOfFloat': None, 'sharesShortPriorMonth': 3462105, 'category': None, 'fiveYearAverageReturn': None, 'regularMarketPrice': 1506.15, 'logo_url': 'https://logo.clearbit.com/abc.xyz'}\n",
      "------------------------\n",
      "Empty DataFrame\n",
      "Columns: [Open, High, Low, Close, Adj Close, Volume]\n",
      "Index: []\n"
     ]
    }
   ],
   "source": [
    "# yahoo finance example\n",
    "\n",
    "import yfinance as yf\n",
    "\n",
    "stock = yf.Ticker(\"GOOG\")\n",
    "\n",
    "# get stock info\n",
    "print(stock.info)\n",
    "print(\"------------------------\")\n",
    "\n",
    "# get financials (returns empty dataframe need to troublshoot) -- also didn't have recent stock like Lemonade (LMND) \n",
    "print(stock.financials)"
   ]
  },
  {
   "cell_type": "code",
   "execution_count": 6,
   "metadata": {
    "ExecuteTime": {
     "end_time": "2020-07-12T23:19:46.231609Z",
     "start_time": "2020-07-12T23:19:45.291299Z"
    }
   },
   "outputs": [
    {
     "name": "stdout",
     "output_type": "stream",
     "text": [
      "[\n",
      "    {\n",
      "        \"ask\": 85.68999999999999772626324556767940521240234375,\n",
      "        \"askSize\": 9,\n",
      "        \"averageDailyVolume10Day\": 7973933,\n",
      "        \"averageDailyVolume3Month\": 7973933,\n",
      "        \"bid\": 85.400000000000005684341886080801486968994140625,\n",
      "        \"bidSize\": 8,\n",
      "        \"bookValue\": null,\n",
      "        \"currency\": \"USD\",\n",
      "        \"dividendDate\": null,\n",
      "        \"earningsTimestamp\": null,\n",
      "        \"earningsTimestampStart\": null,\n",
      "        \"earningsTimestampEnd\": null,\n",
      "        \"epsForward\": null,\n",
      "        \"epsTrailingTwelveMonths\": null,\n",
      "        \"exchange\": \"NYQ\",\n",
      "        \"exchangeDataDelayedBy\": 0,\n",
      "        \"exchangeTimezoneName\": \"America/New_York\",\n",
      "        \"exchangeTimezoneShortName\": \"EDT\",\n",
      "        \"fiftyDayAverage\": 76.594999999999998863131622783839702606201171875,\n",
      "        \"fiftyDayAverageChange\": 8.06500199999999978217601892538368701934814453125,\n",
      "        \"fiftyDayAverageChangePercent\": 0.10529410999999999631882019457407295703887939453125,\n",
      "        \"fiftyTwoWeekHigh\": 96.5100000000000051159076974727213382720947265625,\n",
      "        \"fiftyTwoWeekHighChange\": -11.849997999999999365172698162496089935302734375,\n",
      "        \"fiftyTwoWeekHighChangePercent\": -0.12278519000000000238603803381920442916452884674072265625,\n",
      "        \"fiftyTwoWeekLow\": 49.02000000000000312638803734444081783294677734375,\n",
      "        \"fiftyTwoWeekLowChange\": 35.64000300000000009958966984413564205169677734375,\n",
      "        \"fiftyTwoWeekLowChangePercent\": 0.72705023999999995876208913614391349256038665771484375,\n",
      "        \"financialCurrency\": \"USD\",\n",
      "        \"forwardPE\": null,\n",
      "        \"fullExchangeName\": \"NYSE\",\n",
      "        \"gmtOffSetMilliseconds\": -14400000,\n",
      "        \"language\": \"en-US\",\n",
      "        \"longName\": \"Lemonade, Inc.\",\n",
      "        \"market\": \"us_market\",\n",
      "        \"marketCap\": 4647512576,\n",
      "        \"marketState\": \"CLOSED\",\n",
      "        \"messageBoardId\": \"finmb_318829603\",\n",
      "        \"postMarketChange\": 0.83999634000000000799701638243277557194232940673828125,\n",
      "        \"postMarketChangePercent\": 0.992199700000000017752199710230343043804168701171875,\n",
      "        \"postMarketPrice\": 85.5,\n",
      "        \"postMarketTime\": {\n",
      "            \"date\": \"2020-07-10 23:53:54.000000\",\n",
      "            \"timezone_type\": 1,\n",
      "            \"timezone\": \"+00:00\"\n",
      "        },\n",
      "        \"priceHint\": 2,\n",
      "        \"priceToBook\": null,\n",
      "        \"quoteSourceName\": \"Delayed Quote\",\n",
      "        \"quoteType\": \"EQUITY\",\n",
      "        \"regularMarketChange\": 7.6500015000000001208491084980778396129608154296875,\n",
      "        \"regularMarketChangePercent\": 9.93377699999999919100446277298033237457275390625,\n",
      "        \"regularMarketDayHigh\": 89.5,\n",
      "        \"regularMarketDayLow\": 78,\n",
      "        \"regularMarketOpen\": 78.0100000000000051159076974727213382720947265625,\n",
      "        \"regularMarketPreviousClose\": 77.0100000000000051159076974727213382720947265625,\n",
      "        \"regularMarketPrice\": 84.659999999999996589394868351519107818603515625,\n",
      "        \"regularMarketTime\": {\n",
      "            \"date\": \"2020-07-10 20:00:01.000000\",\n",
      "            \"timezone_type\": 1,\n",
      "            \"timezone\": \"+00:00\"\n",
      "        },\n",
      "        \"regularMarketVolume\": 3731612,\n",
      "        \"sharesOutstanding\": 54896200,\n",
      "        \"shortName\": \"Lemonade, Inc.\",\n",
      "        \"sourceInterval\": 15,\n",
      "        \"symbol\": \"LMND\",\n",
      "        \"tradeable\": false,\n",
      "        \"trailingAnnualDividendRate\": null,\n",
      "        \"trailingAnnualDividendYield\": null,\n",
      "        \"trailingPE\": null,\n",
      "        \"twoHundredDayAverage\": 76.594999999999998863131622783839702606201171875,\n",
      "        \"twoHundredDayAverageChange\": 8.06500199999999978217601892538368701934814453125,\n",
      "        \"twoHundredDayAverageChangePercent\": 0.10529410999999999631882019457407295703887939453125\n",
      "    }\n",
      "]\n"
     ]
    }
   ],
   "source": [
    "# Yahoo test through Rapid API. Note limits is 500 per month and 10 requests per minute, \n",
    "# maybe not best route as pro is $10 per month\n",
    "\n",
    "import requests\n",
    "\n",
    "url = \"https://yahoo-finance15.p.rapidapi.com/api/yahoo/qu/quote/LMND\"\n",
    "x-rapid-key = \"XXXXXXXXXXXXXXXXXXXXXXX\"\n",
    "\n",
    "headers = {\n",
    "    'x-rapidapi-host': \"yahoo-finance15.p.rapidapi.com\",\n",
    "    'x-rapidapi-key': x-rapid-key\n",
    "    }\n",
    "\n",
    "#### un-comment out below to run (commented so don't get too many API calls) ####\n",
    "#response = requests.request(\"GET\", url, headers=headers)\n",
    "\n",
    "print(response.text)"
   ]
  },
  {
   "cell_type": "code",
   "execution_count": 7,
   "metadata": {
    "ExecuteTime": {
     "end_time": "2020-07-12T23:19:46.236573Z",
     "start_time": "2020-07-12T23:19:46.233571Z"
    }
   },
   "outputs": [],
   "source": [
    "# Google test, gets \"forbidden URL error message\"\n",
    "#from googlefinance import getQuotes\n",
    "#import json\n",
    "#json.dumps(getQuotes('AAPL'), indent=2)"
   ]
  },
  {
   "cell_type": "markdown",
   "metadata": {},
   "source": [
    "# Load"
   ]
  },
  {
   "cell_type": "markdown",
   "metadata": {},
   "source": [
    "Get data tranformed into a format we'd want to load to a database (noSQL or SQL).  "
   ]
  },
  {
   "cell_type": "code",
   "execution_count": 17,
   "metadata": {
    "ExecuteTime": {
     "end_time": "2020-07-13T02:16:52.423698Z",
     "start_time": "2020-07-13T02:16:52.412729Z"
    }
   },
   "outputs": [
    {
     "data": {
      "text/html": [
       "<div>\n",
       "<style scoped>\n",
       "    .dataframe tbody tr th:only-of-type {\n",
       "        vertical-align: middle;\n",
       "    }\n",
       "\n",
       "    .dataframe tbody tr th {\n",
       "        vertical-align: top;\n",
       "    }\n",
       "\n",
       "    .dataframe thead th {\n",
       "        text-align: right;\n",
       "    }\n",
       "</style>\n",
       "<table border=\"1\" class=\"dataframe\">\n",
       "  <thead>\n",
       "    <tr style=\"text-align: right;\">\n",
       "      <th></th>\n",
       "      <th>Ticker</th>\n",
       "      <th>Date</th>\n",
       "      <th>Open_Price</th>\n",
       "      <th>Close_Price</th>\n",
       "      <th>Market_Cap</th>\n",
       "    </tr>\n",
       "  </thead>\n",
       "  <tbody>\n",
       "    <tr>\n",
       "      <td>0</td>\n",
       "      <td>AAPL</td>\n",
       "      <td>07012020</td>\n",
       "      <td>88</td>\n",
       "      <td>89</td>\n",
       "      <td>145000</td>\n",
       "    </tr>\n",
       "    <tr>\n",
       "      <td>1</td>\n",
       "      <td>LMND</td>\n",
       "      <td>07012020</td>\n",
       "      <td>38</td>\n",
       "      <td>55</td>\n",
       "      <td>30000</td>\n",
       "    </tr>\n",
       "  </tbody>\n",
       "</table>\n",
       "</div>"
      ],
      "text/plain": [
       "  Ticker      Date  Open_Price  Close_Price  Market_Cap\n",
       "0   AAPL  07012020          88           89      145000\n",
       "1   LMND  07012020          38           55       30000"
      ]
     },
     "execution_count": 17,
     "metadata": {},
     "output_type": "execute_result"
    }
   ],
   "source": [
    "# this is a sample dataframe with fake numbers, may expand columns but this are primary ones needed\n",
    "stock_data = {\"Ticker\": [\"AAPL\", \"LMND\"],\n",
    "              \"Date\": [\"07012020\", \"07012020\"],\n",
    "              \"Open_Price\": [88, 38],\n",
    "              \"Close_Price\": [89, 55],\n",
    "              \"Market_Cap\" : [145000, 30000]\n",
    "             }\n",
    "sample_df = pd.DataFrame(stock_data)\n",
    "sample_df"
   ]
  },
  {
   "cell_type": "markdown",
   "metadata": {},
   "source": [
    "# Analysis"
   ]
  },
  {
   "cell_type": "markdown",
   "metadata": {
    "ExecuteTime": {
     "end_time": "2020-07-12T00:43:57.768672Z",
     "start_time": "2020-07-12T00:43:57.755696Z"
    }
   },
   "source": [
    "Information that may be interesting to share.  Examples include:\n",
    "1. Timing of when it launches, how long its been, etc.\n",
    "2. Price performance\n",
    "    - Launch date open and close price (how they did on first day)\n",
    "    - How did it do when its hit 1 month, 3 month, 6 month, 1 year milestone\n",
    "3. Industry perormance\n",
    "    - Did it outperform the S&P \n",
    "    - Did it outperform they sector (Ex: tech, consumer goods)\n",
    "4. Top performers\n",
    "    - Which IPOs did best in last 1 month, 3 month, 6 month, 1 year milestone"
   ]
  },
  {
   "cell_type": "code",
   "execution_count": 18,
   "metadata": {
    "ExecuteTime": {
     "end_time": "2020-07-13T02:16:54.114567Z",
     "start_time": "2020-07-13T02:16:54.106586Z"
    }
   },
   "outputs": [
    {
     "name": "stdout",
     "output_type": "stream",
     "text": [
      "0    0.011364\n",
      "dtype: float64\n"
     ]
    }
   ],
   "source": [
    "# sample analysis for open to close change for one day\n",
    "appl = sample_df.loc[(sample_df[\"Ticker\"] == \"AAPL\") & (sample_df[\"Date\"] == \"07012020\")]\n",
    "appl_day_change = appl[\"Close_Price\"] / appl[\"Open_Price\"] -1\n",
    "print(appl_day_change)"
   ]
  },
  {
   "cell_type": "code",
   "execution_count": null,
   "metadata": {},
   "outputs": [],
   "source": []
  }
 ],
 "metadata": {
  "kernelspec": {
   "display_name": "Python 3",
   "language": "python",
   "name": "python3"
  },
  "language_info": {
   "codemirror_mode": {
    "name": "ipython",
    "version": 3
   },
   "file_extension": ".py",
   "mimetype": "text/x-python",
   "name": "python",
   "nbconvert_exporter": "python",
   "pygments_lexer": "ipython3",
   "version": "3.7.4"
  },
  "toc": {
   "base_numbering": 1,
   "nav_menu": {},
   "number_sections": true,
   "sideBar": true,
   "skip_h1_title": false,
   "title_cell": "Table of Contents",
   "title_sidebar": "Contents",
   "toc_cell": false,
   "toc_position": {},
   "toc_section_display": true,
   "toc_window_display": true
  },
  "varInspector": {
   "cols": {
    "lenName": 16,
    "lenType": 16,
    "lenVar": 40
   },
   "kernels_config": {
    "python": {
     "delete_cmd_postfix": "",
     "delete_cmd_prefix": "del ",
     "library": "var_list.py",
     "varRefreshCmd": "print(var_dic_list())"
    },
    "r": {
     "delete_cmd_postfix": ") ",
     "delete_cmd_prefix": "rm(",
     "library": "var_list.r",
     "varRefreshCmd": "cat(var_dic_list()) "
    }
   },
   "types_to_exclude": [
    "module",
    "function",
    "builtin_function_or_method",
    "instance",
    "_Feature"
   ],
   "window_display": false
  }
 },
 "nbformat": 4,
 "nbformat_minor": 2
}
