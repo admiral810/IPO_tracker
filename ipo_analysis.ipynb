{
 "cells": [
  {
   "cell_type": "code",
   "execution_count": 1,
   "metadata": {
    "ExecuteTime": {
     "end_time": "2021-02-10T01:05:04.523810Z",
     "start_time": "2021-02-10T01:05:02.614449Z"
    }
   },
   "outputs": [],
   "source": [
    "# import libraries\n",
    "import requests\n",
    "import time\n",
    "from datetime import datetime, date, timedelta\n",
    "import json\n",
    "import sys\n",
    "import random\n",
    "import numpy as np\n",
    "import pandas as pd\n",
    "pd.set_option('display.max_columns', 500)  #allows display of all columns in dfs\n",
    "\n",
    "# matplotlib\n",
    "import matplotlib.pyplot as plt\n",
    "from pandas.plotting import table\n",
    "%matplotlib inline\n",
    "\n",
    "# tells the inline backend to not try to shrink wrap the figures which should fix the wrapped text\n",
    "# https://github.com/matplotlib/matplotlib/issues/10869\n",
    "%config InlineBackend.print_figure_kwargs = {'bbox_inches':None}\n",
    "\n",
    "# seaborn\n",
    "import seaborn as sns\n",
    "colors = [\"#118AB2\", \"#EF476F\", \"#FFD166\", \"#06D6A0\", \"#EE754D\", \"#002E99\"]\n",
    "#plt.style.use('seaborn-whitegrid')\n",
    "\n",
    "# plotly  https://plotly.com/python/figure-factory-table/\n",
    "import plotly.figure_factory as ff\n",
    "\n",
    "# sqlalchemy\n",
    "from sqlalchemy.ext.automap import automap_base\n",
    "from sqlalchemy.orm import Session\n",
    "from sqlalchemy import create_engine"
   ]
  },
  {
   "cell_type": "code",
   "execution_count": 2,
   "metadata": {
    "ExecuteTime": {
     "end_time": "2021-02-10T01:05:04.581331Z",
     "start_time": "2021-02-10T01:05:04.536779Z"
    }
   },
   "outputs": [],
   "source": [
    "# mysql login info\n",
    "sys.path.insert(0, '../../Key')\n",
    "from mysql_secret import dbuser, dbpass, dbhost, dbname\n",
    "engine = create_engine(f'mysql://{dbuser}:{dbpass}@{dbhost}/{dbname}?charset=utf8')"
   ]
  },
  {
   "cell_type": "code",
   "execution_count": 3,
   "metadata": {
    "ExecuteTime": {
     "end_time": "2021-02-10T01:05:04.656036Z",
     "start_time": "2021-02-10T01:05:04.594723Z"
    }
   },
   "outputs": [],
   "source": [
    "# Establish Twitter connection\n",
    "import tweepy\n",
    "\n",
    "# get tweepy credentials\n",
    "sys.path.insert(0, '../../Key')\n",
    "from tweepy_keys import CONSUMER_KEY, CONSUMER_SECRET, ACCESS_KEY, ACCESS_SECRET\n",
    "\n",
    "auth = tweepy.OAuthHandler(CONSUMER_KEY, CONSUMER_SECRET)\n",
    "auth.set_access_token(ACCESS_KEY, ACCESS_SECRET)\n",
    "\n",
    "api = tweepy.API(auth)"
   ]
  },
  {
   "cell_type": "code",
   "execution_count": 4,
   "metadata": {
    "ExecuteTime": {
     "end_time": "2021-02-10T01:05:04.680925Z",
     "start_time": "2021-02-10T01:05:04.676911Z"
    }
   },
   "outputs": [],
   "source": [
    "def flatten_cols(df):\n",
    "    df.columns = [\n",
    "        '_'.join(tuple(map(str, t))).strip() \n",
    "        for t in df.columns.values\n",
    "        ]\n",
    "    return df"
   ]
  },
  {
   "cell_type": "code",
   "execution_count": 5,
   "metadata": {
    "ExecuteTime": {
     "end_time": "2021-02-10T01:05:04.701833Z",
     "start_time": "2021-02-10T01:05:04.695849Z"
    }
   },
   "outputs": [],
   "source": [
    "def remove_comp_suffix(df, company='company'):\n",
    "    \"\"\"Removes traling company name info that takes up space.\"\"\"\n",
    "    remove_text = [' /FL', '/DE', ', Inc.', ' Inc.', ', INC.', ' INC.',' PLC', ', Corp.', 'corp.', ' Corp.', ' CORP.', \n",
    "                   ' CORP',', Ltd', ' Ltd', ' plc',  ' PLC', ' SE']\n",
    "    for t in remove_text:\n",
    "        df[company] = df[company].str.rstrip(t)\n",
    "    \n",
    "    return df    "
   ]
  },
  {
   "cell_type": "markdown",
   "metadata": {
    "ExecuteTime": {
     "end_time": "2021-01-22T02:52:08.776264Z",
     "start_time": "2021-01-22T02:52:08.771272Z"
    }
   },
   "source": [
    "# Upcoming Week Schedule"
   ]
  },
  {
   "cell_type": "code",
   "execution_count": null,
   "metadata": {
    "ExecuteTime": {
     "end_time": "2021-02-09T22:32:54.575393Z",
     "start_time": "2021-02-09T22:32:54.570394Z"
    }
   },
   "outputs": [],
   "source": [
    "# get range for today until one week from today\n",
    "today = date.today()\n",
    "week_from_today = today + timedelta(days=7)\n",
    "\n",
    "#convert to string for query purposes from SQL\n",
    "today = today.strftime(\"%Y-%m-%d\")\n",
    "week_from_today = week_from_today.strftime(\"%Y-%m-%d\")\n",
    "\n",
    "print(f\"{today} to {week_from_today}\")"
   ]
  },
  {
   "cell_type": "code",
   "execution_count": null,
   "metadata": {
    "ExecuteTime": {
     "end_time": "2021-02-09T22:32:55.093134Z",
     "start_time": "2021-02-09T22:32:54.588349Z"
    }
   },
   "outputs": [],
   "source": [
    "connection = engine.connect()\n",
    "tw_ipos_df = pd.read_sql(f\"\"\"\n",
    "    SELECT *\n",
    "    FROM stocks\n",
    "    WHERE priced_date BETWEEN '{today}' and '{week_from_today}'\n",
    "    \"\"\", connection)"
   ]
  },
  {
   "cell_type": "code",
   "execution_count": null,
   "metadata": {
    "ExecuteTime": {
     "end_time": "2021-02-09T22:32:55.173655Z",
     "start_time": "2021-02-09T22:32:55.114054Z"
    }
   },
   "outputs": [],
   "source": [
    "# convert to datetime\n",
    "tw_ipos_df['priced_date'] =  pd.to_datetime(tw_ipos_df['priced_date'])\n",
    "\n",
    "# add column for month day\n",
    "tw_ipos_df[\"price_month_day\"] = tw_ipos_df['priced_date'].dt.strftime('%b %d')\n",
    "\n",
    "# add market cap\n",
    "tw_ipos_df[\"market_cap\"] = (tw_ipos_df['dollar_val_shares'].astype(float)/1000000).round(1).astype(str) + 'M'\n",
    "\n",
    "# filter out SPACS\n",
    "tw_ipos_df = tw_ipos_df.loc[(tw_ipos_df[\"exchange\"] != 'NASDAQ Capital')]\n",
    "tw_ipos_df = tw_ipos_df.loc[~(tw_ipos_df[\"company\"].str.contains(\"Acquisition\", regex=False))]  #any company that contains \"Acquisition\"\n",
    "\n",
    "tw_ipos_df = tw_ipos_df.sort_values(\"priced_date\")\n",
    "\n",
    "# remove inc. and corp. and stuff like that from company name\n",
    "tw_ipos_df = remove_comp_suffix(tw_ipos_df)\n",
    "tw_ipos_df"
   ]
  },
  {
   "cell_type": "code",
   "execution_count": null,
   "metadata": {
    "ExecuteTime": {
     "end_time": "2021-02-09T22:32:55.196142Z",
     "start_time": "2021-02-09T22:32:55.190156Z"
    }
   },
   "outputs": [],
   "source": [
    "random_upcoming_ipo = [\n",
    "    \"check em out I guess\",\n",
    "    \"I dunno who cares\",\n",
    "    \"if you care\",\n",
    "    \"are these good I dunno\",\n",
    "    \"whats the point\",\n",
    "    \"are any good?\",\n",
    "    \"worth buying?\",\n",
    "    \"are they overvalued\",\n",
    "    \"any kewl ones?\",\n",
    "    \"if you wanna dip a toe into em\",\n",
    "    \"could be good or duds\", \n",
    "    \"this week\",\n",
    "    \"... neat\",\n",
    "    \"#stonks lmao right?\",\n",
    "    \"from my robot\",\n",
    "    \"coming at ya\",\n",
    "    \"we'll see I guess\", \n",
    "    \"just cuz\",\n",
    "    \"per the internet\",\n",
    "    \"beep bop Im a robot\",\n",
    "    \"schedule accordingly\",\n",
    "    \"pass... or don't up to you\",\n",
    "    \"at least thats the plan\", \n",
    "    \"have a good week\",\n",
    "    \"kewl kewl kewl\",\n",
    "    \"might buy all or none or some\",\n",
    "    \"thanks for stopping by\"\n",
    "    ]"
   ]
  },
  {
   "cell_type": "code",
   "execution_count": null,
   "metadata": {
    "ExecuteTime": {
     "end_time": "2021-02-09T22:32:55.218091Z",
     "start_time": "2021-02-09T22:32:55.210109Z"
    }
   },
   "outputs": [],
   "source": [
    "# get tweet text \n",
    "tweet_text = f\"Upcoming IPOs {random.choice(random_upcoming_ipo)}\\n\"\n",
    "\n",
    "for row in tw_ipos_df.itertuples():\n",
    "    \n",
    "    # remove .00 from proposed share prices to reduce unecesary characters\n",
    "    psp = row.proposed_share_price.replace(\".00\", \"\")\n",
    "    \n",
    "    # if going to exceed the length of twitter characters allowed then break out of loop\n",
    "    if len(tweet_text) > 245:\n",
    "        break\n",
    "    else:\n",
    "        tweet_text += \"\\n\"\n",
    "        row_text = f\"{row.price_month_day}: ${row.symbol} at ${psp}\" \n",
    "        tweet_text += row_text\n",
    "print(tweet_text)\n",
    "print(f\"******\\nCharacter Count: {len(tweet_text)}\")\n"
   ]
  },
  {
   "cell_type": "code",
   "execution_count": null,
   "metadata": {
    "ExecuteTime": {
     "end_time": "2021-02-09T22:32:58.957640Z",
     "start_time": "2021-02-09T22:32:58.930230Z"
    }
   },
   "outputs": [],
   "source": [
    "# table for tweet image\n",
    "tw_ipos_img_df = tw_ipos_df[['price_month_day', 'symbol', 'company', 'proposed_share_price', 'market_cap']]\n",
    "tw_ipos_img_df['proposed_share_price'] = \"$\" + tw_ipos_img_df['proposed_share_price']\n",
    "tw_ipos_img_df = tw_ipos_img_df.rename(columns={'price_month_day': 'Date',\n",
    "                                                'symbol': 'Symbol',\n",
    "                                                'company': 'Company',\n",
    "                                                'proposed_share_price': 'Proposed Price',\n",
    "                                                'market_cap': 'Market Cap'\n",
    "                                               })\n",
    "tw_ipos_img_df"
   ]
  },
  {
   "cell_type": "code",
   "execution_count": null,
   "metadata": {
    "ExecuteTime": {
     "end_time": "2021-02-09T22:58:17.104077Z",
     "start_time": "2021-02-09T22:58:16.672090Z"
    }
   },
   "outputs": [],
   "source": [
    "# get tweet image\n",
    "# info on how to save static image:  https://plotly.com/python/static-image-export/\n",
    "colorscale = [[0, '#118AB2'],[.5, '#FFFFFF'],[1, '#F2F2F2']]\n",
    "fig =  ff.create_table(tw_ipos_img_df, colorscale=colorscale, height_constant=20)\n",
    "\n",
    "fig.write_image(\"weekly_ipos.png\", scale = 1)\n",
    "fig.show()"
   ]
  },
  {
   "cell_type": "code",
   "execution_count": null,
   "metadata": {
    "ExecuteTime": {
     "end_time": "2021-02-07T21:33:35.851554Z",
     "start_time": "2021-02-07T21:33:35.239055Z"
    }
   },
   "outputs": [],
   "source": [
    "# the name of the media file \n",
    "filename = \"weekly_ipos.png\"\n",
    "\n",
    "# upload the file \n",
    "media = api.media_upload(filename) "
   ]
  },
  {
   "cell_type": "code",
   "execution_count": null,
   "metadata": {
    "ExecuteTime": {
     "end_time": "2021-02-07T21:39:46.031352Z",
     "start_time": "2021-02-07T21:39:45.260176Z"
    }
   },
   "outputs": [],
   "source": [
    "# Send out the tweet\n",
    "api.update_with_media(filename=\"weekly_ipos.png\", media_id=media.media_id, status=tweet_text)"
   ]
  },
  {
   "cell_type": "markdown",
   "metadata": {},
   "source": [
    "# Stock Goes Live Today"
   ]
  },
  {
   "cell_type": "code",
   "execution_count": 6,
   "metadata": {
    "ExecuteTime": {
     "end_time": "2021-02-10T01:05:10.070838Z",
     "start_time": "2021-02-10T01:05:10.065848Z"
    }
   },
   "outputs": [],
   "source": [
    "random_goes_live_today = [\n",
    "    \"see what they're about below\",\n",
    "    \"below are the #things they #do\",\n",
    "    \"here's some more info\",\n",
    "    \"#read about them below\",\n",
    "    \"what are they about? just look below...\",\n",
    "    \"who the heck are they? this is the heck that they are...\",\n",
    "    \"wanna learn more?\",\n",
    "    \"are you gonna buy them or not buy them?\", \n",
    "    \"might buy them or might not...\",\n",
    "    \"this is financial advise (just kidding)\",\n",
    "    \"some things you should know...\",\n",
    "    \"beep bop I'm a robot this is what I know about them\",\n",
    "    \"here's what they do\",\n",
    "    \"check em out\",\n",
    "    \"who cares (if you do here's more on them)\",\n",
    "    \"write up about who they are below\",\n",
    "    \"this is what their business does\", \n",
    "    \"this is what they do\",\n",
    "    \"ok more is below if you care if you don't thats fine too\", \n",
    "    \"thanks for stopping by here's a lil more on them below\",\n",
    "    \"learn more below\"\n",
    "    ]"
   ]
  },
  {
   "cell_type": "code",
   "execution_count": 7,
   "metadata": {
    "ExecuteTime": {
     "end_time": "2021-02-10T01:05:10.342454Z",
     "start_time": "2021-02-10T01:05:10.338458Z"
    }
   },
   "outputs": [],
   "source": [
    "random_end_of_desc = [\n",
    "    \"yada yada yada you get it\",\n",
    "    \"ok look if you're still reading go to their website\",\n",
    "    \"I think we get the point\",\n",
    "    \"you're getting bored that's enough for now\",\n",
    "    \"blah blahhhh blah blahhhh blah we get it #amiright\",\n",
    "    \"well that's most of it\",\n",
    "    \"ok goofballs that's enough for now\",\n",
    "    \"a solid mix of interesting and not interesting!\", \n",
    "    \"okey doke I got it\",\n",
    "    \"you get the picture\",\n",
    "    \"and then there's some more stuff but I digress\",\n",
    "    \"makes sense to me by now\",\n",
    "    \"ok... got it\",\n",
    "    \"neat I guess\",\n",
    "    \"sounds unique or not unique depends who you talk to\",\n",
    "    \"omg WE GET IT\",\n",
    "    \"so that's what they do\", \n",
    "    \"enough story time on them for now\",\n",
    "    \"ugh who cares\", \n",
    "    \"Robot needs a rest that's enough info for now\",\n",
    "]"
   ]
  },
  {
   "cell_type": "code",
   "execution_count": 8,
   "metadata": {
    "ExecuteTime": {
     "end_time": "2021-02-10T01:05:10.797489Z",
     "start_time": "2021-02-10T01:05:10.794467Z"
    }
   },
   "outputs": [],
   "source": [
    "# get todays date\n",
    "today = datetime.today().strftime(\"%Y-%m-%d\")"
   ]
  },
  {
   "cell_type": "code",
   "execution_count": 9,
   "metadata": {
    "ExecuteTime": {
     "end_time": "2021-02-10T01:05:12.144961Z",
     "start_time": "2021-02-10T01:05:11.585853Z"
    }
   },
   "outputs": [
    {
     "data": {
      "text/html": [
       "<div>\n",
       "<style scoped>\n",
       "    .dataframe tbody tr th:only-of-type {\n",
       "        vertical-align: middle;\n",
       "    }\n",
       "\n",
       "    .dataframe tbody tr th {\n",
       "        vertical-align: top;\n",
       "    }\n",
       "\n",
       "    .dataframe thead th {\n",
       "        text-align: right;\n",
       "    }\n",
       "</style>\n",
       "<table border=\"1\" class=\"dataframe\">\n",
       "  <thead>\n",
       "    <tr style=\"text-align: right;\">\n",
       "      <th></th>\n",
       "      <th>symbol</th>\n",
       "      <th>company</th>\n",
       "      <th>exchange</th>\n",
       "      <th>proposed_share_price</th>\n",
       "      <th>shares_offered</th>\n",
       "      <th>priced_date</th>\n",
       "      <th>dollar_val_shares</th>\n",
       "      <th>deal_status</th>\n",
       "      <th>proposed_cap_classifiction</th>\n",
       "      <th>city</th>\n",
       "      <th>state</th>\n",
       "      <th>country</th>\n",
       "      <th>website</th>\n",
       "      <th>industry</th>\n",
       "      <th>sector</th>\n",
       "      <th>business_summary</th>\n",
       "      <th>region</th>\n",
       "    </tr>\n",
       "  </thead>\n",
       "  <tbody>\n",
       "    <tr>\n",
       "      <td>0</td>\n",
       "      <td>ADAG</td>\n",
       "      <td>Adagene Inc.</td>\n",
       "      <td>NASDAQ Global</td>\n",
       "      <td>17.00-19.00</td>\n",
       "      <td>7354000</td>\n",
       "      <td>2021-02-09</td>\n",
       "      <td>160684900.0</td>\n",
       "      <td>expected</td>\n",
       "      <td>Micro-cap</td>\n",
       "      <td>None</td>\n",
       "      <td>None</td>\n",
       "      <td>None</td>\n",
       "      <td>None</td>\n",
       "      <td>None</td>\n",
       "      <td>None</td>\n",
       "      <td>None</td>\n",
       "      <td>NaN</td>\n",
       "    </tr>\n",
       "    <tr>\n",
       "      <td>1</td>\n",
       "      <td>ADRAU</td>\n",
       "      <td>Adara Acquisition Corp.</td>\n",
       "      <td>NYSE MKT</td>\n",
       "      <td>10.00</td>\n",
       "      <td>10000000</td>\n",
       "      <td>2021-02-09</td>\n",
       "      <td>115000000.0</td>\n",
       "      <td>expected</td>\n",
       "      <td>Micro-cap</td>\n",
       "      <td>None</td>\n",
       "      <td>None</td>\n",
       "      <td>None</td>\n",
       "      <td>None</td>\n",
       "      <td>None</td>\n",
       "      <td>None</td>\n",
       "      <td>None</td>\n",
       "      <td>NaN</td>\n",
       "    </tr>\n",
       "    <tr>\n",
       "      <td>2</td>\n",
       "      <td>CPTKU</td>\n",
       "      <td>Crown PropTech Acquisitions</td>\n",
       "      <td>NYSE</td>\n",
       "      <td>10.00</td>\n",
       "      <td>20000000</td>\n",
       "      <td>2021-02-09</td>\n",
       "      <td>230000000.0</td>\n",
       "      <td>expected</td>\n",
       "      <td>Micro-cap</td>\n",
       "      <td>None</td>\n",
       "      <td>None</td>\n",
       "      <td>None</td>\n",
       "      <td>None</td>\n",
       "      <td>None</td>\n",
       "      <td>None</td>\n",
       "      <td>None</td>\n",
       "      <td>NaN</td>\n",
       "    </tr>\n",
       "    <tr>\n",
       "      <td>3</td>\n",
       "      <td>LDI</td>\n",
       "      <td>loanDepot, Inc.</td>\n",
       "      <td>NYSE</td>\n",
       "      <td>19.00-21.00</td>\n",
       "      <td>15000000</td>\n",
       "      <td>2021-02-09</td>\n",
       "      <td>362250000.0</td>\n",
       "      <td>expected</td>\n",
       "      <td>Small-cap</td>\n",
       "      <td>Foothill Ranch</td>\n",
       "      <td>CA</td>\n",
       "      <td>United States</td>\n",
       "      <td>http://www.loandepot.com</td>\n",
       "      <td>Mortgage Finance</td>\n",
       "      <td>Financial Services</td>\n",
       "      <td>loanDepot, Inc. engages in the origination and...</td>\n",
       "      <td>Foothill Ranch, CA</td>\n",
       "    </tr>\n",
       "  </tbody>\n",
       "</table>\n",
       "</div>"
      ],
      "text/plain": [
       "  symbol                      company       exchange proposed_share_price  \\\n",
       "0   ADAG                 Adagene Inc.  NASDAQ Global          17.00-19.00   \n",
       "1  ADRAU      Adara Acquisition Corp.       NYSE MKT                10.00   \n",
       "2  CPTKU  Crown PropTech Acquisitions           NYSE                10.00   \n",
       "3    LDI              loanDepot, Inc.           NYSE          19.00-21.00   \n",
       "\n",
       "   shares_offered priced_date  dollar_val_shares deal_status  \\\n",
       "0         7354000  2021-02-09        160684900.0    expected   \n",
       "1        10000000  2021-02-09        115000000.0    expected   \n",
       "2        20000000  2021-02-09        230000000.0    expected   \n",
       "3        15000000  2021-02-09        362250000.0    expected   \n",
       "\n",
       "  proposed_cap_classifiction            city state        country  \\\n",
       "0                  Micro-cap            None  None           None   \n",
       "1                  Micro-cap            None  None           None   \n",
       "2                  Micro-cap            None  None           None   \n",
       "3                  Small-cap  Foothill Ranch    CA  United States   \n",
       "\n",
       "                    website          industry              sector  \\\n",
       "0                      None              None                None   \n",
       "1                      None              None                None   \n",
       "2                      None              None                None   \n",
       "3  http://www.loandepot.com  Mortgage Finance  Financial Services   \n",
       "\n",
       "                                    business_summary              region  \n",
       "0                                               None                 NaN  \n",
       "1                                               None                 NaN  \n",
       "2                                               None                 NaN  \n",
       "3  loanDepot, Inc. engages in the origination and...  Foothill Ranch, CA  "
      ]
     },
     "execution_count": 9,
     "metadata": {},
     "output_type": "execute_result"
    }
   ],
   "source": [
    "# get stocks that go live today\n",
    "engine = create_engine(f'mysql://{dbuser}:{dbpass}@{dbhost}/{dbname}?charset=utf8')\n",
    "connection = engine.connect()\n",
    "df = pd.read_sql(f\"\"\"\n",
    "    SELECT s.*, \n",
    "        ci.city, \n",
    "        ci.state,\n",
    "        ci.country,\n",
    "        ci.website, \n",
    "        ci.industry,\n",
    "        ci.sector, \n",
    "        ci.business_summary\n",
    "    FROM stocks s\n",
    "    LEFT JOIN company_info ci\n",
    "        ON s.symbol = ci.symbol\n",
    "    WHERE priced_date = '{today}'\n",
    "        AND exchange <> 'NASDAQ Capital'\"\"\", connection)\n",
    "connection.close()\n",
    "df['region'] = np.where(df['country']=='United States', df['city'] + \", \" + df['state'], \n",
    "                        df['city'] + \", \" + df['country'])\n",
    "df"
   ]
  },
  {
   "cell_type": "code",
   "execution_count": 21,
   "metadata": {
    "ExecuteTime": {
     "end_time": "2021-02-10T01:11:45.356199Z",
     "start_time": "2021-02-10T01:11:45.327276Z"
    }
   },
   "outputs": [
    {
     "data": {
      "text/html": [
       "<div>\n",
       "<style scoped>\n",
       "    .dataframe tbody tr th:only-of-type {\n",
       "        vertical-align: middle;\n",
       "    }\n",
       "\n",
       "    .dataframe tbody tr th {\n",
       "        vertical-align: top;\n",
       "    }\n",
       "\n",
       "    .dataframe thead th {\n",
       "        text-align: right;\n",
       "    }\n",
       "</style>\n",
       "<table border=\"1\" class=\"dataframe\">\n",
       "  <thead>\n",
       "    <tr style=\"text-align: right;\">\n",
       "      <th></th>\n",
       "      <th>symbol</th>\n",
       "      <th>company</th>\n",
       "      <th>exchange</th>\n",
       "      <th>proposed_share_price</th>\n",
       "      <th>shares_offered</th>\n",
       "      <th>priced_date</th>\n",
       "      <th>dollar_val_shares</th>\n",
       "      <th>deal_status</th>\n",
       "      <th>proposed_cap_classifiction</th>\n",
       "      <th>city</th>\n",
       "      <th>state</th>\n",
       "      <th>country</th>\n",
       "      <th>website</th>\n",
       "      <th>industry</th>\n",
       "      <th>sector</th>\n",
       "      <th>business_summary</th>\n",
       "      <th>region</th>\n",
       "    </tr>\n",
       "  </thead>\n",
       "  <tbody>\n",
       "    <tr>\n",
       "      <td>3</td>\n",
       "      <td>LDI</td>\n",
       "      <td>loanDepot, Inc.</td>\n",
       "      <td>NYSE</td>\n",
       "      <td>19.00-21.00</td>\n",
       "      <td>15000000</td>\n",
       "      <td>2021-02-09</td>\n",
       "      <td>362250000.0</td>\n",
       "      <td>expected</td>\n",
       "      <td>Small-cap</td>\n",
       "      <td>Foothill Ranch</td>\n",
       "      <td>CA</td>\n",
       "      <td>United States</td>\n",
       "      <td>http://www.loandepot.com</td>\n",
       "      <td>Mortgage Finance</td>\n",
       "      <td>Financial Services</td>\n",
       "      <td>loanDepot, Inc. engages in the origination and...</td>\n",
       "      <td>Foothill Ranch, CA</td>\n",
       "    </tr>\n",
       "  </tbody>\n",
       "</table>\n",
       "</div>"
      ],
      "text/plain": [
       "  symbol          company exchange proposed_share_price  shares_offered  \\\n",
       "3    LDI  loanDepot, Inc.     NYSE          19.00-21.00        15000000   \n",
       "\n",
       "  priced_date  dollar_val_shares deal_status proposed_cap_classifiction  \\\n",
       "3  2021-02-09        362250000.0    expected                  Small-cap   \n",
       "\n",
       "             city state        country                   website  \\\n",
       "3  Foothill Ranch    CA  United States  http://www.loandepot.com   \n",
       "\n",
       "           industry              sector  \\\n",
       "3  Mortgage Finance  Financial Services   \n",
       "\n",
       "                                    business_summary              region  \n",
       "3  loanDepot, Inc. engages in the origination and...  Foothill Ranch, CA  "
      ]
     },
     "execution_count": 21,
     "metadata": {},
     "output_type": "execute_result"
    }
   ],
   "source": [
    "# filter out SPACS\n",
    "df = df.loc[(df[\"exchange\"] != 'NASDAQ Capital')]\n",
    "df = df.loc[~(df[\"company\"].str.contains(\"Acquisition\", regex=False))]  #any company that contains \"Acquisition\"\n",
    "\n",
    "# keep only ones that have region and industry\n",
    "df = df.dropna(subset=['region', 'industry'])\n",
    "df               "
   ]
  },
  {
   "cell_type": "code",
   "execution_count": 22,
   "metadata": {
    "ExecuteTime": {
     "end_time": "2021-02-10T01:11:45.676419Z",
     "start_time": "2021-02-10T01:11:45.669473Z"
    }
   },
   "outputs": [
    {
     "data": {
      "text/plain": [
       "1"
      ]
     },
     "execution_count": 22,
     "metadata": {},
     "output_type": "execute_result"
    }
   ],
   "source": [
    "row_count = len(df.index)\n",
    "row_count"
   ]
  },
  {
   "cell_type": "code",
   "execution_count": 30,
   "metadata": {
    "ExecuteTime": {
     "end_time": "2021-02-10T01:16:12.065132Z",
     "start_time": "2021-02-10T01:16:09.550099Z"
    }
   },
   "outputs": [
    {
     "data": {
      "image/png": "[encoded data removed]",
      "text/plain": [
       "<Figure size 432x288 with 1 Axes>"
      ]
     },
     "metadata": {
      "needs_background": "light"
     },
     "output_type": "display_data"
    }
   ],
   "source": [
    "if row_count > 0:\n",
    "    for row in df.itertuples():\n",
    "        \n",
    "        symbol = row.symbol\n",
    "        company = row.company\n",
    "        industry = row.industry.lower()\n",
    "        region = row.region\n",
    "        business_summary = \"\\n\\n\\n\" + row.business_summary\n",
    "        business_summary.replace('\\\\n', '\\n')\n",
    "        \n",
    "        # get tweet text\n",
    "        tweet_text = f\"{company} ${symbol} should trade today, a {industry} company out of {region} ... {random.choice(random_goes_live_today)}\"\n",
    "        \n",
    "        # text for image of company description\n",
    "        description = business_summary + \" \" + random.choice(random_end_of_desc)\n",
    "        \n",
    "        # company description image\n",
    "        fig = plt.figure(figsize=(6,4))\n",
    "        ax = fig.add_subplot(111)\n",
    "        ax.axis([0, 10, 0, 10])\n",
    "        ax.text(5, 10, description, fontsize=12, style='normal', ha='center',\n",
    "                 va='top', wrap=True, bbox={'facecolor': 'none', 'edgecolor': 'none', 'alpha': 0.2, 'pad': 5})\n",
    "        ax.spines['top'].set_visible(False)\n",
    "        ax.spines['right'].set_visible(False)\n",
    "        ax.spines['left'].set_visible(False)\n",
    "        ax.spines['bottom'].set_visible(False)\n",
    "        ax.axes.xaxis.set_visible(False)\n",
    "        ax.axes.yaxis.set_visible(False)\n",
    "        plt.savefig('comp_desc.png')\n",
    "        plt.show\n",
    "\n",
    "        # the name of the media file \n",
    "        filename = \"comp_desc.png\"\n",
    "\n",
    "        # upload the file \n",
    "        media = api.media_upload(filename) \n",
    "        \n",
    "        # Send out the tweet\n",
    "        api.update_with_media(filename=\"comp_desc.png\", media_id=media.media_id, status=tweet_text)\n",
    "        \n",
    "        time.sleep(1)"
   ]
  },
  {
   "cell_type": "markdown",
   "metadata": {},
   "source": [
    "# Performance Analysis"
   ]
  },
  {
   "cell_type": "code",
   "execution_count": null,
   "metadata": {
    "ExecuteTime": {
     "end_time": "2021-01-17T18:15:58.624687Z",
     "start_time": "2021-01-17T18:15:51.616781Z"
    }
   },
   "outputs": [],
   "source": [
    "connection = engine.connect()\n",
    "ipo_df = pd.read_sql(\"SELECT * FROM ipo_tracker.vw_stocks_performance\", connection)\n",
    "connection.close()\n",
    "ipo_df.head()"
   ]
  },
  {
   "cell_type": "markdown",
   "metadata": {},
   "source": [
    "## Sector and Industry"
   ]
  },
  {
   "cell_type": "code",
   "execution_count": null,
   "metadata": {
    "ExecuteTime": {
     "end_time": "2020-12-31T14:23:14.290757Z",
     "start_time": "2020-12-31T14:23:14.251834Z"
    }
   },
   "outputs": [],
   "source": [
    "# remove stocks with None or blank as sector / industry\n",
    "si_data_df = ipo_df[(ipo_df[\"industry\"].notnull()) & (ipo_df[\"industry\"] != \"\")\n",
    "            & (ipo_df[\"sector\"].notnull()) & (ipo_df[\"sector\"] != \"\")]\n",
    "si_data_df.head(2)"
   ]
  },
  {
   "cell_type": "markdown",
   "metadata": {},
   "source": [
    "### Sector by Year"
   ]
  },
  {
   "cell_type": "code",
   "execution_count": null,
   "metadata": {
    "ExecuteTime": {
     "end_time": "2020-12-31T14:23:14.322895Z",
     "start_time": "2020-12-31T14:23:14.293698Z"
    }
   },
   "outputs": [],
   "source": [
    "sector_by_year_df = si_data_df.pivot_table(index='sector', columns='first_trade_year', \n",
    "                                    aggfunc={\"symbol\": 'count'})\n",
    "sector_by_year_df = sector_by_year_df.fillna(0).sort_values(by=sector_by_year_df.columns[-1], ascending=True)\n",
    "\n",
    "# pass to function to flatten columns\n",
    "sector_by_year_df = flatten_cols(sector_by_year_df)\n",
    "sector_by_year_df\n"
   ]
  },
  {
   "cell_type": "code",
   "execution_count": null,
   "metadata": {
    "ExecuteTime": {
     "end_time": "2020-12-31T18:57:34.403154Z",
     "start_time": "2020-12-31T18:57:34.152757Z"
    }
   },
   "outputs": [],
   "source": [
    "ax = sector_by_year_df.plot(kind=\"barh\", figsize=(8,7), color=colors, zorder=3, width=0.75)\n",
    "ax.grid(which=\"major\", axis='both', color='#e6e6e6', zorder=0)\n",
    "ax.legend([2018, 2019, 2020])\n",
    "ax.set_ylabel(f'Sector', fontsize=12)\n",
    "ax.set_xlabel(f'IPOs Count', fontsize=12)\n",
    "ax.set_title(\"IPO Count by Sector\", fontsize=20)\n",
    "plt.show()"
   ]
  },
  {
   "cell_type": "markdown",
   "metadata": {},
   "source": [
    "## Top Performing n Period"
   ]
  },
  {
   "cell_type": "markdown",
   "metadata": {},
   "source": [
    "Values for analysis"
   ]
  },
  {
   "cell_type": "code",
   "execution_count": null,
   "metadata": {
    "ExecuteTime": {
     "end_time": "2020-12-31T16:03:46.461356Z",
     "start_time": "2020-12-31T16:03:46.455369Z"
    }
   },
   "outputs": [],
   "source": [
    "# example stock to view\n",
    "stock_symbol = 'ABCM' "
   ]
  },
  {
   "cell_type": "markdown",
   "metadata": {},
   "source": [
    "Data preparation"
   ]
  },
  {
   "cell_type": "code",
   "execution_count": null,
   "metadata": {
    "ExecuteTime": {
     "end_time": "2020-12-31T17:08:22.969708Z",
     "start_time": "2020-12-31T17:08:22.927786Z"
    }
   },
   "outputs": [],
   "source": [
    "# add price change column\n",
    "sa_df = ipo_df.copy()\n",
    "sa_df[\"first_close_to_rec_close\"] = sa_df[\"most_recent_close\"] / sa_df[\"first_day_close\"] - 1\n",
    "sa_df.head(5)"
   ]
  },
  {
   "cell_type": "code",
   "execution_count": null,
   "metadata": {
    "ExecuteTime": {
     "end_time": "2020-12-31T17:38:40.905108Z",
     "start_time": "2020-12-31T17:38:40.888140Z"
    }
   },
   "outputs": [],
   "source": [
    "# get sector for stock of interest\n",
    "stock_sector = sa_df.loc[sa_df[\"symbol\"] == stock_symbol][\"sector\"].iloc[0]\n",
    "print(f\"{stock_symbol} is in the {stock_sector} sector\")\n",
    "\n",
    "# get industry for stock of interest\n",
    "stock_industry = sa_df.loc[sa_df[\"symbol\"] == stock_symbol][\"industry\"].iloc[0]\n",
    "print(f\"{stock_symbol} is in the {stock_industry} industry\")\n",
    "\n",
    "# get market cap classification for stock of interest\n",
    "stock_market_cap = sa_df.loc[sa_df[\"symbol\"] == stock_symbol][\"market_cap_classification\"].iloc[0]\n",
    "print(f\"{stock_symbol} is a {stock_market_cap} market cap\")"
   ]
  },
  {
   "cell_type": "code",
   "execution_count": null,
   "metadata": {
    "ExecuteTime": {
     "end_time": "2020-12-31T19:06:59.625500Z",
     "start_time": "2020-12-31T19:06:59.578627Z"
    }
   },
   "outputs": [],
   "source": [
    "# create new columns for vizualization\n",
    "# sector\n",
    "conditions = [(sa_df[\"symbol\"] == stock_symbol), (sa_df[\"sector\"] == stock_sector)]\n",
    "choices = [stock_symbol, stock_sector]\n",
    "sa_df[\"Stock Sector\"] = np.select(conditions, choices, \"Other\")\n",
    "\n",
    "# industry\n",
    "conditions = [(sa_df[\"symbol\"] == stock_symbol), (sa_df[\"industry\"] == stock_industry)]\n",
    "choices = [stock_symbol, stock_industry]\n",
    "sa_df[\"Stock Industry\"] = np.select(conditions, choices, \"Other\")\n",
    "\n",
    "# market cap\n",
    "conditions = [(sa_df[\"symbol\"] == stock_symbol), (sa_df[\"industry\"] == stock_market_cap)]\n",
    "choices = [stock_symbol, stock_market_cap]\n",
    "sa_df[\"Stock Market Cap\"] = np.select(conditions, choices, \"Other\")\n",
    "\n",
    "sa_df.head(2)"
   ]
  },
  {
   "cell_type": "code",
   "execution_count": null,
   "metadata": {
    "ExecuteTime": {
     "end_time": "2020-12-31T19:13:38.817633Z",
     "start_time": "2020-12-31T19:13:38.740851Z"
    }
   },
   "outputs": [],
   "source": [
    "# data for plotting sector in similar market cap\n",
    "sa_mc_df = sa_df[sa_df[\"market_cap_classification\"] == stock_market_cap]\n",
    "sa_mc_df"
   ]
  },
  {
   "cell_type": "code",
   "execution_count": null,
   "metadata": {
    "ExecuteTime": {
     "end_time": "2021-01-02T12:47:48.404361Z",
     "start_time": "2021-01-02T12:47:47.795941Z"
    }
   },
   "outputs": [],
   "source": [
    "# Plot\n",
    "colors = [\"#118AB2\", \"#EF476F\", \"#d9d9d9\"]\n",
    "sns.lmplot('days_trading', 'first_close_to_rec_close', data=sa_mc_df, hue='Stock Sector', \n",
    "           palette=colors[0:3], scatter_kws={\"s\": 100}, fit_reg=True, height=6, aspect=1.6)\n",
    "plt.title(\"Performance Over Time\", fontsize=20)\n",
    "plt.suptitle(f\"{stock_market_cap} IPOs\", fontsize=15)\n",
    "plt.ylabel(\"YOY Change\")\n",
    "plt.xlabel(\"Days Trading\")\n",
    "plt.grid(which=\"major\", axis='both', color='#e6e6e6', zorder=0)\n"
   ]
  },
  {
   "cell_type": "code",
   "execution_count": null,
   "metadata": {
    "ExecuteTime": {
     "end_time": "2020-12-31T19:02:46.738442Z",
     "start_time": "2020-12-31T19:02:46.543932Z"
    }
   },
   "outputs": [],
   "source": [
    "# remove stocks with None or blank as sector / industry\n",
    "ax1 = sa_df.plot(kind=\"scatter\", x=\"market_cap\", y=\"first_close_to_rec_close\", c=colors[0], figsize=(8,7), zorder=3)\n",
    "ax.margins(0.05)"
   ]
  },
  {
   "cell_type": "code",
   "execution_count": null,
   "metadata": {
    "ExecuteTime": {
     "end_time": "2020-12-31T18:04:24.381347Z",
     "start_time": "2020-12-31T18:04:23.070832Z"
    }
   },
   "outputs": [],
   "source": [
    "sns.relplot(\n",
    "    data=sa_df,\n",
    "    x=\"days_trading\", y=\"first_close_to_rec_close\", col=\"market_cap_classification\", col_wrap=3,\n",
    "    hue=\"Stock Sector\", palette=colors[0:3]\n",
    ")"
   ]
  },
  {
   "cell_type": "code",
   "execution_count": null,
   "metadata": {},
   "outputs": [],
   "source": []
  },
  {
   "cell_type": "code",
   "execution_count": null,
   "metadata": {},
   "outputs": [],
   "source": [
    "## More on creating text in matplotlib images\n",
    "# import matplotlib\n",
    "# import matplotlib.pyplot as plt\n",
    "\n",
    "# fig = plt.figure()\n",
    "# fig.suptitle('bold figure suptitle', fontsize=14, fontweight='bold')\n",
    "\n",
    "# ax = fig.add_subplot(111)\n",
    "# fig.subplots_adjust(top=0.85)\n",
    "# ax.set_title('axes title')\n",
    "\n",
    "# ax.set_xlabel('xlabel')\n",
    "# ax.set_ylabel('ylabel')\n",
    "\n",
    "# ax.text(3, 8, 'boxed italics text in data coords', style='italic',\n",
    "#         bbox={'facecolor': 'red', 'alpha': 0.5, 'pad': 10})\n",
    "\n",
    "# ax.text(2, 6, r'an equation: $E=mc^2$', fontsize=15)\n",
    "\n",
    "# ax.text(3, 2, 'unicode: Institut für Festkörperphysik')\n",
    "\n",
    "# ax.text(0.95, 0.01, 'colored text in axes coords',\n",
    "#         verticalalignment='bottom', horizontalalignment='right',\n",
    "#         transform=ax.transAxes,\n",
    "#         color='green', fontsize=15)\n",
    "\n",
    "\n",
    "# ax.plot([2], [1], 'o')\n",
    "# ax.annotate('annotate', xy=(2, 1), xytext=(3, 4),\n",
    "#             arrowprops=dict(facecolor='black', shrink=0.05))\n",
    "\n",
    "# ax.axis([0, 10, 0, 10])\n",
    "\n",
    "# plt.show()"
   ]
  },
  {
   "cell_type": "code",
   "execution_count": null,
   "metadata": {},
   "outputs": [],
   "source": [
    "# # table image with mpl option\n",
    "# https://stackoverflow.com/questions/19726663/how-to-save-the-pandas-dataframe-series-data-as-a-figure\n",
    "\n",
    "# import pandas as pd\n",
    "# import numpy as np\n",
    "# import matplotlib.pyplot as plt\n",
    "\n",
    "# df = pd.DataFrame()\n",
    "# df['date'] = ['2016-04-01', '2016-04-02', '2016-04-03']\n",
    "# df['calories'] = [2200, 2100, 1500]\n",
    "# df['sleep hours'] = [8, 7.5, 8.2]\n",
    "# df['gym'] = [True, False, False]\n",
    "\n",
    "# def render_mpl_table(data, col_width=3.0, row_height=0.625, font_size=12,\n",
    "#                      header_color='#118AB2', row_colors=['#f1f1f2', 'w'], edge_color='w',\n",
    "#                      bbox=[0, 0, 1, 1], header_columns=0,\n",
    "#                      ax=None, **kwargs):\n",
    "#     if ax is None:\n",
    "#         size = (np.array(data.shape[::-1]) + np.array([0, 1])) * np.array([col_width, row_height])\n",
    "#         fig, ax = plt.subplots(figsize=size)\n",
    "#         ax.axis('off')\n",
    "#     mpl_table = ax.table(cellText=data.values, bbox=bbox, colLabels=data.columns, **kwargs)\n",
    "#     mpl_table.auto_set_font_size(False)\n",
    "#     mpl_table.set_fontsize(font_size)\n",
    "\n",
    "#     for k, cell in mpl_table._cells.items():\n",
    "#         cell.set_edgecolor(edge_color)\n",
    "#         if k[0] == 0 or k[1] < header_columns:\n",
    "#             cell.set_text_props(weight='bold', color='w')\n",
    "#             cell.set_facecolor(header_color)\n",
    "#         else:\n",
    "#             cell.set_facecolor(row_colors[k[0]%len(row_colors) ])\n",
    "#     return ax.get_figure(), ax\n",
    "\n",
    "# fig,ax = render_mpl_table(tw_ipos_img_df, header_columns=0, col_width=2.5)\n",
    "# fig.savefig(\"table_mpl.png\")"
   ]
  }
 ],
 "metadata": {
  "kernelspec": {
   "display_name": "Python 3",
   "language": "python",
   "name": "python3"
  },
  "language_info": {
   "codemirror_mode": {
    "name": "ipython",
    "version": 3
   },
   "file_extension": ".py",
   "mimetype": "text/x-python",
   "name": "python",
   "nbconvert_exporter": "python",
   "pygments_lexer": "ipython3",
   "version": "3.7.4"
  },
  "toc": {
   "base_numbering": 1,
   "nav_menu": {},
   "number_sections": true,
   "sideBar": true,
   "skip_h1_title": false,
   "title_cell": "Table of Contents",
   "title_sidebar": "Contents",
   "toc_cell": false,
   "toc_position": {
    "height": "calc(100% - 180px)",
    "left": "10px",
    "top": "150px",
    "width": "245px"
   },
   "toc_section_display": true,
   "toc_window_display": true
  },
  "varInspector": {
   "cols": {
    "lenName": 16,
    "lenType": 16,
    "lenVar": 40
   },
   "kernels_config": {
    "python": {
     "delete_cmd_postfix": "",
     "delete_cmd_prefix": "del ",
     "library": "var_list.py",
     "varRefreshCmd": "print(var_dic_list())"
    },
    "r": {
     "delete_cmd_postfix": ") ",
     "delete_cmd_prefix": "rm(",
     "library": "var_list.r",
     "varRefreshCmd": "cat(var_dic_list()) "
    }
   },
   "types_to_exclude": [
    "module",
    "function",
    "builtin_function_or_method",
    "instance",
    "_Feature"
   ],
   "window_display": false
  }
 },
 "nbformat": 4,
 "nbformat_minor": 2
}
