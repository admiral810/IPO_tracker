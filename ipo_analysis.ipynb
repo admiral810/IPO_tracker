{
 "cells": [
  {
   "cell_type": "code",
   "execution_count": 75,
   "metadata": {
    "ExecuteTime": {
     "end_time": "2021-02-07T21:25:06.140111Z",
     "start_time": "2021-02-07T21:25:06.128117Z"
    }
   },
   "outputs": [],
   "source": [
    "# import libraries\n",
    "import requests\n",
    "import time\n",
    "from datetime import datetime, date, timedelta\n",
    "import json\n",
    "import sys\n",
    "import random\n",
    "import numpy as np\n",
    "import pandas as pd\n",
    "pd.set_option('display.max_columns', 500)  #allows display of all columns in dfs\n",
    "\n",
    "# matplotlib\n",
    "import matplotlib.pyplot as plt\n",
    "from pandas.plotting import table\n",
    "%matplotlib inline\n",
    "\n",
    "# seaborn\n",
    "import seaborn as sns\n",
    "colors = [\"#118AB2\", \"#EF476F\", \"#FFD166\", \"#06D6A0\", \"#EE754D\", \"#002E99\"]\n",
    "#plt.style.use('seaborn-whitegrid')\n",
    "\n",
    "# plotly  https://plotly.com/python/figure-factory-table/\n",
    "import plotly.figure_factory as ff\n",
    "\n",
    "# sqlalchemy\n",
    "from sqlalchemy.ext.automap import automap_base\n",
    "from sqlalchemy.orm import Session\n",
    "from sqlalchemy import create_engine"
   ]
  },
  {
   "cell_type": "code",
   "execution_count": 2,
   "metadata": {
    "ExecuteTime": {
     "end_time": "2021-02-07T16:51:39.815525Z",
     "start_time": "2021-02-07T16:51:36.247943Z"
    }
   },
   "outputs": [],
   "source": [
    "# mysql login info\n",
    "sys.path.insert(0, '../../Key')\n",
    "from mysql_secret import dbuser, dbpass, dbhost, dbname\n",
    "engine = create_engine(f'mysql://{dbuser}:{dbpass}@{dbhost}/{dbname}?charset=utf8')"
   ]
  },
  {
   "cell_type": "code",
   "execution_count": 3,
   "metadata": {
    "ExecuteTime": {
     "end_time": "2021-02-07T16:51:39.839428Z",
     "start_time": "2021-02-07T16:51:39.833444Z"
    }
   },
   "outputs": [],
   "source": [
    "def flatten_cols(df):\n",
    "    df.columns = [\n",
    "        '_'.join(tuple(map(str, t))).strip() \n",
    "        for t in df.columns.values\n",
    "        ]\n",
    "    return df"
   ]
  },
  {
   "cell_type": "code",
   "execution_count": 69,
   "metadata": {
    "ExecuteTime": {
     "end_time": "2021-02-07T20:55:35.460051Z",
     "start_time": "2021-02-07T20:55:35.452072Z"
    }
   },
   "outputs": [],
   "source": [
    "def remove_comp_suffix(df, company='company'):\n",
    "    \"\"\"Removes traling company name info that takes up space.\"\"\"\n",
    "    remove_text = [' /FL', '/DE', ', Inc.', ' Inc.', ', INC.', ' INC.',' PLC', ', Corp.', 'corp.', ' Corp.', ' CORP.', \n",
    "                   ' CORP',', Ltd', ' Ltd', ' plc',  ' PLC', ' SE']\n",
    "    for t in remove_text:\n",
    "        df[company] = df[company].str.rstrip(t)\n",
    "    \n",
    "    return df    "
   ]
  },
  {
   "cell_type": "code",
   "execution_count": 90,
   "metadata": {
    "ExecuteTime": {
     "end_time": "2021-02-07T21:33:08.509658Z",
     "start_time": "2021-02-07T21:33:08.502642Z"
    }
   },
   "outputs": [],
   "source": [
    "# Establish Twitter connection\n",
    "import tweepy\n",
    "\n",
    "# get tweepy credentials\n",
    "sys.path.insert(0, '../../Key')\n",
    "from tweepy_keys import CONSUMER_KEY, CONSUMER_SECRET, ACCESS_KEY, ACCESS_SECRET\n",
    "\n",
    "auth = tweepy.OAuthHandler(CONSUMER_KEY, CONSUMER_SECRET)\n",
    "auth.set_access_token(ACCESS_KEY, ACCESS_SECRET)\n",
    "\n",
    "api = tweepy.API(auth)"
   ]
  },
  {
   "cell_type": "markdown",
   "metadata": {
    "ExecuteTime": {
     "end_time": "2021-01-22T02:52:08.776264Z",
     "start_time": "2021-01-22T02:52:08.771272Z"
    }
   },
   "source": [
    "# Upcoming Week Schedule"
   ]
  },
  {
   "cell_type": "code",
   "execution_count": 63,
   "metadata": {
    "ExecuteTime": {
     "end_time": "2021-02-07T20:55:21.318081Z",
     "start_time": "2021-02-07T20:55:21.313060Z"
    }
   },
   "outputs": [
    {
     "name": "stdout",
     "output_type": "stream",
     "text": [
      "2021-02-07 to 2021-02-14\n"
     ]
    }
   ],
   "source": [
    "# get range for today until one week from today\n",
    "today = date.today()\n",
    "week_from_today = today + timedelta(days=7)\n",
    "\n",
    "#convert to string for query purposes from SQL\n",
    "today = today.strftime(\"%Y-%m-%d\")\n",
    "week_from_today = week_from_today.strftime(\"%Y-%m-%d\")\n",
    "\n",
    "print(f\"{today} to {week_from_today}\")"
   ]
  },
  {
   "cell_type": "code",
   "execution_count": 64,
   "metadata": {
    "ExecuteTime": {
     "end_time": "2021-02-07T20:55:21.615688Z",
     "start_time": "2021-02-07T20:55:21.527870Z"
    }
   },
   "outputs": [],
   "source": [
    "connection = engine.connect()\n",
    "tw_ipos_df = pd.read_sql(f\"\"\"\n",
    "    SELECT *\n",
    "    FROM stocks\n",
    "    WHERE priced_date BETWEEN '{today}' and '{week_from_today}'\n",
    "    \"\"\", connection)"
   ]
  },
  {
   "cell_type": "code",
   "execution_count": 71,
   "metadata": {
    "ExecuteTime": {
     "end_time": "2021-02-07T21:01:51.047153Z",
     "start_time": "2021-02-07T21:01:51.013280Z"
    }
   },
   "outputs": [
    {
     "data": {
      "text/html": [
       "<div>\n",
       "<style scoped>\n",
       "    .dataframe tbody tr th:only-of-type {\n",
       "        vertical-align: middle;\n",
       "    }\n",
       "\n",
       "    .dataframe tbody tr th {\n",
       "        vertical-align: top;\n",
       "    }\n",
       "\n",
       "    .dataframe thead th {\n",
       "        text-align: right;\n",
       "    }\n",
       "</style>\n",
       "<table border=\"1\" class=\"dataframe\">\n",
       "  <thead>\n",
       "    <tr style=\"text-align: right;\">\n",
       "      <th></th>\n",
       "      <th>symbol</th>\n",
       "      <th>company</th>\n",
       "      <th>exchange</th>\n",
       "      <th>proposed_share_price</th>\n",
       "      <th>shares_offered</th>\n",
       "      <th>priced_date</th>\n",
       "      <th>dollar_val_shares</th>\n",
       "      <th>deal_status</th>\n",
       "      <th>proposed_cap_classifiction</th>\n",
       "      <th>price_month_day</th>\n",
       "      <th>market_cap</th>\n",
       "    </tr>\n",
       "  </thead>\n",
       "  <tbody>\n",
       "    <tr>\n",
       "      <td>0</td>\n",
       "      <td>ADAG</td>\n",
       "      <td>Adagene</td>\n",
       "      <td>NASDAQ Global</td>\n",
       "      <td>17.00-19.00</td>\n",
       "      <td>7354000</td>\n",
       "      <td>2021-02-09</td>\n",
       "      <td>1.606849e+08</td>\n",
       "      <td>expected</td>\n",
       "      <td>Micro-cap</td>\n",
       "      <td>Feb 09</td>\n",
       "      <td>160.7M</td>\n",
       "    </tr>\n",
       "    <tr>\n",
       "      <td>4</td>\n",
       "      <td>DSP</td>\n",
       "      <td>Viant Technology</td>\n",
       "      <td>NASDAQ Global</td>\n",
       "      <td>19.00-21.00</td>\n",
       "      <td>7500000</td>\n",
       "      <td>2021-02-10</td>\n",
       "      <td>1.811250e+08</td>\n",
       "      <td>expected</td>\n",
       "      <td>Micro-cap</td>\n",
       "      <td>Feb 10</td>\n",
       "      <td>181.1M</td>\n",
       "    </tr>\n",
       "    <tr>\n",
       "      <td>1</td>\n",
       "      <td>APR</td>\n",
       "      <td>Apria</td>\n",
       "      <td>NASDAQ Global Select</td>\n",
       "      <td>19.00-21.00</td>\n",
       "      <td>7500000</td>\n",
       "      <td>2021-02-11</td>\n",
       "      <td>1.811250e+08</td>\n",
       "      <td>expected</td>\n",
       "      <td>Micro-cap</td>\n",
       "      <td>Feb 11</td>\n",
       "      <td>181.1M</td>\n",
       "    </tr>\n",
       "    <tr>\n",
       "      <td>3</td>\n",
       "      <td>BMBL</td>\n",
       "      <td>Bumble</td>\n",
       "      <td>NASDAQ Global Select</td>\n",
       "      <td>28.00-30.00</td>\n",
       "      <td>34500000</td>\n",
       "      <td>2021-02-11</td>\n",
       "      <td>1.190250e+09</td>\n",
       "      <td>expected</td>\n",
       "      <td>Small-cap</td>\n",
       "      <td>Feb 11</td>\n",
       "      <td>1190.2M</td>\n",
       "    </tr>\n",
       "    <tr>\n",
       "      <td>6</td>\n",
       "      <td>SGFY</td>\n",
       "      <td>Signify Health</td>\n",
       "      <td>NYSE</td>\n",
       "      <td>17.00-19.00</td>\n",
       "      <td>23500000</td>\n",
       "      <td>2021-02-11</td>\n",
       "      <td>5.134750e+08</td>\n",
       "      <td>expected</td>\n",
       "      <td>Small-cap</td>\n",
       "      <td>Feb 11</td>\n",
       "      <td>513.5M</td>\n",
       "    </tr>\n",
       "  </tbody>\n",
       "</table>\n",
       "</div>"
      ],
      "text/plain": [
       "  symbol           company              exchange proposed_share_price  \\\n",
       "0   ADAG           Adagene         NASDAQ Global          17.00-19.00   \n",
       "4    DSP  Viant Technology         NASDAQ Global          19.00-21.00   \n",
       "1    APR             Apria  NASDAQ Global Select          19.00-21.00   \n",
       "3   BMBL            Bumble  NASDAQ Global Select          28.00-30.00   \n",
       "6   SGFY    Signify Health                  NYSE          17.00-19.00   \n",
       "\n",
       "   shares_offered priced_date  dollar_val_shares deal_status  \\\n",
       "0         7354000  2021-02-09       1.606849e+08    expected   \n",
       "4         7500000  2021-02-10       1.811250e+08    expected   \n",
       "1         7500000  2021-02-11       1.811250e+08    expected   \n",
       "3        34500000  2021-02-11       1.190250e+09    expected   \n",
       "6        23500000  2021-02-11       5.134750e+08    expected   \n",
       "\n",
       "  proposed_cap_classifiction price_month_day market_cap  \n",
       "0                  Micro-cap          Feb 09     160.7M  \n",
       "4                  Micro-cap          Feb 10     181.1M  \n",
       "1                  Micro-cap          Feb 11     181.1M  \n",
       "3                  Small-cap          Feb 11    1190.2M  \n",
       "6                  Small-cap          Feb 11     513.5M  "
      ]
     },
     "execution_count": 71,
     "metadata": {},
     "output_type": "execute_result"
    }
   ],
   "source": [
    "# convert to datetime\n",
    "tw_ipos_df['priced_date'] =  pd.to_datetime(tw_ipos_df['priced_date'])\n",
    "\n",
    "# add column for month day\n",
    "tw_ipos_df[\"price_month_day\"] = tw_ipos_df['priced_date'].dt.strftime('%b %d')\n",
    "\n",
    "# add market cap\n",
    "tw_ipos_df[\"market_cap\"] = (tw_ipos_df['dollar_val_shares'].astype(float)/1000000).round(1).astype(str) + 'M'\n",
    "\n",
    "# filter out SPACS\n",
    "tw_ipos_df = tw_ipos_df.loc[(tw_ipos_df[\"exchange\"] != 'NASDAQ Capital')]\n",
    "tw_ipos_df = tw_ipos_df.loc[~(tw_ipos_df[\"company\"].str.contains(\"Acquisition\", regex=False))]  #any company that contains \"Acquisition\"\n",
    "\n",
    "tw_ipos_df = tw_ipos_df.sort_values(\"priced_date\")\n",
    "\n",
    "# remove inc. and corp. and stuff like that from company name\n",
    "tw_ipos_df = remove_comp_suffix(tw_ipos_df)\n",
    "tw_ipos_df"
   ]
  },
  {
   "cell_type": "code",
   "execution_count": 78,
   "metadata": {
    "ExecuteTime": {
     "end_time": "2021-02-07T21:25:42.181035Z",
     "start_time": "2021-02-07T21:25:42.177013Z"
    }
   },
   "outputs": [],
   "source": [
    "random_upcoming_ipo = [\n",
    "    \"check em out I guess\",\n",
    "    \"I dunno who cares\",\n",
    "    \"if you care\",\n",
    "    \"are these good I dunno\",\n",
    "    \"whats the point\",\n",
    "    \"are any good?\",\n",
    "    \"worth buying?\",\n",
    "    \"are they overvalued\",\n",
    "    \"any kewl ones?\",\n",
    "    \"if you wanna dip a toe into em\",\n",
    "    \"could be good or duds\", \n",
    "    \"this week\",\n",
    "    \"... neat\",\n",
    "    \"#stonks lmao right?\",\n",
    "    \"from my robot\",\n",
    "    \"coming at ya\",\n",
    "    \"we'll see I guess\", \n",
    "    \"just cuz\",\n",
    "    \"per the internet\",\n",
    "    \"beep bop Im a robot\",\n",
    "    \"schedule accordingly\",\n",
    "    \"pass... or don't up to you\",\n",
    "    \"at least thats the plan\", \n",
    "    \"have a good week\",\n",
    "    \"kewl kewl kewl\",\n",
    "    \"might buy all or none or some\",\n",
    "    \"thanks for stopping by\"\n",
    "    ]"
   ]
  },
  {
   "cell_type": "code",
   "execution_count": 87,
   "metadata": {
    "ExecuteTime": {
     "end_time": "2021-02-07T21:27:58.821115Z",
     "start_time": "2021-02-07T21:27:58.812108Z"
    }
   },
   "outputs": [
    {
     "name": "stdout",
     "output_type": "stream",
     "text": [
      "Upcoming IPOs coming at ya\n",
      "\n",
      "Feb 09: $ADAG at $17-19\n",
      "Feb 10: $DSP at $19-21\n",
      "Feb 11: $APR at $19-21\n",
      "Feb 11: $BMBL at $28-30\n",
      "Feb 11: $SGFY at $17-19\n",
      "******\n",
      "Character Count: 145\n"
     ]
    }
   ],
   "source": [
    "# get tweet text \n",
    "tweet_text = f\"Upcoming IPOs {random.choice(random_upcoming_ipo)}\\n\"\n",
    "for row in tw_ipos_df.itertuples():\n",
    "    \n",
    "    # remove .00 from proposed share prices to reduce unecesary characters\n",
    "    psp = row.proposed_share_price.replace(\".00\", \"\")\n",
    "    \n",
    "    tweet_text += \"\\n\"\n",
    "    row_text = f\"{row.price_month_day}: ${row.symbol} at ${psp}\" \n",
    "    tweet_text += row_text\n",
    "print(tweet_text)\n",
    "print(f\"******\\nCharacter Count: {len(tweet_text)}\")\n"
   ]
  },
  {
   "cell_type": "code",
   "execution_count": 88,
   "metadata": {
    "ExecuteTime": {
     "end_time": "2021-02-07T21:28:18.656716Z",
     "start_time": "2021-02-07T21:28:18.636733Z"
    }
   },
   "outputs": [
    {
     "data": {
      "text/html": [
       "<div>\n",
       "<style scoped>\n",
       "    .dataframe tbody tr th:only-of-type {\n",
       "        vertical-align: middle;\n",
       "    }\n",
       "\n",
       "    .dataframe tbody tr th {\n",
       "        vertical-align: top;\n",
       "    }\n",
       "\n",
       "    .dataframe thead th {\n",
       "        text-align: right;\n",
       "    }\n",
       "</style>\n",
       "<table border=\"1\" class=\"dataframe\">\n",
       "  <thead>\n",
       "    <tr style=\"text-align: right;\">\n",
       "      <th></th>\n",
       "      <th>Date</th>\n",
       "      <th>Symbol</th>\n",
       "      <th>Company</th>\n",
       "      <th>Proposed Price</th>\n",
       "      <th>Market Cap</th>\n",
       "    </tr>\n",
       "  </thead>\n",
       "  <tbody>\n",
       "    <tr>\n",
       "      <td>0</td>\n",
       "      <td>Feb 09</td>\n",
       "      <td>ADAG</td>\n",
       "      <td>Adagene</td>\n",
       "      <td>$17.00-19.00</td>\n",
       "      <td>160.7M</td>\n",
       "    </tr>\n",
       "    <tr>\n",
       "      <td>4</td>\n",
       "      <td>Feb 10</td>\n",
       "      <td>DSP</td>\n",
       "      <td>Viant Technology</td>\n",
       "      <td>$19.00-21.00</td>\n",
       "      <td>181.1M</td>\n",
       "    </tr>\n",
       "    <tr>\n",
       "      <td>1</td>\n",
       "      <td>Feb 11</td>\n",
       "      <td>APR</td>\n",
       "      <td>Apria</td>\n",
       "      <td>$19.00-21.00</td>\n",
       "      <td>181.1M</td>\n",
       "    </tr>\n",
       "    <tr>\n",
       "      <td>3</td>\n",
       "      <td>Feb 11</td>\n",
       "      <td>BMBL</td>\n",
       "      <td>Bumble</td>\n",
       "      <td>$28.00-30.00</td>\n",
       "      <td>1190.2M</td>\n",
       "    </tr>\n",
       "    <tr>\n",
       "      <td>6</td>\n",
       "      <td>Feb 11</td>\n",
       "      <td>SGFY</td>\n",
       "      <td>Signify Health</td>\n",
       "      <td>$17.00-19.00</td>\n",
       "      <td>513.5M</td>\n",
       "    </tr>\n",
       "  </tbody>\n",
       "</table>\n",
       "</div>"
      ],
      "text/plain": [
       "     Date Symbol           Company Proposed Price Market Cap\n",
       "0  Feb 09   ADAG           Adagene   $17.00-19.00     160.7M\n",
       "4  Feb 10    DSP  Viant Technology   $19.00-21.00     181.1M\n",
       "1  Feb 11    APR             Apria   $19.00-21.00     181.1M\n",
       "3  Feb 11   BMBL            Bumble   $28.00-30.00    1190.2M\n",
       "6  Feb 11   SGFY    Signify Health   $17.00-19.00     513.5M"
      ]
     },
     "execution_count": 88,
     "metadata": {},
     "output_type": "execute_result"
    }
   ],
   "source": [
    "# table for tweet image\n",
    "tw_ipos_img_df = tw_ipos_df[['price_month_day', 'symbol', 'company', 'proposed_share_price', 'market_cap']]\n",
    "tw_ipos_img_df['proposed_share_price'] = \"$\" + tw_ipos_img_df['proposed_share_price']\n",
    "tw_ipos_img_df = tw_ipos_img_df.rename(columns={'price_month_day': 'Date',\n",
    "                                                'symbol': 'Symbol',\n",
    "                                                'company': 'Company',\n",
    "                                                'proposed_share_price': 'Proposed Price',\n",
    "                                                'market_cap': 'Market Cap'\n",
    "                                               })\n",
    "tw_ipos_img_df"
   ]
  },
  {
   "cell_type": "code",
   "execution_count": 92,
   "metadata": {
    "ExecuteTime": {
     "end_time": "2021-02-07T21:33:34.411714Z",
     "start_time": "2021-02-07T21:33:34.249148Z"
    }
   },
   "outputs": [
    {
     "data": {
      "application/vnd.plotly.v1+json": {
       "config": {
        "plotlyServerURL": "https://plot.ly"
       },
       "data": [
        {
         "colorscale": [
          [
           0,
           "#118AB2"
          ],
          [
           0.5,
           "#FFFFFF"
          ],
          [
           1,
           "#F2F2F2"
          ]
         ],
         "hoverinfo": "none",
         "opacity": 0.75,
         "showscale": false,
         "type": "heatmap",
         "z": [
          [
           0,
           0,
           0,
           0,
           0
          ],
          [
           0.5,
           0.5,
           0.5,
           0.5,
           0.5
          ],
          [
           1,
           1,
           1,
           1,
           1
          ],
          [
           0.5,
           0.5,
           0.5,
           0.5,
           0.5
          ],
          [
           1,
           1,
           1,
           1,
           1
          ],
          [
           0.5,
           0.5,
           0.5,
           0.5,
           0.5
          ]
         ]
        }
       ],
       "layout": {
        "annotations": [
         {
          "align": "left",
          "font": {
           "color": "#ffffff"
          },
          "showarrow": false,
          "text": "<b>Date</b>",
          "x": -0.45,
          "xanchor": "left",
          "xref": "x",
          "y": 0,
          "yref": "y"
         },
         {
          "align": "left",
          "font": {
           "color": "#ffffff"
          },
          "showarrow": false,
          "text": "<b>Symbol</b>",
          "x": 0.55,
          "xanchor": "left",
          "xref": "x",
          "y": 0,
          "yref": "y"
         },
         {
          "align": "left",
          "font": {
           "color": "#ffffff"
          },
          "showarrow": false,
          "text": "<b>Company</b>",
          "x": 1.55,
          "xanchor": "left",
          "xref": "x",
          "y": 0,
          "yref": "y"
         },
         {
          "align": "left",
          "font": {
           "color": "#ffffff"
          },
          "showarrow": false,
          "text": "<b>Proposed Price</b>",
          "x": 2.55,
          "xanchor": "left",
          "xref": "x",
          "y": 0,
          "yref": "y"
         },
         {
          "align": "left",
          "font": {
           "color": "#ffffff"
          },
          "showarrow": false,
          "text": "<b>Market Cap</b>",
          "x": 3.55,
          "xanchor": "left",
          "xref": "x",
          "y": 0,
          "yref": "y"
         },
         {
          "align": "left",
          "font": {
           "color": "#000000"
          },
          "showarrow": false,
          "text": "Feb 09",
          "x": -0.45,
          "xanchor": "left",
          "xref": "x",
          "y": 1,
          "yref": "y"
         },
         {
          "align": "left",
          "font": {
           "color": "#000000"
          },
          "showarrow": false,
          "text": "ADAG",
          "x": 0.55,
          "xanchor": "left",
          "xref": "x",
          "y": 1,
          "yref": "y"
         },
         {
          "align": "left",
          "font": {
           "color": "#000000"
          },
          "showarrow": false,
          "text": "Adagene",
          "x": 1.55,
          "xanchor": "left",
          "xref": "x",
          "y": 1,
          "yref": "y"
         },
         {
          "align": "left",
          "font": {
           "color": "#000000"
          },
          "showarrow": false,
          "text": "$17.00-19.00",
          "x": 2.55,
          "xanchor": "left",
          "xref": "x",
          "y": 1,
          "yref": "y"
         },
         {
          "align": "left",
          "font": {
           "color": "#000000"
          },
          "showarrow": false,
          "text": "160.7M",
          "x": 3.55,
          "xanchor": "left",
          "xref": "x",
          "y": 1,
          "yref": "y"
         },
         {
          "align": "left",
          "font": {
           "color": "#000000"
          },
          "showarrow": false,
          "text": "Feb 10",
          "x": -0.45,
          "xanchor": "left",
          "xref": "x",
          "y": 2,
          "yref": "y"
         },
         {
          "align": "left",
          "font": {
           "color": "#000000"
          },
          "showarrow": false,
          "text": "DSP",
          "x": 0.55,
          "xanchor": "left",
          "xref": "x",
          "y": 2,
          "yref": "y"
         },
         {
          "align": "left",
          "font": {
           "color": "#000000"
          },
          "showarrow": false,
          "text": "Viant Technology",
          "x": 1.55,
          "xanchor": "left",
          "xref": "x",
          "y": 2,
          "yref": "y"
         },
         {
          "align": "left",
          "font": {
           "color": "#000000"
          },
          "showarrow": false,
          "text": "$19.00-21.00",
          "x": 2.55,
          "xanchor": "left",
          "xref": "x",
          "y": 2,
          "yref": "y"
         },
         {
          "align": "left",
          "font": {
           "color": "#000000"
          },
          "showarrow": false,
          "text": "181.1M",
          "x": 3.55,
          "xanchor": "left",
          "xref": "x",
          "y": 2,
          "yref": "y"
         },
         {
          "align": "left",
          "font": {
           "color": "#000000"
          },
          "showarrow": false,
          "text": "Feb 11",
          "x": -0.45,
          "xanchor": "left",
          "xref": "x",
          "y": 3,
          "yref": "y"
         },
         {
          "align": "left",
          "font": {
           "color": "#000000"
          },
          "showarrow": false,
          "text": "APR",
          "x": 0.55,
          "xanchor": "left",
          "xref": "x",
          "y": 3,
          "yref": "y"
         },
         {
          "align": "left",
          "font": {
           "color": "#000000"
          },
          "showarrow": false,
          "text": "Apria",
          "x": 1.55,
          "xanchor": "left",
          "xref": "x",
          "y": 3,
          "yref": "y"
         },
         {
          "align": "left",
          "font": {
           "color": "#000000"
          },
          "showarrow": false,
          "text": "$19.00-21.00",
          "x": 2.55,
          "xanchor": "left",
          "xref": "x",
          "y": 3,
          "yref": "y"
         },
         {
          "align": "left",
          "font": {
           "color": "#000000"
          },
          "showarrow": false,
          "text": "181.1M",
          "x": 3.55,
          "xanchor": "left",
          "xref": "x",
          "y": 3,
          "yref": "y"
         },
         {
          "align": "left",
          "font": {
           "color": "#000000"
          },
          "showarrow": false,
          "text": "Feb 11",
          "x": -0.45,
          "xanchor": "left",
          "xref": "x",
          "y": 4,
          "yref": "y"
         },
         {
          "align": "left",
          "font": {
           "color": "#000000"
          },
          "showarrow": false,
          "text": "BMBL",
          "x": 0.55,
          "xanchor": "left",
          "xref": "x",
          "y": 4,
          "yref": "y"
         },
         {
          "align": "left",
          "font": {
           "color": "#000000"
          },
          "showarrow": false,
          "text": "Bumble",
          "x": 1.55,
          "xanchor": "left",
          "xref": "x",
          "y": 4,
          "yref": "y"
         },
         {
          "align": "left",
          "font": {
           "color": "#000000"
          },
          "showarrow": false,
          "text": "$28.00-30.00",
          "x": 2.55,
          "xanchor": "left",
          "xref": "x",
          "y": 4,
          "yref": "y"
         },
         {
          "align": "left",
          "font": {
           "color": "#000000"
          },
          "showarrow": false,
          "text": "1190.2M",
          "x": 3.55,
          "xanchor": "left",
          "xref": "x",
          "y": 4,
          "yref": "y"
         },
         {
          "align": "left",
          "font": {
           "color": "#000000"
          },
          "showarrow": false,
          "text": "Feb 11",
          "x": -0.45,
          "xanchor": "left",
          "xref": "x",
          "y": 5,
          "yref": "y"
         },
         {
          "align": "left",
          "font": {
           "color": "#000000"
          },
          "showarrow": false,
          "text": "SGFY",
          "x": 0.55,
          "xanchor": "left",
          "xref": "x",
          "y": 5,
          "yref": "y"
         },
         {
          "align": "left",
          "font": {
           "color": "#000000"
          },
          "showarrow": false,
          "text": "Signify Health",
          "x": 1.55,
          "xanchor": "left",
          "xref": "x",
          "y": 5,
          "yref": "y"
         },
         {
          "align": "left",
          "font": {
           "color": "#000000"
          },
          "showarrow": false,
          "text": "$17.00-19.00",
          "x": 2.55,
          "xanchor": "left",
          "xref": "x",
          "y": 5,
          "yref": "y"
         },
         {
          "align": "left",
          "font": {
           "color": "#000000"
          },
          "showarrow": false,
          "text": "513.5M",
          "x": 3.55,
          "xanchor": "left",
          "xref": "x",
          "y": 5,
          "yref": "y"
         }
        ],
        "height": 170,
        "margin": {
         "b": 0,
         "l": 0,
         "r": 0,
         "t": 0
        },
        "template": {
         "data": {
          "bar": [
           {
            "error_x": {
             "color": "#2a3f5f"
            },
            "error_y": {
             "color": "#2a3f5f"
            },
            "marker": {
             "line": {
              "color": "#E5ECF6",
              "width": 0.5
             }
            },
            "type": "bar"
           }
          ],
          "barpolar": [
           {
            "marker": {
             "line": {
              "color": "#E5ECF6",
              "width": 0.5
             }
            },
            "type": "barpolar"
           }
          ],
          "carpet": [
           {
            "aaxis": {
             "endlinecolor": "#2a3f5f",
             "gridcolor": "white",
             "linecolor": "white",
             "minorgridcolor": "white",
             "startlinecolor": "#2a3f5f"
            },
            "baxis": {
             "endlinecolor": "#2a3f5f",
             "gridcolor": "white",
             "linecolor": "white",
             "minorgridcolor": "white",
             "startlinecolor": "#2a3f5f"
            },
            "type": "carpet"
           }
          ],
          "choropleth": [
           {
            "colorbar": {
             "outlinewidth": 0,
             "ticks": ""
            },
            "type": "choropleth"
           }
          ],
          "contour": [
           {
            "colorbar": {
             "outlinewidth": 0,
             "ticks": ""
            },
            "colorscale": [
             [
              0,
              "#0d0887"
             ],
             [
              0.1111111111111111,
              "#46039f"
             ],
             [
              0.2222222222222222,
              "#7201a8"
             ],
             [
              0.3333333333333333,
              "#9c179e"
             ],
             [
              0.4444444444444444,
              "#bd3786"
             ],
             [
              0.5555555555555556,
              "#d8576b"
             ],
             [
              0.6666666666666666,
              "#ed7953"
             ],
             [
              0.7777777777777778,
              "#fb9f3a"
             ],
             [
              0.8888888888888888,
              "#fdca26"
             ],
             [
              1,
              "#f0f921"
             ]
            ],
            "type": "contour"
           }
          ],
          "contourcarpet": [
           {
            "colorbar": {
             "outlinewidth": 0,
             "ticks": ""
            },
            "type": "contourcarpet"
           }
          ],
          "heatmap": [
           {
            "colorbar": {
             "outlinewidth": 0,
             "ticks": ""
            },
            "colorscale": [
             [
              0,
              "#0d0887"
             ],
             [
              0.1111111111111111,
              "#46039f"
             ],
             [
              0.2222222222222222,
              "#7201a8"
             ],
             [
              0.3333333333333333,
              "#9c179e"
             ],
             [
              0.4444444444444444,
              "#bd3786"
             ],
             [
              0.5555555555555556,
              "#d8576b"
             ],
             [
              0.6666666666666666,
              "#ed7953"
             ],
             [
              0.7777777777777778,
              "#fb9f3a"
             ],
             [
              0.8888888888888888,
              "#fdca26"
             ],
             [
              1,
              "#f0f921"
             ]
            ],
            "type": "heatmap"
           }
          ],
          "heatmapgl": [
           {
            "colorbar": {
             "outlinewidth": 0,
             "ticks": ""
            },
            "colorscale": [
             [
              0,
              "#0d0887"
             ],
             [
              0.1111111111111111,
              "#46039f"
             ],
             [
              0.2222222222222222,
              "#7201a8"
             ],
             [
              0.3333333333333333,
              "#9c179e"
             ],
             [
              0.4444444444444444,
              "#bd3786"
             ],
             [
              0.5555555555555556,
              "#d8576b"
             ],
             [
              0.6666666666666666,
              "#ed7953"
             ],
             [
              0.7777777777777778,
              "#fb9f3a"
             ],
             [
              0.8888888888888888,
              "#fdca26"
             ],
             [
              1,
              "#f0f921"
             ]
            ],
            "type": "heatmapgl"
           }
          ],
          "histogram": [
           {
            "marker": {
             "colorbar": {
              "outlinewidth": 0,
              "ticks": ""
             }
            },
            "type": "histogram"
           }
          ],
          "histogram2d": [
           {
            "colorbar": {
             "outlinewidth": 0,
             "ticks": ""
            },
            "colorscale": [
             [
              0,
              "#0d0887"
             ],
             [
              0.1111111111111111,
              "#46039f"
             ],
             [
              0.2222222222222222,
              "#7201a8"
             ],
             [
              0.3333333333333333,
              "#9c179e"
             ],
             [
              0.4444444444444444,
              "#bd3786"
             ],
             [
              0.5555555555555556,
              "#d8576b"
             ],
             [
              0.6666666666666666,
              "#ed7953"
             ],
             [
              0.7777777777777778,
              "#fb9f3a"
             ],
             [
              0.8888888888888888,
              "#fdca26"
             ],
             [
              1,
              "#f0f921"
             ]
            ],
            "type": "histogram2d"
           }
          ],
          "histogram2dcontour": [
           {
            "colorbar": {
             "outlinewidth": 0,
             "ticks": ""
            },
            "colorscale": [
             [
              0,
              "#0d0887"
             ],
             [
              0.1111111111111111,
              "#46039f"
             ],
             [
              0.2222222222222222,
              "#7201a8"
             ],
             [
              0.3333333333333333,
              "#9c179e"
             ],
             [
              0.4444444444444444,
              "#bd3786"
             ],
             [
              0.5555555555555556,
              "#d8576b"
             ],
             [
              0.6666666666666666,
              "#ed7953"
             ],
             [
              0.7777777777777778,
              "#fb9f3a"
             ],
             [
              0.8888888888888888,
              "#fdca26"
             ],
             [
              1,
              "#f0f921"
             ]
            ],
            "type": "histogram2dcontour"
           }
          ],
          "mesh3d": [
           {
            "colorbar": {
             "outlinewidth": 0,
             "ticks": ""
            },
            "type": "mesh3d"
           }
          ],
          "parcoords": [
           {
            "line": {
             "colorbar": {
              "outlinewidth": 0,
              "ticks": ""
             }
            },
            "type": "parcoords"
           }
          ],
          "pie": [
           {
            "automargin": true,
            "type": "pie"
           }
          ],
          "scatter": [
           {
            "marker": {
             "colorbar": {
              "outlinewidth": 0,
              "ticks": ""
             }
            },
            "type": "scatter"
           }
          ],
          "scatter3d": [
           {
            "line": {
             "colorbar": {
              "outlinewidth": 0,
              "ticks": ""
             }
            },
            "marker": {
             "colorbar": {
              "outlinewidth": 0,
              "ticks": ""
             }
            },
            "type": "scatter3d"
           }
          ],
          "scattercarpet": [
           {
            "marker": {
             "colorbar": {
              "outlinewidth": 0,
              "ticks": ""
             }
            },
            "type": "scattercarpet"
           }
          ],
          "scattergeo": [
           {
            "marker": {
             "colorbar": {
              "outlinewidth": 0,
              "ticks": ""
             }
            },
            "type": "scattergeo"
           }
          ],
          "scattergl": [
           {
            "marker": {
             "colorbar": {
              "outlinewidth": 0,
              "ticks": ""
             }
            },
            "type": "scattergl"
           }
          ],
          "scattermapbox": [
           {
            "marker": {
             "colorbar": {
              "outlinewidth": 0,
              "ticks": ""
             }
            },
            "type": "scattermapbox"
           }
          ],
          "scatterpolar": [
           {
            "marker": {
             "colorbar": {
              "outlinewidth": 0,
              "ticks": ""
             }
            },
            "type": "scatterpolar"
           }
          ],
          "scatterpolargl": [
           {
            "marker": {
             "colorbar": {
              "outlinewidth": 0,
              "ticks": ""
             }
            },
            "type": "scatterpolargl"
           }
          ],
          "scatterternary": [
           {
            "marker": {
             "colorbar": {
              "outlinewidth": 0,
              "ticks": ""
             }
            },
            "type": "scatterternary"
           }
          ],
          "surface": [
           {
            "colorbar": {
             "outlinewidth": 0,
             "ticks": ""
            },
            "colorscale": [
             [
              0,
              "#0d0887"
             ],
             [
              0.1111111111111111,
              "#46039f"
             ],
             [
              0.2222222222222222,
              "#7201a8"
             ],
             [
              0.3333333333333333,
              "#9c179e"
             ],
             [
              0.4444444444444444,
              "#bd3786"
             ],
             [
              0.5555555555555556,
              "#d8576b"
             ],
             [
              0.6666666666666666,
              "#ed7953"
             ],
             [
              0.7777777777777778,
              "#fb9f3a"
             ],
             [
              0.8888888888888888,
              "#fdca26"
             ],
             [
              1,
              "#f0f921"
             ]
            ],
            "type": "surface"
           }
          ],
          "table": [
           {
            "cells": {
             "fill": {
              "color": "#EBF0F8"
             },
             "line": {
              "color": "white"
             }
            },
            "header": {
             "fill": {
              "color": "#C8D4E3"
             },
             "line": {
              "color": "white"
             }
            },
            "type": "table"
           }
          ]
         },
         "layout": {
          "annotationdefaults": {
           "arrowcolor": "#2a3f5f",
           "arrowhead": 0,
           "arrowwidth": 1
          },
          "autotypenumbers": "strict",
          "coloraxis": {
           "colorbar": {
            "outlinewidth": 0,
            "ticks": ""
           }
          },
          "colorscale": {
           "diverging": [
            [
             0,
             "#8e0152"
            ],
            [
             0.1,
             "#c51b7d"
            ],
            [
             0.2,
             "#de77ae"
            ],
            [
             0.3,
             "#f1b6da"
            ],
            [
             0.4,
             "#fde0ef"
            ],
            [
             0.5,
             "#f7f7f7"
            ],
            [
             0.6,
             "#e6f5d0"
            ],
            [
             0.7,
             "#b8e186"
            ],
            [
             0.8,
             "#7fbc41"
            ],
            [
             0.9,
             "#4d9221"
            ],
            [
             1,
             "#276419"
            ]
           ],
           "sequential": [
            [
             0,
             "#0d0887"
            ],
            [
             0.1111111111111111,
             "#46039f"
            ],
            [
             0.2222222222222222,
             "#7201a8"
            ],
            [
             0.3333333333333333,
             "#9c179e"
            ],
            [
             0.4444444444444444,
             "#bd3786"
            ],
            [
             0.5555555555555556,
             "#d8576b"
            ],
            [
             0.6666666666666666,
             "#ed7953"
            ],
            [
             0.7777777777777778,
             "#fb9f3a"
            ],
            [
             0.8888888888888888,
             "#fdca26"
            ],
            [
             1,
             "#f0f921"
            ]
           ],
           "sequentialminus": [
            [
             0,
             "#0d0887"
            ],
            [
             0.1111111111111111,
             "#46039f"
            ],
            [
             0.2222222222222222,
             "#7201a8"
            ],
            [
             0.3333333333333333,
             "#9c179e"
            ],
            [
             0.4444444444444444,
             "#bd3786"
            ],
            [
             0.5555555555555556,
             "#d8576b"
            ],
            [
             0.6666666666666666,
             "#ed7953"
            ],
            [
             0.7777777777777778,
             "#fb9f3a"
            ],
            [
             0.8888888888888888,
             "#fdca26"
            ],
            [
             1,
             "#f0f921"
            ]
           ]
          },
          "colorway": [
           "#636efa",
           "#EF553B",
           "#00cc96",
           "#ab63fa",
           "#FFA15A",
           "#19d3f3",
           "#FF6692",
           "#B6E880",
           "#FF97FF",
           "#FECB52"
          ],
          "font": {
           "color": "#2a3f5f"
          },
          "geo": {
           "bgcolor": "white",
           "lakecolor": "white",
           "landcolor": "#E5ECF6",
           "showlakes": true,
           "showland": true,
           "subunitcolor": "white"
          },
          "hoverlabel": {
           "align": "left"
          },
          "hovermode": "closest",
          "mapbox": {
           "style": "light"
          },
          "paper_bgcolor": "white",
          "plot_bgcolor": "#E5ECF6",
          "polar": {
           "angularaxis": {
            "gridcolor": "white",
            "linecolor": "white",
            "ticks": ""
           },
           "bgcolor": "#E5ECF6",
           "radialaxis": {
            "gridcolor": "white",
            "linecolor": "white",
            "ticks": ""
           }
          },
          "scene": {
           "xaxis": {
            "backgroundcolor": "#E5ECF6",
            "gridcolor": "white",
            "gridwidth": 2,
            "linecolor": "white",
            "showbackground": true,
            "ticks": "",
            "zerolinecolor": "white"
           },
           "yaxis": {
            "backgroundcolor": "#E5ECF6",
            "gridcolor": "white",
            "gridwidth": 2,
            "linecolor": "white",
            "showbackground": true,
            "ticks": "",
            "zerolinecolor": "white"
           },
           "zaxis": {
            "backgroundcolor": "#E5ECF6",
            "gridcolor": "white",
            "gridwidth": 2,
            "linecolor": "white",
            "showbackground": true,
            "ticks": "",
            "zerolinecolor": "white"
           }
          },
          "shapedefaults": {
           "line": {
            "color": "#2a3f5f"
           }
          },
          "ternary": {
           "aaxis": {
            "gridcolor": "white",
            "linecolor": "white",
            "ticks": ""
           },
           "baxis": {
            "gridcolor": "white",
            "linecolor": "white",
            "ticks": ""
           },
           "bgcolor": "#E5ECF6",
           "caxis": {
            "gridcolor": "white",
            "linecolor": "white",
            "ticks": ""
           }
          },
          "title": {
           "x": 0.05
          },
          "xaxis": {
           "automargin": true,
           "gridcolor": "white",
           "linecolor": "white",
           "ticks": "",
           "title": {
            "standoff": 15
           },
           "zerolinecolor": "white",
           "zerolinewidth": 2
          },
          "yaxis": {
           "automargin": true,
           "gridcolor": "white",
           "linecolor": "white",
           "ticks": "",
           "title": {
            "standoff": 15
           },
           "zerolinecolor": "white",
           "zerolinewidth": 2
          }
         }
        },
        "xaxis": {
         "dtick": 1,
         "gridwidth": 2,
         "showticklabels": false,
         "tick0": -0.5,
         "ticks": "",
         "zeroline": false
        },
        "yaxis": {
         "autorange": "reversed",
         "dtick": 1,
         "gridwidth": 2,
         "showticklabels": false,
         "tick0": 0.5,
         "ticks": "",
         "zeroline": false
        }
       }
      },
      "text/html": [
       "<div>                            <div id=\"a44b710d-1c8c-4091-a89e-dcfd7ecca099\" class=\"plotly-graph-div\" style=\"height:170px; width:100%;\"></div>            <script type=\"text/javascript\">                require([\"plotly\"], function(Plotly) {                    window.PLOTLYENV=window.PLOTLYENV || {};                                    if (document.getElementById(\"a44b710d-1c8c-4091-a89e-dcfd7ecca099\")) {                    Plotly.newPlot(                        \"a44b710d-1c8c-4091-a89e-dcfd7ecca099\",                        [{\"colorscale\": [[0, \"#118AB2\"], [0.5, \"#FFFFFF\"], [1, \"#F2F2F2\"]], \"hoverinfo\": \"none\", \"opacity\": 0.75, \"showscale\": false, \"type\": \"heatmap\", \"z\": [[0, 0, 0, 0, 0], [0.5, 0.5, 0.5, 0.5, 0.5], [1, 1, 1, 1, 1], [0.5, 0.5, 0.5, 0.5, 0.5], [1, 1, 1, 1, 1], [0.5, 0.5, 0.5, 0.5, 0.5]]}],                        {\"annotations\": [{\"align\": \"left\", \"font\": {\"color\": \"#ffffff\"}, \"showarrow\": false, \"text\": \"<b>Date</b>\", \"x\": -0.45, \"xanchor\": \"left\", \"xref\": \"x\", \"y\": 0, \"yref\": \"y\"}, {\"align\": \"left\", \"font\": {\"color\": \"#ffffff\"}, \"showarrow\": false, \"text\": \"<b>Symbol</b>\", \"x\": 0.55, \"xanchor\": \"left\", \"xref\": \"x\", \"y\": 0, \"yref\": \"y\"}, {\"align\": \"left\", \"font\": {\"color\": \"#ffffff\"}, \"showarrow\": false, \"text\": \"<b>Company</b>\", \"x\": 1.55, \"xanchor\": \"left\", \"xref\": \"x\", \"y\": 0, \"yref\": \"y\"}, {\"align\": \"left\", \"font\": {\"color\": \"#ffffff\"}, \"showarrow\": false, \"text\": \"<b>Proposed Price</b>\", \"x\": 2.55, \"xanchor\": \"left\", \"xref\": \"x\", \"y\": 0, \"yref\": \"y\"}, {\"align\": \"left\", \"font\": {\"color\": \"#ffffff\"}, \"showarrow\": false, \"text\": \"<b>Market Cap</b>\", \"x\": 3.55, \"xanchor\": \"left\", \"xref\": \"x\", \"y\": 0, \"yref\": \"y\"}, {\"align\": \"left\", \"font\": {\"color\": \"#000000\"}, \"showarrow\": false, \"text\": \"Feb 09\", \"x\": -0.45, \"xanchor\": \"left\", \"xref\": \"x\", \"y\": 1, \"yref\": \"y\"}, {\"align\": \"left\", \"font\": {\"color\": \"#000000\"}, \"showarrow\": false, \"text\": \"ADAG\", \"x\": 0.55, \"xanchor\": \"left\", \"xref\": \"x\", \"y\": 1, \"yref\": \"y\"}, {\"align\": \"left\", \"font\": {\"color\": \"#000000\"}, \"showarrow\": false, \"text\": \"Adagene\", \"x\": 1.55, \"xanchor\": \"left\", \"xref\": \"x\", \"y\": 1, \"yref\": \"y\"}, {\"align\": \"left\", \"font\": {\"color\": \"#000000\"}, \"showarrow\": false, \"text\": \"$17.00-19.00\", \"x\": 2.55, \"xanchor\": \"left\", \"xref\": \"x\", \"y\": 1, \"yref\": \"y\"}, {\"align\": \"left\", \"font\": {\"color\": \"#000000\"}, \"showarrow\": false, \"text\": \"160.7M\", \"x\": 3.55, \"xanchor\": \"left\", \"xref\": \"x\", \"y\": 1, \"yref\": \"y\"}, {\"align\": \"left\", \"font\": {\"color\": \"#000000\"}, \"showarrow\": false, \"text\": \"Feb 10\", \"x\": -0.45, \"xanchor\": \"left\", \"xref\": \"x\", \"y\": 2, \"yref\": \"y\"}, {\"align\": \"left\", \"font\": {\"color\": \"#000000\"}, \"showarrow\": false, \"text\": \"DSP\", \"x\": 0.55, \"xanchor\": \"left\", \"xref\": \"x\", \"y\": 2, \"yref\": \"y\"}, {\"align\": \"left\", \"font\": {\"color\": \"#000000\"}, \"showarrow\": false, \"text\": \"Viant Technology\", \"x\": 1.55, \"xanchor\": \"left\", \"xref\": \"x\", \"y\": 2, \"yref\": \"y\"}, {\"align\": \"left\", \"font\": {\"color\": \"#000000\"}, \"showarrow\": false, \"text\": \"$19.00-21.00\", \"x\": 2.55, \"xanchor\": \"left\", \"xref\": \"x\", \"y\": 2, \"yref\": \"y\"}, {\"align\": \"left\", \"font\": {\"color\": \"#000000\"}, \"showarrow\": false, \"text\": \"181.1M\", \"x\": 3.55, \"xanchor\": \"left\", \"xref\": \"x\", \"y\": 2, \"yref\": \"y\"}, {\"align\": \"left\", \"font\": {\"color\": \"#000000\"}, \"showarrow\": false, \"text\": \"Feb 11\", \"x\": -0.45, \"xanchor\": \"left\", \"xref\": \"x\", \"y\": 3, \"yref\": \"y\"}, {\"align\": \"left\", \"font\": {\"color\": \"#000000\"}, \"showarrow\": false, \"text\": \"APR\", \"x\": 0.55, \"xanchor\": \"left\", \"xref\": \"x\", \"y\": 3, \"yref\": \"y\"}, {\"align\": \"left\", \"font\": {\"color\": \"#000000\"}, \"showarrow\": false, \"text\": \"Apria\", \"x\": 1.55, \"xanchor\": \"left\", \"xref\": \"x\", \"y\": 3, \"yref\": \"y\"}, {\"align\": \"left\", \"font\": {\"color\": \"#000000\"}, \"showarrow\": false, \"text\": \"$19.00-21.00\", \"x\": 2.55, \"xanchor\": \"left\", \"xref\": \"x\", \"y\": 3, \"yref\": \"y\"}, {\"align\": \"left\", \"font\": {\"color\": \"#000000\"}, \"showarrow\": false, \"text\": \"181.1M\", \"x\": 3.55, \"xanchor\": \"left\", \"xref\": \"x\", \"y\": 3, \"yref\": \"y\"}, {\"align\": \"left\", \"font\": {\"color\": \"#000000\"}, \"showarrow\": false, \"text\": \"Feb 11\", \"x\": -0.45, \"xanchor\": \"left\", \"xref\": \"x\", \"y\": 4, \"yref\": \"y\"}, {\"align\": \"left\", \"font\": {\"color\": \"#000000\"}, \"showarrow\": false, \"text\": \"BMBL\", \"x\": 0.55, \"xanchor\": \"left\", \"xref\": \"x\", \"y\": 4, \"yref\": \"y\"}, {\"align\": \"left\", \"font\": {\"color\": \"#000000\"}, \"showarrow\": false, \"text\": \"Bumble\", \"x\": 1.55, \"xanchor\": \"left\", \"xref\": \"x\", \"y\": 4, \"yref\": \"y\"}, {\"align\": \"left\", \"font\": {\"color\": \"#000000\"}, \"showarrow\": false, \"text\": \"$28.00-30.00\", \"x\": 2.55, \"xanchor\": \"left\", \"xref\": \"x\", \"y\": 4, \"yref\": \"y\"}, {\"align\": \"left\", \"font\": {\"color\": \"#000000\"}, \"showarrow\": false, \"text\": \"1190.2M\", \"x\": 3.55, \"xanchor\": \"left\", \"xref\": \"x\", \"y\": 4, \"yref\": \"y\"}, {\"align\": \"left\", \"font\": {\"color\": \"#000000\"}, \"showarrow\": false, \"text\": \"Feb 11\", \"x\": -0.45, \"xanchor\": \"left\", \"xref\": \"x\", \"y\": 5, \"yref\": \"y\"}, {\"align\": \"left\", \"font\": {\"color\": \"#000000\"}, \"showarrow\": false, \"text\": \"SGFY\", \"x\": 0.55, \"xanchor\": \"left\", \"xref\": \"x\", \"y\": 5, \"yref\": \"y\"}, {\"align\": \"left\", \"font\": {\"color\": \"#000000\"}, \"showarrow\": false, \"text\": \"Signify Health\", \"x\": 1.55, \"xanchor\": \"left\", \"xref\": \"x\", \"y\": 5, \"yref\": \"y\"}, {\"align\": \"left\", \"font\": {\"color\": \"#000000\"}, \"showarrow\": false, \"text\": \"$17.00-19.00\", \"x\": 2.55, \"xanchor\": \"left\", \"xref\": \"x\", \"y\": 5, \"yref\": \"y\"}, {\"align\": \"left\", \"font\": {\"color\": \"#000000\"}, \"showarrow\": false, \"text\": \"513.5M\", \"x\": 3.55, \"xanchor\": \"left\", \"xref\": \"x\", \"y\": 5, \"yref\": \"y\"}], \"height\": 170, \"margin\": {\"b\": 0, \"l\": 0, \"r\": 0, \"t\": 0}, \"template\": {\"data\": {\"bar\": [{\"error_x\": {\"color\": \"#2a3f5f\"}, \"error_y\": {\"color\": \"#2a3f5f\"}, \"marker\": {\"line\": {\"color\": \"#E5ECF6\", \"width\": 0.5}}, \"type\": \"bar\"}], \"barpolar\": [{\"marker\": {\"line\": {\"color\": \"#E5ECF6\", \"width\": 0.5}}, \"type\": \"barpolar\"}], \"carpet\": [{\"aaxis\": {\"endlinecolor\": \"#2a3f5f\", \"gridcolor\": \"white\", \"linecolor\": \"white\", \"minorgridcolor\": \"white\", \"startlinecolor\": \"#2a3f5f\"}, \"baxis\": {\"endlinecolor\": \"#2a3f5f\", \"gridcolor\": \"white\", \"linecolor\": \"white\", \"minorgridcolor\": \"white\", \"startlinecolor\": \"#2a3f5f\"}, \"type\": \"carpet\"}], \"choropleth\": [{\"colorbar\": {\"outlinewidth\": 0, \"ticks\": \"\"}, \"type\": \"choropleth\"}], \"contour\": [{\"colorbar\": {\"outlinewidth\": 0, \"ticks\": \"\"}, \"colorscale\": [[0.0, \"#0d0887\"], [0.1111111111111111, \"#46039f\"], [0.2222222222222222, \"#7201a8\"], [0.3333333333333333, \"#9c179e\"], [0.4444444444444444, \"#bd3786\"], [0.5555555555555556, \"#d8576b\"], [0.6666666666666666, \"#ed7953\"], [0.7777777777777778, \"#fb9f3a\"], [0.8888888888888888, \"#fdca26\"], [1.0, \"#f0f921\"]], \"type\": \"contour\"}], \"contourcarpet\": [{\"colorbar\": {\"outlinewidth\": 0, \"ticks\": \"\"}, \"type\": \"contourcarpet\"}], \"heatmap\": [{\"colorbar\": {\"outlinewidth\": 0, \"ticks\": \"\"}, \"colorscale\": [[0.0, \"#0d0887\"], [0.1111111111111111, \"#46039f\"], [0.2222222222222222, \"#7201a8\"], [0.3333333333333333, \"#9c179e\"], [0.4444444444444444, \"#bd3786\"], [0.5555555555555556, \"#d8576b\"], [0.6666666666666666, \"#ed7953\"], [0.7777777777777778, \"#fb9f3a\"], [0.8888888888888888, \"#fdca26\"], [1.0, \"#f0f921\"]], \"type\": \"heatmap\"}], \"heatmapgl\": [{\"colorbar\": {\"outlinewidth\": 0, \"ticks\": \"\"}, \"colorscale\": [[0.0, \"#0d0887\"], [0.1111111111111111, \"#46039f\"], [0.2222222222222222, \"#7201a8\"], [0.3333333333333333, \"#9c179e\"], [0.4444444444444444, \"#bd3786\"], [0.5555555555555556, \"#d8576b\"], [0.6666666666666666, \"#ed7953\"], [0.7777777777777778, \"#fb9f3a\"], [0.8888888888888888, \"#fdca26\"], [1.0, \"#f0f921\"]], \"type\": \"heatmapgl\"}], \"histogram\": [{\"marker\": {\"colorbar\": {\"outlinewidth\": 0, \"ticks\": \"\"}}, \"type\": \"histogram\"}], \"histogram2d\": [{\"colorbar\": {\"outlinewidth\": 0, \"ticks\": \"\"}, \"colorscale\": [[0.0, \"#0d0887\"], [0.1111111111111111, \"#46039f\"], [0.2222222222222222, \"#7201a8\"], [0.3333333333333333, \"#9c179e\"], [0.4444444444444444, \"#bd3786\"], [0.5555555555555556, \"#d8576b\"], [0.6666666666666666, \"#ed7953\"], [0.7777777777777778, \"#fb9f3a\"], [0.8888888888888888, \"#fdca26\"], [1.0, \"#f0f921\"]], \"type\": \"histogram2d\"}], \"histogram2dcontour\": [{\"colorbar\": {\"outlinewidth\": 0, \"ticks\": \"\"}, \"colorscale\": [[0.0, \"#0d0887\"], [0.1111111111111111, \"#46039f\"], [0.2222222222222222, \"#7201a8\"], [0.3333333333333333, \"#9c179e\"], [0.4444444444444444, \"#bd3786\"], [0.5555555555555556, \"#d8576b\"], [0.6666666666666666, \"#ed7953\"], [0.7777777777777778, \"#fb9f3a\"], [0.8888888888888888, \"#fdca26\"], [1.0, \"#f0f921\"]], \"type\": \"histogram2dcontour\"}], \"mesh3d\": [{\"colorbar\": {\"outlinewidth\": 0, \"ticks\": \"\"}, \"type\": \"mesh3d\"}], \"parcoords\": [{\"line\": {\"colorbar\": {\"outlinewidth\": 0, \"ticks\": \"\"}}, \"type\": \"parcoords\"}], \"pie\": [{\"automargin\": true, \"type\": \"pie\"}], \"scatter\": [{\"marker\": {\"colorbar\": {\"outlinewidth\": 0, \"ticks\": \"\"}}, \"type\": \"scatter\"}], \"scatter3d\": [{\"line\": {\"colorbar\": {\"outlinewidth\": 0, \"ticks\": \"\"}}, \"marker\": {\"colorbar\": {\"outlinewidth\": 0, \"ticks\": \"\"}}, \"type\": \"scatter3d\"}], \"scattercarpet\": [{\"marker\": {\"colorbar\": {\"outlinewidth\": 0, \"ticks\": \"\"}}, \"type\": \"scattercarpet\"}], \"scattergeo\": [{\"marker\": {\"colorbar\": {\"outlinewidth\": 0, \"ticks\": \"\"}}, \"type\": \"scattergeo\"}], \"scattergl\": [{\"marker\": {\"colorbar\": {\"outlinewidth\": 0, \"ticks\": \"\"}}, \"type\": \"scattergl\"}], \"scattermapbox\": [{\"marker\": {\"colorbar\": {\"outlinewidth\": 0, \"ticks\": \"\"}}, \"type\": \"scattermapbox\"}], \"scatterpolar\": [{\"marker\": {\"colorbar\": {\"outlinewidth\": 0, \"ticks\": \"\"}}, \"type\": \"scatterpolar\"}], \"scatterpolargl\": [{\"marker\": {\"colorbar\": {\"outlinewidth\": 0, \"ticks\": \"\"}}, \"type\": \"scatterpolargl\"}], \"scatterternary\": [{\"marker\": {\"colorbar\": {\"outlinewidth\": 0, \"ticks\": \"\"}}, \"type\": \"scatterternary\"}], \"surface\": [{\"colorbar\": {\"outlinewidth\": 0, \"ticks\": \"\"}, \"colorscale\": [[0.0, \"#0d0887\"], [0.1111111111111111, \"#46039f\"], [0.2222222222222222, \"#7201a8\"], [0.3333333333333333, \"#9c179e\"], [0.4444444444444444, \"#bd3786\"], [0.5555555555555556, \"#d8576b\"], [0.6666666666666666, \"#ed7953\"], [0.7777777777777778, \"#fb9f3a\"], [0.8888888888888888, \"#fdca26\"], [1.0, \"#f0f921\"]], \"type\": \"surface\"}], \"table\": [{\"cells\": {\"fill\": {\"color\": \"#EBF0F8\"}, \"line\": {\"color\": \"white\"}}, \"header\": {\"fill\": {\"color\": \"#C8D4E3\"}, \"line\": {\"color\": \"white\"}}, \"type\": \"table\"}]}, \"layout\": {\"annotationdefaults\": {\"arrowcolor\": \"#2a3f5f\", \"arrowhead\": 0, \"arrowwidth\": 1}, \"autotypenumbers\": \"strict\", \"coloraxis\": {\"colorbar\": {\"outlinewidth\": 0, \"ticks\": \"\"}}, \"colorscale\": {\"diverging\": [[0, \"#8e0152\"], [0.1, \"#c51b7d\"], [0.2, \"#de77ae\"], [0.3, \"#f1b6da\"], [0.4, \"#fde0ef\"], [0.5, \"#f7f7f7\"], [0.6, \"#e6f5d0\"], [0.7, \"#b8e186\"], [0.8, \"#7fbc41\"], [0.9, \"#4d9221\"], [1, \"#276419\"]], \"sequential\": [[0.0, \"#0d0887\"], [0.1111111111111111, \"#46039f\"], [0.2222222222222222, \"#7201a8\"], [0.3333333333333333, \"#9c179e\"], [0.4444444444444444, \"#bd3786\"], [0.5555555555555556, \"#d8576b\"], [0.6666666666666666, \"#ed7953\"], [0.7777777777777778, \"#fb9f3a\"], [0.8888888888888888, \"#fdca26\"], [1.0, \"#f0f921\"]], \"sequentialminus\": [[0.0, \"#0d0887\"], [0.1111111111111111, \"#46039f\"], [0.2222222222222222, \"#7201a8\"], [0.3333333333333333, \"#9c179e\"], [0.4444444444444444, \"#bd3786\"], [0.5555555555555556, \"#d8576b\"], [0.6666666666666666, \"#ed7953\"], [0.7777777777777778, \"#fb9f3a\"], [0.8888888888888888, \"#fdca26\"], [1.0, \"#f0f921\"]]}, \"colorway\": [\"#636efa\", \"#EF553B\", \"#00cc96\", \"#ab63fa\", \"#FFA15A\", \"#19d3f3\", \"#FF6692\", \"#B6E880\", \"#FF97FF\", \"#FECB52\"], \"font\": {\"color\": \"#2a3f5f\"}, \"geo\": {\"bgcolor\": \"white\", \"lakecolor\": \"white\", \"landcolor\": \"#E5ECF6\", \"showlakes\": true, \"showland\": true, \"subunitcolor\": \"white\"}, \"hoverlabel\": {\"align\": \"left\"}, \"hovermode\": \"closest\", \"mapbox\": {\"style\": \"light\"}, \"paper_bgcolor\": \"white\", \"plot_bgcolor\": \"#E5ECF6\", \"polar\": {\"angularaxis\": {\"gridcolor\": \"white\", \"linecolor\": \"white\", \"ticks\": \"\"}, \"bgcolor\": \"#E5ECF6\", \"radialaxis\": {\"gridcolor\": \"white\", \"linecolor\": \"white\", \"ticks\": \"\"}}, \"scene\": {\"xaxis\": {\"backgroundcolor\": \"#E5ECF6\", \"gridcolor\": \"white\", \"gridwidth\": 2, \"linecolor\": \"white\", \"showbackground\": true, \"ticks\": \"\", \"zerolinecolor\": \"white\"}, \"yaxis\": {\"backgroundcolor\": \"#E5ECF6\", \"gridcolor\": \"white\", \"gridwidth\": 2, \"linecolor\": \"white\", \"showbackground\": true, \"ticks\": \"\", \"zerolinecolor\": \"white\"}, \"zaxis\": {\"backgroundcolor\": \"#E5ECF6\", \"gridcolor\": \"white\", \"gridwidth\": 2, \"linecolor\": \"white\", \"showbackground\": true, \"ticks\": \"\", \"zerolinecolor\": \"white\"}}, \"shapedefaults\": {\"line\": {\"color\": \"#2a3f5f\"}}, \"ternary\": {\"aaxis\": {\"gridcolor\": \"white\", \"linecolor\": \"white\", \"ticks\": \"\"}, \"baxis\": {\"gridcolor\": \"white\", \"linecolor\": \"white\", \"ticks\": \"\"}, \"bgcolor\": \"#E5ECF6\", \"caxis\": {\"gridcolor\": \"white\", \"linecolor\": \"white\", \"ticks\": \"\"}}, \"title\": {\"x\": 0.05}, \"xaxis\": {\"automargin\": true, \"gridcolor\": \"white\", \"linecolor\": \"white\", \"ticks\": \"\", \"title\": {\"standoff\": 15}, \"zerolinecolor\": \"white\", \"zerolinewidth\": 2}, \"yaxis\": {\"automargin\": true, \"gridcolor\": \"white\", \"linecolor\": \"white\", \"ticks\": \"\", \"title\": {\"standoff\": 15}, \"zerolinecolor\": \"white\", \"zerolinewidth\": 2}}}, \"xaxis\": {\"dtick\": 1, \"gridwidth\": 2, \"showticklabels\": false, \"tick0\": -0.5, \"ticks\": \"\", \"zeroline\": false}, \"yaxis\": {\"autorange\": \"reversed\", \"dtick\": 1, \"gridwidth\": 2, \"showticklabels\": false, \"tick0\": 0.5, \"ticks\": \"\", \"zeroline\": false}},                        {\"responsive\": true}                    ).then(function(){\n",
       "                            \n",
       "var gd = document.getElementById('a44b710d-1c8c-4091-a89e-dcfd7ecca099');\n",
       "var x = new MutationObserver(function (mutations, observer) {{\n",
       "        var display = window.getComputedStyle(gd).display;\n",
       "        if (!display || display === 'none') {{\n",
       "            console.log([gd, 'removed!']);\n",
       "            Plotly.purge(gd);\n",
       "            observer.disconnect();\n",
       "        }}\n",
       "}});\n",
       "\n",
       "// Listen for the removal of the full notebook cells\n",
       "var notebookContainer = gd.closest('#notebook-container');\n",
       "if (notebookContainer) {{\n",
       "    x.observe(notebookContainer, {childList: true});\n",
       "}}\n",
       "\n",
       "// Listen for the clearing of the current output cell\n",
       "var outputEl = gd.closest('.output');\n",
       "if (outputEl) {{\n",
       "    x.observe(outputEl, {childList: true});\n",
       "}}\n",
       "\n",
       "                        })                };                });            </script>        </div>"
      ]
     },
     "metadata": {},
     "output_type": "display_data"
    }
   ],
   "source": [
    "# get tweet image\n",
    "colorscale = [[0, '#118AB2'],[.5, '#FFFFFF'],[1, '#F2F2F2']]\n",
    "fig =  ff.create_table(tw_ipos_img_df, colorscale=colorscale, height_constant=20)\n",
    "\n",
    "fig.write_image(\"weekly_ipos.png\", scale = 1)\n",
    "fig.show()"
   ]
  },
  {
   "cell_type": "code",
   "execution_count": 93,
   "metadata": {
    "ExecuteTime": {
     "end_time": "2021-02-07T21:33:35.851554Z",
     "start_time": "2021-02-07T21:33:35.239055Z"
    }
   },
   "outputs": [],
   "source": [
    "# the name of the media file \n",
    "filename = \"weekly_ipos.png\"\n",
    "\n",
    "# upload the file \n",
    "media = api.media_upload(filename) "
   ]
  },
  {
   "cell_type": "code",
   "execution_count": 95,
   "metadata": {
    "ExecuteTime": {
     "end_time": "2021-02-07T21:39:46.031352Z",
     "start_time": "2021-02-07T21:39:45.260176Z"
    }
   },
   "outputs": [
    {
     "data": {
      "text/plain": [
       "Status(_api=<tweepy.api.API object at 0x00000200E93243C8>, _json={'created_at': 'Sun Feb 07 21:39:45 +0000 2021', 'id': 1358530915996225538, 'id_str': '1358530915996225538', 'text': 'Upcoming IPOs coming at ya\\n\\nFeb 09: $ADAG at $17-19\\nFeb 10: $DSP at $19-21\\nFeb 11: $APR at $19-21\\nFeb 11: $BMBL at… https://t.co/mqqXCaswoU', 'truncated': True, 'entities': {'hashtags': [], 'symbols': [{'text': 'ADAG', 'indices': [36, 41]}, {'text': 'DSP', 'indices': [60, 64]}, {'text': 'APR', 'indices': [83, 87]}, {'text': 'BMBL', 'indices': [106, 111]}], 'user_mentions': [], 'urls': [{'url': 'https://t.co/mqqXCaswoU', 'expanded_url': 'https://twitter.com/i/web/status/1358530915996225538', 'display_url': 'twitter.com/i/web/status/1…', 'indices': [116, 139]}]}, 'source': '', 'in_reply_to_status_id': None, 'in_reply_to_status_id_str': None, 'in_reply_to_user_id': None, 'in_reply_to_user_id_str': None, 'in_reply_to_screen_name': None, 'user': {'id': 1285746488862269440, 'id_str': '1285746488862269440', 'name': 'IPO Tracker 3000', 'screen_name': 'TrackerIpo', 'location': '', 'description': 'Tracking all things IPOs. Get notified of upcoming public offerings and analysis. Part 🤖, part 👨. Under development.', 'url': None, 'entities': {'description': {'urls': []}}, 'protected': False, 'followers_count': 19, 'friends_count': 0, 'listed_count': 0, 'created_at': 'Wed Jul 22 01:20:42 +0000 2020', 'favourites_count': 0, 'utc_offset': None, 'time_zone': None, 'geo_enabled': False, 'verified': False, 'statuses_count': 7, 'lang': None, 'contributors_enabled': False, 'is_translator': False, 'is_translation_enabled': False, 'profile_background_color': 'F5F8FA', 'profile_background_image_url': None, 'profile_background_image_url_https': None, 'profile_background_tile': False, 'profile_image_url': 'http://pbs.twimg.com/profile_images/1285747025640935424/V6fdg5Lx_normal.jpg', 'profile_image_url_https': 'https://pbs.twimg.com/profile_images/1285747025640935424/V6fdg5Lx_normal.jpg', 'profile_banner_url': 'https://pbs.twimg.com/profile_banners/1285746488862269440/1611190950', 'profile_link_color': '1DA1F2', 'profile_sidebar_border_color': 'C0DEED', 'profile_sidebar_fill_color': 'DDEEF6', 'profile_text_color': '333333', 'profile_use_background_image': True, 'has_extended_profile': True, 'default_profile': True, 'default_profile_image': False, 'following': False, 'follow_request_sent': False, 'notifications': False, 'translator_type': 'none'}, 'geo': None, 'coordinates': None, 'place': None, 'contributors': None, 'is_quote_status': False, 'retweet_count': 0, 'favorite_count': 0, 'favorited': False, 'retweeted': False, 'possibly_sensitive': False, 'lang': 'da'}, created_at=datetime.datetime(2021, 2, 7, 21, 39, 45), id=1358530915996225538, id_str='1358530915996225538', text='Upcoming IPOs coming at ya\\n\\nFeb 09: $ADAG at $17-19\\nFeb 10: $DSP at $19-21\\nFeb 11: $APR at $19-21\\nFeb 11: $BMBL at… https://t.co/mqqXCaswoU', truncated=True, entities={'hashtags': [], 'symbols': [{'text': 'ADAG', 'indices': [36, 41]}, {'text': 'DSP', 'indices': [60, 64]}, {'text': 'APR', 'indices': [83, 87]}, {'text': 'BMBL', 'indices': [106, 111]}], 'user_mentions': [], 'urls': [{'url': 'https://t.co/mqqXCaswoU', 'expanded_url': 'https://twitter.com/i/web/status/1358530915996225538', 'display_url': 'twitter.com/i/web/status/1…', 'indices': [116, 139]}]}, source='', source_url=None, in_reply_to_status_id=None, in_reply_to_status_id_str=None, in_reply_to_user_id=None, in_reply_to_user_id_str=None, in_reply_to_screen_name=None, author=User(_api=<tweepy.api.API object at 0x00000200E93243C8>, _json={'id': 1285746488862269440, 'id_str': '1285746488862269440', 'name': 'IPO Tracker 3000', 'screen_name': 'TrackerIpo', 'location': '', 'description': 'Tracking all things IPOs. Get notified of upcoming public offerings and analysis. Part 🤖, part 👨. Under development.', 'url': None, 'entities': {'description': {'urls': []}}, 'protected': False, 'followers_count': 19, 'friends_count': 0, 'listed_count': 0, 'created_at': 'Wed Jul 22 01:20:42 +0000 2020', 'favourites_count': 0, 'utc_offset': None, 'time_zone': None, 'geo_enabled': False, 'verified': False, 'statuses_count': 7, 'lang': None, 'contributors_enabled': False, 'is_translator': False, 'is_translation_enabled': False, 'profile_background_color': 'F5F8FA', 'profile_background_image_url': None, 'profile_background_image_url_https': None, 'profile_background_tile': False, 'profile_image_url': 'http://pbs.twimg.com/profile_images/1285747025640935424/V6fdg5Lx_normal.jpg', 'profile_image_url_https': 'https://pbs.twimg.com/profile_images/1285747025640935424/V6fdg5Lx_normal.jpg', 'profile_banner_url': 'https://pbs.twimg.com/profile_banners/1285746488862269440/1611190950', 'profile_link_color': '1DA1F2', 'profile_sidebar_border_color': 'C0DEED', 'profile_sidebar_fill_color': 'DDEEF6', 'profile_text_color': '333333', 'profile_use_background_image': True, 'has_extended_profile': True, 'default_profile': True, 'default_profile_image': False, 'following': False, 'follow_request_sent': False, 'notifications': False, 'translator_type': 'none'}, id=1285746488862269440, id_str='1285746488862269440', name='IPO Tracker 3000', screen_name='TrackerIpo', location='', description='Tracking all things IPOs. Get notified of upcoming public offerings and analysis. Part 🤖, part 👨. Under development.', url=None, entities={'description': {'urls': []}}, protected=False, followers_count=19, friends_count=0, listed_count=0, created_at=datetime.datetime(2020, 7, 22, 1, 20, 42), favourites_count=0, utc_offset=None, time_zone=None, geo_enabled=False, verified=False, statuses_count=7, lang=None, contributors_enabled=False, is_translator=False, is_translation_enabled=False, profile_background_color='F5F8FA', profile_background_image_url=None, profile_background_image_url_https=None, profile_background_tile=False, profile_image_url='http://pbs.twimg.com/profile_images/1285747025640935424/V6fdg5Lx_normal.jpg', profile_image_url_https='https://pbs.twimg.com/profile_images/1285747025640935424/V6fdg5Lx_normal.jpg', profile_banner_url='https://pbs.twimg.com/profile_banners/1285746488862269440/1611190950', profile_link_color='1DA1F2', profile_sidebar_border_color='C0DEED', profile_sidebar_fill_color='DDEEF6', profile_text_color='333333', profile_use_background_image=True, has_extended_profile=True, default_profile=True, default_profile_image=False, following=False, follow_request_sent=False, notifications=False, translator_type='none'), user=User(_api=<tweepy.api.API object at 0x00000200E93243C8>, _json={'id': 1285746488862269440, 'id_str': '1285746488862269440', 'name': 'IPO Tracker 3000', 'screen_name': 'TrackerIpo', 'location': '', 'description': 'Tracking all things IPOs. Get notified of upcoming public offerings and analysis. Part 🤖, part 👨. Under development.', 'url': None, 'entities': {'description': {'urls': []}}, 'protected': False, 'followers_count': 19, 'friends_count': 0, 'listed_count': 0, 'created_at': 'Wed Jul 22 01:20:42 +0000 2020', 'favourites_count': 0, 'utc_offset': None, 'time_zone': None, 'geo_enabled': False, 'verified': False, 'statuses_count': 7, 'lang': None, 'contributors_enabled': False, 'is_translator': False, 'is_translation_enabled': False, 'profile_background_color': 'F5F8FA', 'profile_background_image_url': None, 'profile_background_image_url_https': None, 'profile_background_tile': False, 'profile_image_url': 'http://pbs.twimg.com/profile_images/1285747025640935424/V6fdg5Lx_normal.jpg', 'profile_image_url_https': 'https://pbs.twimg.com/profile_images/1285747025640935424/V6fdg5Lx_normal.jpg', 'profile_banner_url': 'https://pbs.twimg.com/profile_banners/1285746488862269440/1611190950', 'profile_link_color': '1DA1F2', 'profile_sidebar_border_color': 'C0DEED', 'profile_sidebar_fill_color': 'DDEEF6', 'profile_text_color': '333333', 'profile_use_background_image': True, 'has_extended_profile': True, 'default_profile': True, 'default_profile_image': False, 'following': False, 'follow_request_sent': False, 'notifications': False, 'translator_type': 'none'}, id=1285746488862269440, id_str='1285746488862269440', name='IPO Tracker 3000', screen_name='TrackerIpo', location='', description='Tracking all things IPOs. Get notified of upcoming public offerings and analysis. Part 🤖, part 👨. Under development.', url=None, entities={'description': {'urls': []}}, protected=False, followers_count=19, friends_count=0, listed_count=0, created_at=datetime.datetime(2020, 7, 22, 1, 20, 42), favourites_count=0, utc_offset=None, time_zone=None, geo_enabled=False, verified=False, statuses_count=7, lang=None, contributors_enabled=False, is_translator=False, is_translation_enabled=False, profile_background_color='F5F8FA', profile_background_image_url=None, profile_background_image_url_https=None, profile_background_tile=False, profile_image_url='http://pbs.twimg.com/profile_images/1285747025640935424/V6fdg5Lx_normal.jpg', profile_image_url_https='https://pbs.twimg.com/profile_images/1285747025640935424/V6fdg5Lx_normal.jpg', profile_banner_url='https://pbs.twimg.com/profile_banners/1285746488862269440/1611190950', profile_link_color='1DA1F2', profile_sidebar_border_color='C0DEED', profile_sidebar_fill_color='DDEEF6', profile_text_color='333333', profile_use_background_image=True, has_extended_profile=True, default_profile=True, default_profile_image=False, following=False, follow_request_sent=False, notifications=False, translator_type='none'), geo=None, coordinates=None, place=None, contributors=None, is_quote_status=False, retweet_count=0, favorite_count=0, favorited=False, retweeted=False, possibly_sensitive=False, lang='da')"
      ]
     },
     "execution_count": 95,
     "metadata": {},
     "output_type": "execute_result"
    }
   ],
   "source": [
    "# Send out the tweet\n",
    "api.update_with_media(filename=\"weekly_ipos.png\", media_id=media.media_id, status=tweet_text)"
   ]
  },
  {
   "cell_type": "markdown",
   "metadata": {},
   "source": [
    "# Stock Goes Live Today"
   ]
  },
  {
   "cell_type": "code",
   "execution_count": null,
   "metadata": {
    "ExecuteTime": {
     "end_time": "2021-01-26T02:07:15.115139Z",
     "start_time": "2021-01-26T02:07:15.106163Z"
    }
   },
   "outputs": [],
   "source": [
    "# get todays date\n",
    "today = date(2021, 1, 21).strftime(\"%Y-%m-%d\")  #date for testing, not actually today\n",
    "# today = datetime.today().strftime(\"%Y-%m-%d\")\n",
    "print(today)"
   ]
  },
  {
   "cell_type": "code",
   "execution_count": null,
   "metadata": {
    "ExecuteTime": {
     "end_time": "2021-01-26T02:07:15.892498Z",
     "start_time": "2021-01-26T02:07:15.339599Z"
    }
   },
   "outputs": [],
   "source": [
    "# get stocks that go live today\n",
    "engine = create_engine(f'mysql://{dbuser}:{dbpass}@{dbhost}/{dbname}?charset=utf8')\n",
    "connection = engine.connect()\n",
    "df = pd.read_sql(f\"\"\"\n",
    "    SELECT s.*, \n",
    "        ci.city, \n",
    "        ci.state,\n",
    "        ci.country,\n",
    "        ci.website, \n",
    "        ci.industry,\n",
    "        ci.sector, \n",
    "        ci.business_summary\n",
    "    FROM stocks s\n",
    "    LEFT JOIN company_info ci\n",
    "        ON s.symbol = ci.symbol\n",
    "    WHERE priced_date = '{today}'\n",
    "        AND exchange <> 'NASDAQ Capital'\"\"\", connection)\n",
    "connection.close()\n",
    "df"
   ]
  },
  {
   "cell_type": "code",
   "execution_count": null,
   "metadata": {
    "ExecuteTime": {
     "end_time": "2021-01-26T02:07:15.929400Z",
     "start_time": "2021-01-26T02:07:15.918430Z"
    }
   },
   "outputs": [],
   "source": [
    "# industry portion of tweet\n",
    "stock_industry = None\n",
    "if df['industry'][0] is None:\n",
    "    pass\n",
    "elif df['industry'][0] == '':\n",
    "    pass\n",
    "else:\n",
    "    stock_industry = df['industry'][0].lower()\n",
    "\n",
    "    \n",
    "print(stock_industry)"
   ]
  },
  {
   "cell_type": "code",
   "execution_count": null,
   "metadata": {},
   "outputs": [],
   "source": [
    "# region portion of tweet\n",
    "stock_region = None\n",
    "\n",
    "# if no country information, pass\n",
    "if df['country'][0] is None:\n",
    "    pass\n",
    "elif df['industry'][0] == '':\n",
    "    pass\n",
    "else:\n",
    "    stock_industry = df['industry'][0].lower()\n",
    "\n",
    "    \n",
    "print(stock_region)"
   ]
  },
  {
   "cell_type": "code",
   "execution_count": null,
   "metadata": {
    "ExecuteTime": {
     "end_time": "2021-01-26T02:07:09.170526Z",
     "start_time": "2021-01-26T02:07:08.582040Z"
    }
   },
   "outputs": [],
   "source": [
    "tweet_text = f\"{df['company'][0]} ${df['symbol'][0]} should trade today, a {stock_industry} company out of \"\n",
    "\n",
    "tweet_text"
   ]
  },
  {
   "cell_type": "code",
   "execution_count": null,
   "metadata": {},
   "outputs": [],
   "source": [
    "# wrap text https://matplotlib.org/3.1.1/gallery/text_labels_and_annotations/autowrap.html"
   ]
  },
  {
   "cell_type": "markdown",
   "metadata": {},
   "source": [
    "# Performance Analysis"
   ]
  },
  {
   "cell_type": "code",
   "execution_count": null,
   "metadata": {
    "ExecuteTime": {
     "end_time": "2021-01-17T18:15:58.624687Z",
     "start_time": "2021-01-17T18:15:51.616781Z"
    }
   },
   "outputs": [],
   "source": [
    "connection = engine.connect()\n",
    "ipo_df = pd.read_sql(\"SELECT * FROM ipo_tracker.vw_stocks_performance\", connection)\n",
    "connection.close()\n",
    "ipo_df.head()"
   ]
  },
  {
   "cell_type": "markdown",
   "metadata": {},
   "source": [
    "## Sector and Industry"
   ]
  },
  {
   "cell_type": "code",
   "execution_count": null,
   "metadata": {
    "ExecuteTime": {
     "end_time": "2020-12-31T14:23:14.290757Z",
     "start_time": "2020-12-31T14:23:14.251834Z"
    }
   },
   "outputs": [],
   "source": [
    "# remove stocks with None or blank as sector / industry\n",
    "si_data_df = ipo_df[(ipo_df[\"industry\"].notnull()) & (ipo_df[\"industry\"] != \"\")\n",
    "            & (ipo_df[\"sector\"].notnull()) & (ipo_df[\"sector\"] != \"\")]\n",
    "si_data_df.head(2)"
   ]
  },
  {
   "cell_type": "markdown",
   "metadata": {},
   "source": [
    "### Sector by Year"
   ]
  },
  {
   "cell_type": "code",
   "execution_count": null,
   "metadata": {
    "ExecuteTime": {
     "end_time": "2020-12-31T14:23:14.322895Z",
     "start_time": "2020-12-31T14:23:14.293698Z"
    }
   },
   "outputs": [],
   "source": [
    "sector_by_year_df = si_data_df.pivot_table(index='sector', columns='first_trade_year', \n",
    "                                    aggfunc={\"symbol\": 'count'})\n",
    "sector_by_year_df = sector_by_year_df.fillna(0).sort_values(by=sector_by_year_df.columns[-1], ascending=True)\n",
    "\n",
    "# pass to function to flatten columns\n",
    "sector_by_year_df = flatten_cols(sector_by_year_df)\n",
    "sector_by_year_df\n"
   ]
  },
  {
   "cell_type": "code",
   "execution_count": null,
   "metadata": {
    "ExecuteTime": {
     "end_time": "2020-12-31T18:57:34.403154Z",
     "start_time": "2020-12-31T18:57:34.152757Z"
    }
   },
   "outputs": [],
   "source": [
    "ax = sector_by_year_df.plot(kind=\"barh\", figsize=(8,7), color=colors, zorder=3, width=0.75)\n",
    "ax.grid(which=\"major\", axis='both', color='#e6e6e6', zorder=0)\n",
    "ax.legend([2018, 2019, 2020])\n",
    "ax.set_ylabel(f'Sector', fontsize=12)\n",
    "ax.set_xlabel(f'IPOs Count', fontsize=12)\n",
    "ax.set_title(\"IPO Count by Sector\", fontsize=20)\n",
    "plt.show()"
   ]
  },
  {
   "cell_type": "markdown",
   "metadata": {},
   "source": [
    "## Top Performing n Period"
   ]
  },
  {
   "cell_type": "markdown",
   "metadata": {},
   "source": [
    "Values for analysis"
   ]
  },
  {
   "cell_type": "code",
   "execution_count": null,
   "metadata": {
    "ExecuteTime": {
     "end_time": "2020-12-31T16:03:46.461356Z",
     "start_time": "2020-12-31T16:03:46.455369Z"
    }
   },
   "outputs": [],
   "source": [
    "# example stock to view\n",
    "stock_symbol = 'ABCM' "
   ]
  },
  {
   "cell_type": "markdown",
   "metadata": {},
   "source": [
    "Data preparation"
   ]
  },
  {
   "cell_type": "code",
   "execution_count": null,
   "metadata": {
    "ExecuteTime": {
     "end_time": "2020-12-31T17:08:22.969708Z",
     "start_time": "2020-12-31T17:08:22.927786Z"
    }
   },
   "outputs": [],
   "source": [
    "# add price change column\n",
    "sa_df = ipo_df.copy()\n",
    "sa_df[\"first_close_to_rec_close\"] = sa_df[\"most_recent_close\"] / sa_df[\"first_day_close\"] - 1\n",
    "sa_df.head(5)"
   ]
  },
  {
   "cell_type": "code",
   "execution_count": null,
   "metadata": {
    "ExecuteTime": {
     "end_time": "2020-12-31T17:38:40.905108Z",
     "start_time": "2020-12-31T17:38:40.888140Z"
    }
   },
   "outputs": [],
   "source": [
    "# get sector for stock of interest\n",
    "stock_sector = sa_df.loc[sa_df[\"symbol\"] == stock_symbol][\"sector\"].iloc[0]\n",
    "print(f\"{stock_symbol} is in the {stock_sector} sector\")\n",
    "\n",
    "# get industry for stock of interest\n",
    "stock_industry = sa_df.loc[sa_df[\"symbol\"] == stock_symbol][\"industry\"].iloc[0]\n",
    "print(f\"{stock_symbol} is in the {stock_industry} industry\")\n",
    "\n",
    "# get market cap classification for stock of interest\n",
    "stock_market_cap = sa_df.loc[sa_df[\"symbol\"] == stock_symbol][\"market_cap_classification\"].iloc[0]\n",
    "print(f\"{stock_symbol} is a {stock_market_cap} market cap\")"
   ]
  },
  {
   "cell_type": "code",
   "execution_count": null,
   "metadata": {
    "ExecuteTime": {
     "end_time": "2020-12-31T19:06:59.625500Z",
     "start_time": "2020-12-31T19:06:59.578627Z"
    }
   },
   "outputs": [],
   "source": [
    "# create new columns for vizualization\n",
    "# sector\n",
    "conditions = [(sa_df[\"symbol\"] == stock_symbol), (sa_df[\"sector\"] == stock_sector)]\n",
    "choices = [stock_symbol, stock_sector]\n",
    "sa_df[\"Stock Sector\"] = np.select(conditions, choices, \"Other\")\n",
    "\n",
    "# industry\n",
    "conditions = [(sa_df[\"symbol\"] == stock_symbol), (sa_df[\"industry\"] == stock_industry)]\n",
    "choices = [stock_symbol, stock_industry]\n",
    "sa_df[\"Stock Industry\"] = np.select(conditions, choices, \"Other\")\n",
    "\n",
    "# market cap\n",
    "conditions = [(sa_df[\"symbol\"] == stock_symbol), (sa_df[\"industry\"] == stock_market_cap)]\n",
    "choices = [stock_symbol, stock_market_cap]\n",
    "sa_df[\"Stock Market Cap\"] = np.select(conditions, choices, \"Other\")\n",
    "\n",
    "sa_df.head(2)"
   ]
  },
  {
   "cell_type": "code",
   "execution_count": null,
   "metadata": {
    "ExecuteTime": {
     "end_time": "2020-12-31T19:13:38.817633Z",
     "start_time": "2020-12-31T19:13:38.740851Z"
    }
   },
   "outputs": [],
   "source": [
    "# data for plotting sector in similar market cap\n",
    "sa_mc_df = sa_df[sa_df[\"market_cap_classification\"] == stock_market_cap]\n",
    "sa_mc_df"
   ]
  },
  {
   "cell_type": "code",
   "execution_count": null,
   "metadata": {
    "ExecuteTime": {
     "end_time": "2021-01-02T12:47:48.404361Z",
     "start_time": "2021-01-02T12:47:47.795941Z"
    }
   },
   "outputs": [],
   "source": [
    "# Plot\n",
    "colors = [\"#118AB2\", \"#EF476F\", \"#d9d9d9\"]\n",
    "sns.lmplot('days_trading', 'first_close_to_rec_close', data=sa_mc_df, hue='Stock Sector', \n",
    "           palette=colors[0:3], scatter_kws={\"s\": 100}, fit_reg=True, height=6, aspect=1.6)\n",
    "plt.title(\"Performance Over Time\", fontsize=20)\n",
    "plt.suptitle(f\"{stock_market_cap} IPOs\", fontsize=15)\n",
    "plt.ylabel(\"YOY Change\")\n",
    "plt.xlabel(\"Days Trading\")\n",
    "plt.grid(which=\"major\", axis='both', color='#e6e6e6', zorder=0)\n"
   ]
  },
  {
   "cell_type": "code",
   "execution_count": null,
   "metadata": {
    "ExecuteTime": {
     "end_time": "2020-12-31T19:02:46.738442Z",
     "start_time": "2020-12-31T19:02:46.543932Z"
    }
   },
   "outputs": [],
   "source": [
    "# remove stocks with None or blank as sector / industry\n",
    "ax1 = sa_df.plot(kind=\"scatter\", x=\"market_cap\", y=\"first_close_to_rec_close\", c=colors[0], figsize=(8,7), zorder=3)\n",
    "ax.margins(0.05)"
   ]
  },
  {
   "cell_type": "code",
   "execution_count": null,
   "metadata": {
    "ExecuteTime": {
     "end_time": "2020-12-31T18:04:24.381347Z",
     "start_time": "2020-12-31T18:04:23.070832Z"
    }
   },
   "outputs": [],
   "source": [
    "sns.relplot(\n",
    "    data=sa_df,\n",
    "    x=\"days_trading\", y=\"first_close_to_rec_close\", col=\"market_cap_classification\", col_wrap=3,\n",
    "    hue=\"Stock Sector\", palette=colors[0:3]\n",
    ")"
   ]
  },
  {
   "cell_type": "code",
   "execution_count": null,
   "metadata": {},
   "outputs": [],
   "source": []
  },
  {
   "cell_type": "code",
   "execution_count": null,
   "metadata": {},
   "outputs": [],
   "source": []
  },
  {
   "cell_type": "code",
   "execution_count": null,
   "metadata": {},
   "outputs": [],
   "source": [
    "# # table image with mpl option\n",
    "# https://stackoverflow.com/questions/19726663/how-to-save-the-pandas-dataframe-series-data-as-a-figure\n",
    "\n",
    "# import pandas as pd\n",
    "# import numpy as np\n",
    "# import matplotlib.pyplot as plt\n",
    "\n",
    "# df = pd.DataFrame()\n",
    "# df['date'] = ['2016-04-01', '2016-04-02', '2016-04-03']\n",
    "# df['calories'] = [2200, 2100, 1500]\n",
    "# df['sleep hours'] = [8, 7.5, 8.2]\n",
    "# df['gym'] = [True, False, False]\n",
    "\n",
    "# def render_mpl_table(data, col_width=3.0, row_height=0.625, font_size=12,\n",
    "#                      header_color='#118AB2', row_colors=['#f1f1f2', 'w'], edge_color='w',\n",
    "#                      bbox=[0, 0, 1, 1], header_columns=0,\n",
    "#                      ax=None, **kwargs):\n",
    "#     if ax is None:\n",
    "#         size = (np.array(data.shape[::-1]) + np.array([0, 1])) * np.array([col_width, row_height])\n",
    "#         fig, ax = plt.subplots(figsize=size)\n",
    "#         ax.axis('off')\n",
    "#     mpl_table = ax.table(cellText=data.values, bbox=bbox, colLabels=data.columns, **kwargs)\n",
    "#     mpl_table.auto_set_font_size(False)\n",
    "#     mpl_table.set_fontsize(font_size)\n",
    "\n",
    "#     for k, cell in mpl_table._cells.items():\n",
    "#         cell.set_edgecolor(edge_color)\n",
    "#         if k[0] == 0 or k[1] < header_columns:\n",
    "#             cell.set_text_props(weight='bold', color='w')\n",
    "#             cell.set_facecolor(header_color)\n",
    "#         else:\n",
    "#             cell.set_facecolor(row_colors[k[0]%len(row_colors) ])\n",
    "#     return ax.get_figure(), ax\n",
    "\n",
    "# fig,ax = render_mpl_table(tw_ipos_img_df, header_columns=0, col_width=2.5)\n",
    "# fig.savefig(\"table_mpl.png\")"
   ]
  }
 ],
 "metadata": {
  "kernelspec": {
   "display_name": "Python 3",
   "language": "python",
   "name": "python3"
  },
  "language_info": {
   "codemirror_mode": {
    "name": "ipython",
    "version": 3
   },
   "file_extension": ".py",
   "mimetype": "text/x-python",
   "name": "python",
   "nbconvert_exporter": "python",
   "pygments_lexer": "ipython3",
   "version": "3.7.4"
  },
  "toc": {
   "base_numbering": 1,
   "nav_menu": {},
   "number_sections": true,
   "sideBar": true,
   "skip_h1_title": false,
   "title_cell": "Table of Contents",
   "title_sidebar": "Contents",
   "toc_cell": false,
   "toc_position": {
    "height": "calc(100% - 180px)",
    "left": "10px",
    "top": "150px",
    "width": "245px"
   },
   "toc_section_display": true,
   "toc_window_display": true
  },
  "varInspector": {
   "cols": {
    "lenName": 16,
    "lenType": 16,
    "lenVar": 40
   },
   "kernels_config": {
    "python": {
     "delete_cmd_postfix": "",
     "delete_cmd_prefix": "del ",
     "library": "var_list.py",
     "varRefreshCmd": "print(var_dic_list())"
    },
    "r": {
     "delete_cmd_postfix": ") ",
     "delete_cmd_prefix": "rm(",
     "library": "var_list.r",
     "varRefreshCmd": "cat(var_dic_list()) "
    }
   },
   "types_to_exclude": [
    "module",
    "function",
    "builtin_function_or_method",
    "instance",
    "_Feature"
   ],
   "window_display": false
  }
 },
 "nbformat": 4,
 "nbformat_minor": 2
}
