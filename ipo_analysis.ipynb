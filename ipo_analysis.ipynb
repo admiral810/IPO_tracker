{
 "cells": [
  {
   "cell_type": "code",
   "execution_count": 10,
   "metadata": {
    "ExecuteTime": {
     "end_time": "2021-02-01T21:22:48.337521Z",
     "start_time": "2021-02-01T21:22:48.327513Z"
    }
   },
   "outputs": [],
   "source": [
    "# import libraries\n",
    "import requests\n",
    "import time\n",
    "from datetime import datetime, date, timedelta\n",
    "import json\n",
    "import sys\n",
    "import numpy as np\n",
    "import pandas as pd\n",
    "pd.set_option('display.max_columns', 500)  #allows display of all columns in dfs\n",
    "\n",
    "\n",
    "import matplotlib.pyplot as plt\n",
    "%matplotlib inline\n",
    "import seaborn as sns\n",
    "colors = [\"#118AB2\", \"#EF476F\", \"#FFD166\", \"#06D6A0\", \"#EE754D\", \"#002E99\"]\n",
    "#plt.style.use('seaborn-whitegrid')\n",
    "\n",
    "from sqlalchemy.ext.automap import automap_base\n",
    "from sqlalchemy.orm import Session\n",
    "from sqlalchemy import create_engine"
   ]
  },
  {
   "cell_type": "code",
   "execution_count": 11,
   "metadata": {
    "ExecuteTime": {
     "end_time": "2021-02-01T21:22:48.657425Z",
     "start_time": "2021-02-01T21:22:48.650478Z"
    }
   },
   "outputs": [],
   "source": [
    "# mysql login info\n",
    "sys.path.insert(0, '../../Key')\n",
    "from mysql_secret import dbuser, dbpass, dbhost, dbname\n",
    "engine = create_engine(f'mysql://{dbuser}:{dbpass}@{dbhost}/{dbname}?charset=utf8')"
   ]
  },
  {
   "cell_type": "code",
   "execution_count": 12,
   "metadata": {
    "ExecuteTime": {
     "end_time": "2021-02-01T21:22:49.238719Z",
     "start_time": "2021-02-01T21:22:49.232733Z"
    }
   },
   "outputs": [],
   "source": [
    "def flatten_cols(df):\n",
    "    df.columns = [\n",
    "        '_'.join(tuple(map(str, t))).strip() \n",
    "        for t in df.columns.values\n",
    "        ]\n",
    "    return df"
   ]
  },
  {
   "cell_type": "code",
   "execution_count": 13,
   "metadata": {
    "ExecuteTime": {
     "end_time": "2021-02-01T21:22:50.140832Z",
     "start_time": "2021-02-01T21:22:50.135846Z"
    }
   },
   "outputs": [],
   "source": [
    "# Establish Twitter connection\n",
    "import tweepy\n",
    "\n",
    "# get tweepy credentials\n",
    "sys.path.insert(0, '../../Key')\n",
    "from tweepy_keys import CONSUMER_KEY, CONSUMER_SECRET, ACCESS_KEY, ACCESS_SECRET\n",
    "\n",
    "auth = tweepy.OAuthHandler(CONSUMER_KEY, CONSUMER_SECRET)\n",
    "auth.set_access_token(ACCESS_KEY, ACCESS_SECRET)\n",
    "\n",
    "api = tweepy.API(auth)"
   ]
  },
  {
   "cell_type": "markdown",
   "metadata": {
    "ExecuteTime": {
     "end_time": "2021-01-22T02:52:08.776264Z",
     "start_time": "2021-01-22T02:52:08.771272Z"
    }
   },
   "source": [
    "# Upcoming Week Schedule"
   ]
  },
  {
   "cell_type": "code",
   "execution_count": 14,
   "metadata": {
    "ExecuteTime": {
     "end_time": "2021-02-01T21:22:52.700868Z",
     "start_time": "2021-02-01T21:22:52.693852Z"
    }
   },
   "outputs": [
    {
     "name": "stdout",
     "output_type": "stream",
     "text": [
      "2021-02-01 to 2021-02-08\n"
     ]
    }
   ],
   "source": [
    "# get range for today until one week from today\n",
    "today = date.today()\n",
    "week_from_today = today + timedelta(days=7)\n",
    "\n",
    "#convert to string for query purposes from SQL\n",
    "today = today.strftime(\"%Y-%m-%d\")\n",
    "week_from_today = week_from_today.strftime(\"%Y-%m-%d\")\n",
    "\n",
    "print(f\"{today} to {week_from_today}\")"
   ]
  },
  {
   "cell_type": "code",
   "execution_count": 15,
   "metadata": {
    "ExecuteTime": {
     "end_time": "2021-02-01T21:22:53.959444Z",
     "start_time": "2021-02-01T21:22:53.449002Z"
    }
   },
   "outputs": [],
   "source": [
    "connection = engine.connect()\n",
    "this_weeks_ipos_df = pd.read_sql(f\"\"\"\n",
    "    SELECT *\n",
    "    FROM stocks\n",
    "    WHERE priced_date BETWEEN '{today}' and '{week_from_today}'\n",
    "    \"\"\", connection)"
   ]
  },
  {
   "cell_type": "code",
   "execution_count": 16,
   "metadata": {
    "ExecuteTime": {
     "end_time": "2021-02-01T21:22:59.230249Z",
     "start_time": "2021-02-01T21:22:59.202324Z"
    }
   },
   "outputs": [
    {
     "data": {
      "text/html": [
       "<div>\n",
       "<style scoped>\n",
       "    .dataframe tbody tr th:only-of-type {\n",
       "        vertical-align: middle;\n",
       "    }\n",
       "\n",
       "    .dataframe tbody tr th {\n",
       "        vertical-align: top;\n",
       "    }\n",
       "\n",
       "    .dataframe thead th {\n",
       "        text-align: right;\n",
       "    }\n",
       "</style>\n",
       "<table border=\"1\" class=\"dataframe\">\n",
       "  <thead>\n",
       "    <tr style=\"text-align: right;\">\n",
       "      <th></th>\n",
       "      <th>symbol</th>\n",
       "      <th>company</th>\n",
       "      <th>exchange</th>\n",
       "      <th>proposed_share_price</th>\n",
       "      <th>shares_offered</th>\n",
       "      <th>priced_date</th>\n",
       "      <th>dollar_val_shares</th>\n",
       "      <th>deal_status</th>\n",
       "      <th>proposed_cap_classifiction</th>\n",
       "      <th>price_month_day</th>\n",
       "    </tr>\n",
       "  </thead>\n",
       "  <tbody>\n",
       "    <tr>\n",
       "      <td>3</td>\n",
       "      <td>ONTF</td>\n",
       "      <td>ON24 INC</td>\n",
       "      <td>NYSE</td>\n",
       "      <td>45.00-50.00</td>\n",
       "      <td>8600977</td>\n",
       "      <td>2021-02-03</td>\n",
       "      <td>494556150.0</td>\n",
       "      <td>expected</td>\n",
       "      <td>Small-cap</td>\n",
       "      <td>Feb 03</td>\n",
       "    </tr>\n",
       "    <tr>\n",
       "      <td>5</td>\n",
       "      <td>TIXT</td>\n",
       "      <td>TELUS International (Cda) Inc.</td>\n",
       "      <td>NYSE</td>\n",
       "      <td>23.00-25.00</td>\n",
       "      <td>33333333</td>\n",
       "      <td>2021-02-03</td>\n",
       "      <td>958333325.0</td>\n",
       "      <td>expected</td>\n",
       "      <td>Small-cap</td>\n",
       "      <td>Feb 03</td>\n",
       "    </tr>\n",
       "    <tr>\n",
       "      <td>0</td>\n",
       "      <td>ATC</td>\n",
       "      <td>Atotech Ltd</td>\n",
       "      <td>NYSE</td>\n",
       "      <td>19.00-22.00</td>\n",
       "      <td>34146000</td>\n",
       "      <td>2021-02-04</td>\n",
       "      <td>863893800.0</td>\n",
       "      <td>expected</td>\n",
       "      <td>Small-cap</td>\n",
       "      <td>Feb 04</td>\n",
       "    </tr>\n",
       "    <tr>\n",
       "      <td>1</td>\n",
       "      <td>LABP</td>\n",
       "      <td>Landos Biopharma, Inc.</td>\n",
       "      <td>NASDAQ Global</td>\n",
       "      <td>15.00-17.00</td>\n",
       "      <td>6250000</td>\n",
       "      <td>2021-02-04</td>\n",
       "      <td>122187500.0</td>\n",
       "      <td>expected</td>\n",
       "      <td>Micro-cap</td>\n",
       "      <td>Feb 04</td>\n",
       "    </tr>\n",
       "    <tr>\n",
       "      <td>2</td>\n",
       "      <td>LDI</td>\n",
       "      <td>loanDepot, Inc.</td>\n",
       "      <td>NYSE</td>\n",
       "      <td>19.00-21.00</td>\n",
       "      <td>15000000</td>\n",
       "      <td>2021-02-04</td>\n",
       "      <td>362250000.0</td>\n",
       "      <td>expected</td>\n",
       "      <td>Small-cap</td>\n",
       "      <td>Feb 04</td>\n",
       "    </tr>\n",
       "    <tr>\n",
       "      <td>4</td>\n",
       "      <td>SANA</td>\n",
       "      <td>Sana Biotechnology, Inc.</td>\n",
       "      <td>NASDAQ Global Select</td>\n",
       "      <td>20.00-23.00</td>\n",
       "      <td>15000000</td>\n",
       "      <td>2021-02-04</td>\n",
       "      <td>396750000.0</td>\n",
       "      <td>expected</td>\n",
       "      <td>Small-cap</td>\n",
       "      <td>Feb 04</td>\n",
       "    </tr>\n",
       "  </tbody>\n",
       "</table>\n",
       "</div>"
      ],
      "text/plain": [
       "  symbol                         company              exchange  \\\n",
       "3   ONTF                        ON24 INC                  NYSE   \n",
       "5   TIXT  TELUS International (Cda) Inc.                  NYSE   \n",
       "0    ATC                     Atotech Ltd                  NYSE   \n",
       "1   LABP          Landos Biopharma, Inc.         NASDAQ Global   \n",
       "2    LDI                 loanDepot, Inc.                  NYSE   \n",
       "4   SANA        Sana Biotechnology, Inc.  NASDAQ Global Select   \n",
       "\n",
       "  proposed_share_price  shares_offered priced_date  dollar_val_shares  \\\n",
       "3          45.00-50.00         8600977  2021-02-03        494556150.0   \n",
       "5          23.00-25.00        33333333  2021-02-03        958333325.0   \n",
       "0          19.00-22.00        34146000  2021-02-04        863893800.0   \n",
       "1          15.00-17.00         6250000  2021-02-04        122187500.0   \n",
       "2          19.00-21.00        15000000  2021-02-04        362250000.0   \n",
       "4          20.00-23.00        15000000  2021-02-04        396750000.0   \n",
       "\n",
       "  deal_status proposed_cap_classifiction price_month_day  \n",
       "3    expected                  Small-cap          Feb 03  \n",
       "5    expected                  Small-cap          Feb 03  \n",
       "0    expected                  Small-cap          Feb 04  \n",
       "1    expected                  Micro-cap          Feb 04  \n",
       "2    expected                  Small-cap          Feb 04  \n",
       "4    expected                  Small-cap          Feb 04  "
      ]
     },
     "execution_count": 16,
     "metadata": {},
     "output_type": "execute_result"
    }
   ],
   "source": [
    "# add trimmed date that is only month and day\n",
    "this_weeks_ipos_df['priced_date'] =  pd.to_datetime(this_weeks_ipos_df['priced_date'])\n",
    "\n",
    "# add column for month day\n",
    "this_weeks_ipos_df[\"price_month_day\"] = this_weeks_ipos_df['priced_date'].dt.strftime('%b %d')\n",
    "this_weeks_ipos_df = this_weeks_ipos_df.sort_values(\"priced_date\")\n",
    "this_weeks_ipos_df"
   ]
  },
  {
   "cell_type": "code",
   "execution_count": 17,
   "metadata": {
    "ExecuteTime": {
     "end_time": "2021-02-01T21:23:13.821266Z",
     "start_time": "2021-02-01T21:23:13.810326Z"
    }
   },
   "outputs": [
    {
     "name": "stdout",
     "output_type": "stream",
     "text": [
      "Upcoming scheduled IPOs:\n",
      "\n",
      "Feb 03: $ONTF proposed price $45-50\n",
      "Feb 03: $TIXT proposed price $23-25\n",
      "Feb 04: $ATC proposed price $19-22\n",
      "Feb 04: $LABP proposed price $15-17\n",
      "Feb 04: $LDI proposed price $19-21\n",
      "Feb 04: $SANA proposed price $20-23\n",
      "******\n",
      "Character Count: 239\n"
     ]
    }
   ],
   "source": [
    "# get tweet text \n",
    "tweet_text = \"Upcoming scheduled IPOs:\\n\"\n",
    "for row in this_weeks_ipos_df.itertuples():\n",
    "    \n",
    "    # remove .00 from proposed share prices to reduce unecesary characters\n",
    "    psp = row.proposed_share_price.replace(\".00\", \"\")\n",
    "    \n",
    "    tweet_text += \"\\n\"\n",
    "    row_text = f\"{row.price_month_day}: ${row.symbol} proposed price ${psp}\" \n",
    "    tweet_text += row_text\n",
    "print(tweet_text)\n",
    "print(f\"******\\nCharacter Count: {len(tweet_text)}\")\n"
   ]
  },
  {
   "cell_type": "code",
   "execution_count": 18,
   "metadata": {
    "ExecuteTime": {
     "end_time": "2021-02-01T21:24:05.492245Z",
     "start_time": "2021-02-01T21:24:04.009775Z"
    }
   },
   "outputs": [
    {
     "data": {
      "text/plain": [
       "Status(_api=<tweepy.api.API object at 0x000001E2943D0E48>, _json={'created_at': 'Mon Feb 01 21:24:06 +0000 2021', 'id': 1356352649571020800, 'id_str': '1356352649571020800', 'text': 'Upcoming scheduled IPOs:\\n\\nFeb 03: $ONTF proposed price $45-50\\nFeb 03: $TIXT proposed price $23-25\\nFeb 04: $ATC prop… https://t.co/DtDn26SNlZ', 'truncated': True, 'entities': {'hashtags': [], 'symbols': [{'text': 'ONTF', 'indices': [34, 39]}, {'text': 'TIXT', 'indices': [70, 75]}, {'text': 'ATC', 'indices': [106, 110]}], 'user_mentions': [], 'urls': [{'url': 'https://t.co/DtDn26SNlZ', 'expanded_url': 'https://twitter.com/i/web/status/1356352649571020800', 'display_url': 'twitter.com/i/web/status/1…', 'indices': [117, 140]}]}, 'source': '', 'in_reply_to_status_id': None, 'in_reply_to_status_id_str': None, 'in_reply_to_user_id': None, 'in_reply_to_user_id_str': None, 'in_reply_to_screen_name': None, 'user': {'id': 1285746488862269440, 'id_str': '1285746488862269440', 'name': 'IPO Tracker 3000', 'screen_name': 'TrackerIpo', 'location': '', 'description': 'Tracking all things IPOs. Get notified of upcoming public offerings and analysis. Part 🤖, part 👨. Under development.', 'url': None, 'entities': {'description': {'urls': []}}, 'protected': False, 'followers_count': 11, 'friends_count': 0, 'listed_count': 0, 'created_at': 'Wed Jul 22 01:20:42 +0000 2020', 'favourites_count': 0, 'utc_offset': None, 'time_zone': None, 'geo_enabled': False, 'verified': False, 'statuses_count': 4, 'lang': None, 'contributors_enabled': False, 'is_translator': False, 'is_translation_enabled': False, 'profile_background_color': 'F5F8FA', 'profile_background_image_url': None, 'profile_background_image_url_https': None, 'profile_background_tile': False, 'profile_image_url': 'http://pbs.twimg.com/profile_images/1285747025640935424/V6fdg5Lx_normal.jpg', 'profile_image_url_https': 'https://pbs.twimg.com/profile_images/1285747025640935424/V6fdg5Lx_normal.jpg', 'profile_banner_url': 'https://pbs.twimg.com/profile_banners/1285746488862269440/1611190950', 'profile_link_color': '1DA1F2', 'profile_sidebar_border_color': 'C0DEED', 'profile_sidebar_fill_color': 'DDEEF6', 'profile_text_color': '333333', 'profile_use_background_image': True, 'has_extended_profile': True, 'default_profile': True, 'default_profile_image': False, 'following': False, 'follow_request_sent': False, 'notifications': False, 'translator_type': 'none'}, 'geo': None, 'coordinates': None, 'place': None, 'contributors': None, 'is_quote_status': False, 'retweet_count': 0, 'favorite_count': 0, 'favorited': False, 'retweeted': False, 'lang': 'en'}, created_at=datetime.datetime(2021, 2, 1, 21, 24, 6), id=1356352649571020800, id_str='1356352649571020800', text='Upcoming scheduled IPOs:\\n\\nFeb 03: $ONTF proposed price $45-50\\nFeb 03: $TIXT proposed price $23-25\\nFeb 04: $ATC prop… https://t.co/DtDn26SNlZ', truncated=True, entities={'hashtags': [], 'symbols': [{'text': 'ONTF', 'indices': [34, 39]}, {'text': 'TIXT', 'indices': [70, 75]}, {'text': 'ATC', 'indices': [106, 110]}], 'user_mentions': [], 'urls': [{'url': 'https://t.co/DtDn26SNlZ', 'expanded_url': 'https://twitter.com/i/web/status/1356352649571020800', 'display_url': 'twitter.com/i/web/status/1…', 'indices': [117, 140]}]}, source='', source_url=None, in_reply_to_status_id=None, in_reply_to_status_id_str=None, in_reply_to_user_id=None, in_reply_to_user_id_str=None, in_reply_to_screen_name=None, author=User(_api=<tweepy.api.API object at 0x000001E2943D0E48>, _json={'id': 1285746488862269440, 'id_str': '1285746488862269440', 'name': 'IPO Tracker 3000', 'screen_name': 'TrackerIpo', 'location': '', 'description': 'Tracking all things IPOs. Get notified of upcoming public offerings and analysis. Part 🤖, part 👨. Under development.', 'url': None, 'entities': {'description': {'urls': []}}, 'protected': False, 'followers_count': 11, 'friends_count': 0, 'listed_count': 0, 'created_at': 'Wed Jul 22 01:20:42 +0000 2020', 'favourites_count': 0, 'utc_offset': None, 'time_zone': None, 'geo_enabled': False, 'verified': False, 'statuses_count': 4, 'lang': None, 'contributors_enabled': False, 'is_translator': False, 'is_translation_enabled': False, 'profile_background_color': 'F5F8FA', 'profile_background_image_url': None, 'profile_background_image_url_https': None, 'profile_background_tile': False, 'profile_image_url': 'http://pbs.twimg.com/profile_images/1285747025640935424/V6fdg5Lx_normal.jpg', 'profile_image_url_https': 'https://pbs.twimg.com/profile_images/1285747025640935424/V6fdg5Lx_normal.jpg', 'profile_banner_url': 'https://pbs.twimg.com/profile_banners/1285746488862269440/1611190950', 'profile_link_color': '1DA1F2', 'profile_sidebar_border_color': 'C0DEED', 'profile_sidebar_fill_color': 'DDEEF6', 'profile_text_color': '333333', 'profile_use_background_image': True, 'has_extended_profile': True, 'default_profile': True, 'default_profile_image': False, 'following': False, 'follow_request_sent': False, 'notifications': False, 'translator_type': 'none'}, id=1285746488862269440, id_str='1285746488862269440', name='IPO Tracker 3000', screen_name='TrackerIpo', location='', description='Tracking all things IPOs. Get notified of upcoming public offerings and analysis. Part 🤖, part 👨. Under development.', url=None, entities={'description': {'urls': []}}, protected=False, followers_count=11, friends_count=0, listed_count=0, created_at=datetime.datetime(2020, 7, 22, 1, 20, 42), favourites_count=0, utc_offset=None, time_zone=None, geo_enabled=False, verified=False, statuses_count=4, lang=None, contributors_enabled=False, is_translator=False, is_translation_enabled=False, profile_background_color='F5F8FA', profile_background_image_url=None, profile_background_image_url_https=None, profile_background_tile=False, profile_image_url='http://pbs.twimg.com/profile_images/1285747025640935424/V6fdg5Lx_normal.jpg', profile_image_url_https='https://pbs.twimg.com/profile_images/1285747025640935424/V6fdg5Lx_normal.jpg', profile_banner_url='https://pbs.twimg.com/profile_banners/1285746488862269440/1611190950', profile_link_color='1DA1F2', profile_sidebar_border_color='C0DEED', profile_sidebar_fill_color='DDEEF6', profile_text_color='333333', profile_use_background_image=True, has_extended_profile=True, default_profile=True, default_profile_image=False, following=False, follow_request_sent=False, notifications=False, translator_type='none'), user=User(_api=<tweepy.api.API object at 0x000001E2943D0E48>, _json={'id': 1285746488862269440, 'id_str': '1285746488862269440', 'name': 'IPO Tracker 3000', 'screen_name': 'TrackerIpo', 'location': '', 'description': 'Tracking all things IPOs. Get notified of upcoming public offerings and analysis. Part 🤖, part 👨. Under development.', 'url': None, 'entities': {'description': {'urls': []}}, 'protected': False, 'followers_count': 11, 'friends_count': 0, 'listed_count': 0, 'created_at': 'Wed Jul 22 01:20:42 +0000 2020', 'favourites_count': 0, 'utc_offset': None, 'time_zone': None, 'geo_enabled': False, 'verified': False, 'statuses_count': 4, 'lang': None, 'contributors_enabled': False, 'is_translator': False, 'is_translation_enabled': False, 'profile_background_color': 'F5F8FA', 'profile_background_image_url': None, 'profile_background_image_url_https': None, 'profile_background_tile': False, 'profile_image_url': 'http://pbs.twimg.com/profile_images/1285747025640935424/V6fdg5Lx_normal.jpg', 'profile_image_url_https': 'https://pbs.twimg.com/profile_images/1285747025640935424/V6fdg5Lx_normal.jpg', 'profile_banner_url': 'https://pbs.twimg.com/profile_banners/1285746488862269440/1611190950', 'profile_link_color': '1DA1F2', 'profile_sidebar_border_color': 'C0DEED', 'profile_sidebar_fill_color': 'DDEEF6', 'profile_text_color': '333333', 'profile_use_background_image': True, 'has_extended_profile': True, 'default_profile': True, 'default_profile_image': False, 'following': False, 'follow_request_sent': False, 'notifications': False, 'translator_type': 'none'}, id=1285746488862269440, id_str='1285746488862269440', name='IPO Tracker 3000', screen_name='TrackerIpo', location='', description='Tracking all things IPOs. Get notified of upcoming public offerings and analysis. Part 🤖, part 👨. Under development.', url=None, entities={'description': {'urls': []}}, protected=False, followers_count=11, friends_count=0, listed_count=0, created_at=datetime.datetime(2020, 7, 22, 1, 20, 42), favourites_count=0, utc_offset=None, time_zone=None, geo_enabled=False, verified=False, statuses_count=4, lang=None, contributors_enabled=False, is_translator=False, is_translation_enabled=False, profile_background_color='F5F8FA', profile_background_image_url=None, profile_background_image_url_https=None, profile_background_tile=False, profile_image_url='http://pbs.twimg.com/profile_images/1285747025640935424/V6fdg5Lx_normal.jpg', profile_image_url_https='https://pbs.twimg.com/profile_images/1285747025640935424/V6fdg5Lx_normal.jpg', profile_banner_url='https://pbs.twimg.com/profile_banners/1285746488862269440/1611190950', profile_link_color='1DA1F2', profile_sidebar_border_color='C0DEED', profile_sidebar_fill_color='DDEEF6', profile_text_color='333333', profile_use_background_image=True, has_extended_profile=True, default_profile=True, default_profile_image=False, following=False, follow_request_sent=False, notifications=False, translator_type='none'), geo=None, coordinates=None, place=None, contributors=None, is_quote_status=False, retweet_count=0, favorite_count=0, favorited=False, retweeted=False, lang='en')"
      ]
     },
     "execution_count": 18,
     "metadata": {},
     "output_type": "execute_result"
    }
   ],
   "source": [
    "# Send out the tweet\n",
    "api.update_status(tweet_text)  "
   ]
  },
  {
   "cell_type": "markdown",
   "metadata": {},
   "source": [
    "# Stock Goes Live Today"
   ]
  },
  {
   "cell_type": "code",
   "execution_count": null,
   "metadata": {
    "ExecuteTime": {
     "end_time": "2021-01-26T02:07:15.115139Z",
     "start_time": "2021-01-26T02:07:15.106163Z"
    }
   },
   "outputs": [],
   "source": [
    "# get todays date\n",
    "today = date(2021, 1, 21).strftime(\"%Y-%m-%d\")  #date for testing, not actually today\n",
    "# today = datetime.today().strftime(\"%Y-%m-%d\")\n",
    "print(today)"
   ]
  },
  {
   "cell_type": "code",
   "execution_count": null,
   "metadata": {
    "ExecuteTime": {
     "end_time": "2021-01-26T02:07:15.892498Z",
     "start_time": "2021-01-26T02:07:15.339599Z"
    }
   },
   "outputs": [],
   "source": [
    "# get stocks that go live today\n",
    "engine = create_engine(f'mysql://{dbuser}:{dbpass}@{dbhost}/{dbname}?charset=utf8')\n",
    "connection = engine.connect()\n",
    "df = pd.read_sql(f\"\"\"\n",
    "    SELECT s.*, \n",
    "        ci.city, \n",
    "        ci.state,\n",
    "        ci.country,\n",
    "        ci.website, \n",
    "        ci.industry,\n",
    "        ci.sector, \n",
    "        ci.business_summary\n",
    "    FROM stocks s\n",
    "    LEFT JOIN company_info ci\n",
    "        ON s.symbol = ci.symbol\n",
    "    WHERE priced_date = '{today}'\n",
    "        AND exchange <> 'NASDAQ Capital'\"\"\", connection)\n",
    "connection.close()\n",
    "df"
   ]
  },
  {
   "cell_type": "code",
   "execution_count": null,
   "metadata": {
    "ExecuteTime": {
     "end_time": "2021-01-26T02:07:15.929400Z",
     "start_time": "2021-01-26T02:07:15.918430Z"
    }
   },
   "outputs": [],
   "source": [
    "# industry portion of tweet\n",
    "stock_industry = None\n",
    "if df['industry'][0] is None:\n",
    "    pass\n",
    "elif df['industry'][0] == '':\n",
    "    pass\n",
    "else:\n",
    "    stock_industry = df['industry'][0].lower()\n",
    "\n",
    "    \n",
    "print(stock_industry)"
   ]
  },
  {
   "cell_type": "code",
   "execution_count": null,
   "metadata": {},
   "outputs": [],
   "source": [
    "# region portion of tweet\n",
    "stock_region = None\n",
    "\n",
    "# if no country information, pass\n",
    "if df['country'][0] is None:\n",
    "    pass\n",
    "elif df['industry'][0] == '':\n",
    "    pass\n",
    "else:\n",
    "    stock_industry = df['industry'][0].lower()\n",
    "\n",
    "    \n",
    "print(stock_region)"
   ]
  },
  {
   "cell_type": "code",
   "execution_count": null,
   "metadata": {
    "ExecuteTime": {
     "end_time": "2021-01-26T02:07:09.170526Z",
     "start_time": "2021-01-26T02:07:08.582040Z"
    }
   },
   "outputs": [],
   "source": [
    "tweet_text = f\"{df['company'][0]} ${df['symbol'][0]} should trade today, a {stock_industry} company out of \"\n",
    "\n",
    "tweet_text"
   ]
  },
  {
   "cell_type": "code",
   "execution_count": null,
   "metadata": {},
   "outputs": [],
   "source": [
    "# wrap text https://matplotlib.org/3.1.1/gallery/text_labels_and_annotations/autowrap.html"
   ]
  },
  {
   "cell_type": "markdown",
   "metadata": {},
   "source": [
    "# Performance Analysis"
   ]
  },
  {
   "cell_type": "code",
   "execution_count": null,
   "metadata": {
    "ExecuteTime": {
     "end_time": "2021-01-17T18:15:58.624687Z",
     "start_time": "2021-01-17T18:15:51.616781Z"
    }
   },
   "outputs": [],
   "source": [
    "connection = engine.connect()\n",
    "ipo_df = pd.read_sql(\"SELECT * FROM ipo_tracker.vw_stocks_performance\", connection)\n",
    "connection.close()\n",
    "ipo_df.head()"
   ]
  },
  {
   "cell_type": "markdown",
   "metadata": {},
   "source": [
    "## Sector and Industry"
   ]
  },
  {
   "cell_type": "code",
   "execution_count": null,
   "metadata": {
    "ExecuteTime": {
     "end_time": "2020-12-31T14:23:14.290757Z",
     "start_time": "2020-12-31T14:23:14.251834Z"
    }
   },
   "outputs": [],
   "source": [
    "# remove stocks with None or blank as sector / industry\n",
    "si_data_df = ipo_df[(ipo_df[\"industry\"].notnull()) & (ipo_df[\"industry\"] != \"\")\n",
    "            & (ipo_df[\"sector\"].notnull()) & (ipo_df[\"sector\"] != \"\")]\n",
    "si_data_df.head(2)"
   ]
  },
  {
   "cell_type": "markdown",
   "metadata": {},
   "source": [
    "### Sector by Year"
   ]
  },
  {
   "cell_type": "code",
   "execution_count": null,
   "metadata": {
    "ExecuteTime": {
     "end_time": "2020-12-31T14:23:14.322895Z",
     "start_time": "2020-12-31T14:23:14.293698Z"
    }
   },
   "outputs": [],
   "source": [
    "sector_by_year_df = si_data_df.pivot_table(index='sector', columns='first_trade_year', \n",
    "                                    aggfunc={\"symbol\": 'count'})\n",
    "sector_by_year_df = sector_by_year_df.fillna(0).sort_values(by=sector_by_year_df.columns[-1], ascending=True)\n",
    "\n",
    "# pass to function to flatten columns\n",
    "sector_by_year_df = flatten_cols(sector_by_year_df)\n",
    "sector_by_year_df\n"
   ]
  },
  {
   "cell_type": "code",
   "execution_count": null,
   "metadata": {
    "ExecuteTime": {
     "end_time": "2020-12-31T18:57:34.403154Z",
     "start_time": "2020-12-31T18:57:34.152757Z"
    }
   },
   "outputs": [],
   "source": [
    "ax = sector_by_year_df.plot(kind=\"barh\", figsize=(8,7), color=colors, zorder=3, width=0.75)\n",
    "ax.grid(which=\"major\", axis='both', color='#e6e6e6', zorder=0)\n",
    "ax.legend([2018, 2019, 2020])\n",
    "ax.set_ylabel(f'Sector', fontsize=12)\n",
    "ax.set_xlabel(f'IPOs Count', fontsize=12)\n",
    "ax.set_title(\"IPO Count by Sector\", fontsize=20)\n",
    "plt.show()"
   ]
  },
  {
   "cell_type": "markdown",
   "metadata": {},
   "source": [
    "## Top Performing n Period"
   ]
  },
  {
   "cell_type": "markdown",
   "metadata": {},
   "source": [
    "Values for analysis"
   ]
  },
  {
   "cell_type": "code",
   "execution_count": null,
   "metadata": {
    "ExecuteTime": {
     "end_time": "2020-12-31T16:03:46.461356Z",
     "start_time": "2020-12-31T16:03:46.455369Z"
    }
   },
   "outputs": [],
   "source": [
    "# example stock to view\n",
    "stock_symbol = 'ABCM' "
   ]
  },
  {
   "cell_type": "markdown",
   "metadata": {},
   "source": [
    "Data preparation"
   ]
  },
  {
   "cell_type": "code",
   "execution_count": null,
   "metadata": {
    "ExecuteTime": {
     "end_time": "2020-12-31T17:08:22.969708Z",
     "start_time": "2020-12-31T17:08:22.927786Z"
    }
   },
   "outputs": [],
   "source": [
    "# add price change column\n",
    "sa_df = ipo_df.copy()\n",
    "sa_df[\"first_close_to_rec_close\"] = sa_df[\"most_recent_close\"] / sa_df[\"first_day_close\"] - 1\n",
    "sa_df.head(5)"
   ]
  },
  {
   "cell_type": "code",
   "execution_count": null,
   "metadata": {
    "ExecuteTime": {
     "end_time": "2020-12-31T17:38:40.905108Z",
     "start_time": "2020-12-31T17:38:40.888140Z"
    }
   },
   "outputs": [],
   "source": [
    "# get sector for stock of interest\n",
    "stock_sector = sa_df.loc[sa_df[\"symbol\"] == stock_symbol][\"sector\"].iloc[0]\n",
    "print(f\"{stock_symbol} is in the {stock_sector} sector\")\n",
    "\n",
    "# get industry for stock of interest\n",
    "stock_industry = sa_df.loc[sa_df[\"symbol\"] == stock_symbol][\"industry\"].iloc[0]\n",
    "print(f\"{stock_symbol} is in the {stock_industry} industry\")\n",
    "\n",
    "# get market cap classification for stock of interest\n",
    "stock_market_cap = sa_df.loc[sa_df[\"symbol\"] == stock_symbol][\"market_cap_classification\"].iloc[0]\n",
    "print(f\"{stock_symbol} is a {stock_market_cap} market cap\")"
   ]
  },
  {
   "cell_type": "code",
   "execution_count": null,
   "metadata": {
    "ExecuteTime": {
     "end_time": "2020-12-31T19:06:59.625500Z",
     "start_time": "2020-12-31T19:06:59.578627Z"
    }
   },
   "outputs": [],
   "source": [
    "# create new columns for vizualization\n",
    "# sector\n",
    "conditions = [(sa_df[\"symbol\"] == stock_symbol), (sa_df[\"sector\"] == stock_sector)]\n",
    "choices = [stock_symbol, stock_sector]\n",
    "sa_df[\"Stock Sector\"] = np.select(conditions, choices, \"Other\")\n",
    "\n",
    "# industry\n",
    "conditions = [(sa_df[\"symbol\"] == stock_symbol), (sa_df[\"industry\"] == stock_industry)]\n",
    "choices = [stock_symbol, stock_industry]\n",
    "sa_df[\"Stock Industry\"] = np.select(conditions, choices, \"Other\")\n",
    "\n",
    "# market cap\n",
    "conditions = [(sa_df[\"symbol\"] == stock_symbol), (sa_df[\"industry\"] == stock_market_cap)]\n",
    "choices = [stock_symbol, stock_market_cap]\n",
    "sa_df[\"Stock Market Cap\"] = np.select(conditions, choices, \"Other\")\n",
    "\n",
    "sa_df.head(2)"
   ]
  },
  {
   "cell_type": "code",
   "execution_count": null,
   "metadata": {
    "ExecuteTime": {
     "end_time": "2020-12-31T19:13:38.817633Z",
     "start_time": "2020-12-31T19:13:38.740851Z"
    }
   },
   "outputs": [],
   "source": [
    "# data for plotting sector in similar market cap\n",
    "sa_mc_df = sa_df[sa_df[\"market_cap_classification\"] == stock_market_cap]\n",
    "sa_mc_df"
   ]
  },
  {
   "cell_type": "code",
   "execution_count": null,
   "metadata": {
    "ExecuteTime": {
     "end_time": "2021-01-02T12:47:48.404361Z",
     "start_time": "2021-01-02T12:47:47.795941Z"
    }
   },
   "outputs": [],
   "source": [
    "# Plot\n",
    "colors = [\"#118AB2\", \"#EF476F\", \"#d9d9d9\"]\n",
    "sns.lmplot('days_trading', 'first_close_to_rec_close', data=sa_mc_df, hue='Stock Sector', \n",
    "           palette=colors[0:3], scatter_kws={\"s\": 100}, fit_reg=True, height=6, aspect=1.6)\n",
    "plt.title(\"Performance Over Time\", fontsize=20)\n",
    "plt.suptitle(f\"{stock_market_cap} IPOs\", fontsize=15)\n",
    "plt.ylabel(\"YOY Change\")\n",
    "plt.xlabel(\"Days Trading\")\n",
    "plt.grid(which=\"major\", axis='both', color='#e6e6e6', zorder=0)\n"
   ]
  },
  {
   "cell_type": "code",
   "execution_count": null,
   "metadata": {
    "ExecuteTime": {
     "end_time": "2020-12-31T19:02:46.738442Z",
     "start_time": "2020-12-31T19:02:46.543932Z"
    }
   },
   "outputs": [],
   "source": [
    "# remove stocks with None or blank as sector / industry\n",
    "ax1 = sa_df.plot(kind=\"scatter\", x=\"market_cap\", y=\"first_close_to_rec_close\", c=colors[0], figsize=(8,7), zorder=3)\n",
    "ax.margins(0.05)"
   ]
  },
  {
   "cell_type": "code",
   "execution_count": null,
   "metadata": {
    "ExecuteTime": {
     "end_time": "2020-12-31T18:04:24.381347Z",
     "start_time": "2020-12-31T18:04:23.070832Z"
    }
   },
   "outputs": [],
   "source": [
    "sns.relplot(\n",
    "    data=sa_df,\n",
    "    x=\"days_trading\", y=\"first_close_to_rec_close\", col=\"market_cap_classification\", col_wrap=3,\n",
    "    hue=\"Stock Sector\", palette=colors[0:3]\n",
    ")"
   ]
  },
  {
   "cell_type": "code",
   "execution_count": null,
   "metadata": {},
   "outputs": [],
   "source": []
  }
 ],
 "metadata": {
  "kernelspec": {
   "display_name": "Python 3",
   "language": "python",
   "name": "python3"
  },
  "language_info": {
   "codemirror_mode": {
    "name": "ipython",
    "version": 3
   },
   "file_extension": ".py",
   "mimetype": "text/x-python",
   "name": "python",
   "nbconvert_exporter": "python",
   "pygments_lexer": "ipython3",
   "version": "3.7.4"
  },
  "toc": {
   "base_numbering": 1,
   "nav_menu": {},
   "number_sections": true,
   "sideBar": true,
   "skip_h1_title": false,
   "title_cell": "Table of Contents",
   "title_sidebar": "Contents",
   "toc_cell": false,
   "toc_position": {
    "height": "calc(100% - 180px)",
    "left": "10px",
    "top": "150px",
    "width": "245px"
   },
   "toc_section_display": true,
   "toc_window_display": true
  },
  "varInspector": {
   "cols": {
    "lenName": 16,
    "lenType": 16,
    "lenVar": 40
   },
   "kernels_config": {
    "python": {
     "delete_cmd_postfix": "",
     "delete_cmd_prefix": "del ",
     "library": "var_list.py",
     "varRefreshCmd": "print(var_dic_list())"
    },
    "r": {
     "delete_cmd_postfix": ") ",
     "delete_cmd_prefix": "rm(",
     "library": "var_list.r",
     "varRefreshCmd": "cat(var_dic_list()) "
    }
   },
   "types_to_exclude": [
    "module",
    "function",
    "builtin_function_or_method",
    "instance",
    "_Feature"
   ],
   "window_display": false
  }
 },
 "nbformat": 4,
 "nbformat_minor": 2
}
